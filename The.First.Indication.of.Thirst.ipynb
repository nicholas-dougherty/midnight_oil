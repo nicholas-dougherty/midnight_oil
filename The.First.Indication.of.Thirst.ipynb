{
 "cells": [
  {
   "cell_type": "markdown",
   "id": "5490c530",
   "metadata": {},
   "source": [
    "##### \"This kind of thinking will be part of the skill set of not only other scientists but of everyone else. Ubiquitous computing is to today as computational thinking is to tomorrow. Ubiquitous computing was yesterday’s dream that became today’s reality; computational thinking is tomorrow’s reality.\" Jeannette M. WIng - President's Professor of Computer Sciece in and head of the Computer Science Dept. at Carnegie Mellon University, Pittsburgh, PA, 2006. \n"
   ]
  },
  {
   "cell_type": "code",
   "execution_count": 1,
   "id": "001d2138",
   "metadata": {},
   "outputs": [
    {
     "name": "stdout",
     "output_type": "stream",
     "text": [
      "You've met with a terrible fate, haven't you?\n"
     ]
    }
   ],
   "source": [
    "print('You\\'ve met with a terrible fate, haven\\'t you?')"
   ]
  },
  {
   "cell_type": "markdown",
   "id": "2af3694a",
   "metadata": {},
   "source": [
    "First, a review of previous material. \n",
    "* bool: boolean values, either True or False; an answer to a yes/no question. \n",
    "* str: (string) a sequence of characters \"strung\" together\n",
    "* int: whole or counting numbers\n",
    "* float: decimal numbers\n",
    "* list: an ordered sequence of objects\n",
    "* dict: a collection of values that have names\n",
    "* NoneType: a special value that indicates absence of a value. \n"
   ]
  },
  {
   "cell_type": "markdown",
   "id": "163c6119",
   "metadata": {},
   "source": [
    "The type, which is to say the classification, of any object is discoverable through the built-in type() function. The object is given as the argument. Type(123) outputs int; type('hello') outputs str; type(True) outputs bool.   \n",
    "\n",
    "Variables are a method of storing a value with a callable name. Variables are created by choosing a valid __identifier__ and using the __assignment operator__, =.    \n",
    "\n",
    "There are multiple naming conventions. Snake_case is one of these, wherein the variables are all lower case, and words are separated via underscores. This convention will be my starting style.  \n",
    "\n",
    "Variables can be self-referential when assigned or re-assigned. To programmers, this can be confusing or peculiar, but bear in mind that the = opeartor __does not__ mean equal to, it means _assign_ to. The double-equal == operator expresses equality comparisons in Python. "
   ]
  },
  {
   "cell_type": "markdown",
   "id": "ad1cd357",
   "metadata": {},
   "source": [
    "Strings are used to represent arbitrary text. They are delimited __[delimit v. - determine the limits or boundaries of]__ with either single or double quotes. IOT have a string that contains a quote, you must either use the opposite type of quote, or _escape_ the string. This escape is performed when a character inside a string is preceded by a blackslash, and it takes on a special meaning instead of a literal value. The latter was seen in the Happy Mask Salesman quote in the second markdown box up above.   \n",
    "\n",
    "Delimitation is also performed with three quotes, which permit multiple lines without use of \\n. String can be compared using the == and != operators. Texts can also be concatenated __[concatenate: v- link (things) together in a chain or series]__ with the + operator. A string can also be repeated with the * operator and a number.\n",
    "\n"
   ]
  },
  {
   "cell_type": "code",
   "execution_count": 3,
   "id": "70d18080",
   "metadata": {},
   "outputs": [
    {
     "name": "stdout",
     "output_type": "stream",
     "text": [
      "Sit down, stand up\n",
      "Sit down, stand up\n",
      "Walk into the jaws of Hell\n",
      "Walk into the jaws of Hell\n",
      "Anytime\n",
      "Anytime\n",
      "Sit down, stand up\n",
      "Sit down, stand up\n",
      "We can wipe you out anytime\n",
      "We can wipe you out\n",
      "Anytime\n",
      "Anytime\n",
      "Stand up, sit down\n",
      "The raindrops The raindrops The raindrops The raindrops The raindrops The raindrops The raindrops The raindrops The raindrops The raindrops The raindrops The raindrops The raindrops The raindrops The raindrops The raindrops The raindrops The raindrops The raindrops The raindrops The raindrops The raindrops The raindrops The raindrops The raindrops The raindrops The raindrops The raindrops The raindrops The raindrops The raindrops The raindrops The raindrops The raindrops The raindrops The raindrops The raindrops The raindrops The raindrops The raindrops The raindrops The raindrops The raindrops The raindrops The raindrops The raindrops The raindrops The raindrops \n"
     ]
    }
   ],
   "source": [
    "print('''Sit down, stand up\n",
    "Sit down, stand up\n",
    "Walk into the jaws of Hell\n",
    "Walk into the jaws of Hell\n",
    "Anytime\n",
    "Anytime\n",
    "Sit down, stand up\n",
    "Sit down, stand up\n",
    "We can wipe you out anytime\n",
    "We can wipe you out\n",
    "Anytime\n",
    "Anytime\n",
    "Stand up, sit down''')\n",
    "print('The raindrops ' * 48)"
   ]
  },
  {
   "cell_type": "markdown",
   "id": "f4224b09",
   "metadata": {},
   "source": [
    "__STRING FORMATTING__: Commonly, strings need to contain the contents of a variable. There are several different ways to include variables in strings.    \n",
    "- % formatting: a little older, but still fairly common. \n",
    "- .format: a newer way to format strings.\n",
    "- f-strings: introduced in Python 3.6, comparable to string interpolation __[interpolation: the insertion of something of a different nature into something else]__ in other languages.    \n",
    "Demonstrations of each listed below. \n"
   ]
  },
  {
   "cell_type": "code",
   "execution_count": 14,
   "id": "18a3123a",
   "metadata": {},
   "outputs": [
    {
     "name": "stdout",
     "output_type": "stream",
     "text": [
      "Hello, Earthlings!\n",
      "Hello, Earthlings?\n",
      "Hello, Earthlings...\n"
     ]
    }
   ],
   "source": [
    "name = 'Earthlings'\n",
    "print('Hello, %s!' % name)\n",
    "print('Hello, {}?'.format(name))\n",
    "print(f'Hello, {name}...')"
   ]
  },
  {
   "cell_type": "markdown",
   "id": "04c35f56",
   "metadata": {},
   "source": [
    "__STRING METHODS__: String objects have many useful methods to perform common text manipulation tasks.    \n",
    "- .lower and .upper: convert the string to all lower or upper case.    \n",
    "- .strip: remove any leading and trailing whitespace from the string.    \n",
    "- .isdigit: test whether or not the string is a number.   \n",
    "- .split: convert a string to a list.    \n",
    "- .join: convert a list to a string.    \n",
    "\n"
   ]
  },
  {
   "cell_type": "markdown",
   "id": "af5b01c6",
   "metadata": {},
   "source": [
    "__LISTS__: Lists allows us to store a sequence of _objects_. Items in a list are referred to as _elements_. The elements of a list can be any type(including another list), but it is most common to see lists where each element is the same type. Lists are delimited and characterized by brackets.    \n",
    "\n",
    "__LIST COMPREHENSIONS__: Lists can be created with _list comprehensions_. These are shorthand ways to specify which elements should be in a list. These share some of the same syntax loops.   \n",
    "An example of a list comprehension: \n"
   ]
  },
  {
   "cell_type": "code",
   "execution_count": 16,
   "id": "015729c0",
   "metadata": {},
   "outputs": [
    {
     "data": {
      "text/plain": [
       "[0, 69, 138, 207, 276, 345, 414, 483, 552, 621]"
      ]
     },
     "execution_count": 16,
     "metadata": {},
     "output_type": "execute_result"
    }
   ],
   "source": [
    "comprehend_this = [n * 69 for n in range(10)]\n",
    "comprehend_this"
   ]
  },
  {
   "cell_type": "markdown",
   "id": "1c3c72fc",
   "metadata": {},
   "source": [
    "__LIST OPERATIONS__: Items can be added to a list with __.append__ and removed with __.pop__.      \n",
    "\n",
    "The length of a list can be obtained via the built-in __len()__ function.     \n",
    "\n",
    "Individual elements can be referenced by their index, which starts from zero. _NOTE: Python (and most other computer languages) utilize zero-index_. This in mind, the element at index 0 is the _first_ element of that list, and the final element is located at the index that is one less than the list length (but not as indicated by the len() function; the len() output is the final number of the list; so if len() outputs five, then there are six elements in the list.     \n",
    "\n",
    "__Slices__ of a list are obtained by using a colon to indicate a range inside of the square bracked. For example, comprehend_this[:2] returns everything up to, but not including, the element at index 2. "
   ]
  },
  {
   "cell_type": "code",
   "execution_count": 21,
   "id": "3bb88e5b",
   "metadata": {},
   "outputs": [
    {
     "name": "stdout",
     "output_type": "stream",
     "text": [
      "[0, 69]\n",
      "[69]\n",
      "[69, 138, 207, 276, 345, 414, 483, 552, 621]\n",
      "lulz\n",
      "[69, 138, 207, 276, 345, 414, 483, 552, 621, 69]\n"
     ]
    }
   ],
   "source": [
    "print(comprehend_this[:2])\n",
    "print(comprehend_this[1:2])\n",
    "print(comprehend_this[1:]) #everything from index 1 to the end of the list\n",
    "print('lulz')\n",
    "#if I want to start with 69 and end with 69. \n",
    "comprehend_this.append(69)\n",
    "print(comprehend_this[1:])"
   ]
  },
  {
   "cell_type": "markdown",
   "id": "ea59a9d8",
   "metadata": {},
   "source": [
    "__Converting to a List__: Many Python functions return an _iterable_, as opposed to a list.....WAIT   \n",
    "\n",
    "__ITERATION__ is one of the most impost concepts in Python, and deserves an aside. This term does not fly solo, accompanied by two other pertinent names: __iterators__ and __iterables__. In keeping with an essential principle of software development, _Don't repeat yourself_, \"every piece of knowledge must have a single, unambiguous, authoritative representation within a system.\" One specific application of this principle is through the use of ITERATION that involves going over a list of items. One of the most basic forms of this is through a __for loop__.      \n",
    "\n",
    "In layman's language, ITERATION means \"repetition of steps.\" ITERABLES are objects that can be iterated in these iterations. Objects like lists, tuples, sets, dictionaries, strings, et cetera, are called iterables. Each of these can be looped through/over. Think of an iterable as a container that has data or values, this container is explored through iteration to get elements. The ITERATOR is an object representing a stream of data that produces a data values at a time using the next() method. In Python, an iterator is an object which implements the iterator protocol, which means it consists of the methods such as  __iter__() and __next__().     \n",
    "\n",
    "\\\\\\The __next__() method takes no arguments and always returns the next element of the stream. If there are no more elements in the stream, __next__() must raise the StopIteration exception. Iterators don’t have to be finite. It’s perfectly reasonable to write an iterator that produces an infinite stream of data.\\\\\\     \n",
    "\n",
    "###### Relationship between Iterators and Iterables\n",
    "Iterators are Iterables, so an iterator can be used in a FOR LOOP. However, the inverse is not always true. As an example, iterables like strings and lists are not iterators insofar as they do not have the next()method. \n",
    "\n",
    "https://www.analyticsvidhya.com/blog/2021/07/everything-you-should-know-about-iterables-and-iterators-in-python-as-a-data-scientist/ fed much of my learning here, but further education is needed, as this is a bit dense. Moving on for now\n",
    "\n"
   ]
  },
  {
   "cell_type": "markdown",
   "id": "d099e8eb",
   "metadata": {},
   "source": [
    "#### AHEM\n",
    "As I was saying, many pythons return an iterable as opposed to a list (reminder that list can be used as an interator, but not an iterable). For example, the range function returns an iterable range object not a list. These type of objects can be converted to a list by using the list function."
   ]
  },
  {
   "cell_type": "code",
   "execution_count": 23,
   "id": "ff5e8d9b",
   "metadata": {},
   "outputs": [
    {
     "data": {
      "text/plain": [
       "['1', '2', '3']"
      ]
     },
     "execution_count": 23,
     "metadata": {},
     "output_type": "execute_result"
    }
   ],
   "source": [
    "list(map(str, [1, 2, 3]))\n",
    "# map() function returns a map object(which is an iterator)\n",
    "#of the results after applying the given function to each\n",
    "#item of a given iterable (list, tuple etc.)\n",
    "# SYNTAX map(fun, iter)\n",
    "#NOTE : The returned value from map() (map object) then can be \n",
    "#passed to functions like list() (to create a list), set() (to create a set)"
   ]
  },
  {
   "cell_type": "markdown",
   "id": "3048098f",
   "metadata": {},
   "source": [
    "#### Okay, but seriously, WHAT ARE LIST COMPREHENSIONS, REALLY?\n",
    "Should have raised this question in class, but here we are. List comprehensions are a tool for transforming one list(any iterable, actually) into another list. Using the elements of a list to generate a fresh one. During this transformation, elements can be conditionally included in the new list and each element can be transformed as needed.   \n",
    "\n",
    "Although I am not familiar with functional programming, https://treyhunner.com/2015/12/python-list-comprehensions-now-in-color/ Trey Hunner is, and he compares it to syntactic sugar for a [filter] followed by a [map]:"
   ]
  },
  {
   "cell_type": "code",
   "execution_count": 31,
   "id": "645b5863",
   "metadata": {},
   "outputs": [
    {
     "name": "stdout",
     "output_type": "stream",
     "text": [
      "[1, 2, 3, 4, 5]\n"
     ]
    },
    {
     "data": {
      "text/plain": [
       "[2, 6, 10]"
      ]
     },
     "execution_count": 31,
     "metadata": {},
     "output_type": "execute_result"
    }
   ],
   "source": [
    "numbers = [1, 2, 3, 4, 5]\n",
    "\n",
    "doubled_odds = map(lambda n: n* 2, filter(lambda n: n % 2 == 1, numbers))\n",
    "doubled_odds = [n * 2 for n in numbers if n % 2 == 1]\n",
    "\n",
    "print(numbers[:]) # just a quick check. \n",
    "doubled_odds"
   ]
  },
  {
   "cell_type": "markdown",
   "id": "f1711c69",
   "metadata": {},
   "source": [
    "All list comprehensions can be rewritten as a FOR LOOP but not every FOR LOOP can be rewritten as a list comprehension. If you can rewrite your code to look _just like this_ FOR LOOP, you also rewrite it as a list comprehension:"
   ]
  },
  {
   "cell_type": "markdown",
   "id": "b41bac3a",
   "metadata": {},
   "source": [
    "new_things = []     \n",
    "for ITEM in old_things:      \n",
    "    if condition_based_on(ITEM):     \n",
    "        new_things.append(\"something with\" + ITEM)     \n",
    "        \n",
    "    #this can be rewritten as a list comprehension like this:\n",
    "    \n",
    "new_things = [\"something with \" + ITEM for ITEM in old_things if condition_based_on(ITEM)]      \n",
    "\n",
    "#This was done with some sodium-free CopyPasta(Copyright of CopiousCopiumCopyWriter(Trademark of Traitor Mark)     \n",
    "\n",
    "\n",
    "Here’s the order we copy-paste in:    \n",
    "\n",
    "- Copy the variable assignment for our new empty list (line 3)\n",
    "- Copy the expression that we’ve been append-ing into this new list (line 6)\n",
    "- Copy the for loop line, excluding the final : (line 4)\n",
    "- Copy the if statement line, also without the : (line 5)\n"
   ]
  },
  {
   "cell_type": "code",
   "execution_count": 37,
   "id": "6b798c99",
   "metadata": {},
   "outputs": [
    {
     "data": {
      "text/plain": [
       "[2, 6, 10]"
      ]
     },
     "execution_count": 37,
     "metadata": {},
     "output_type": "execute_result"
    }
   ],
   "source": [
    "# using the variable above, now as a For Loop\n",
    "\n",
    "doubled_odds = []\n",
    "for n in numbers:\n",
    "    if n% 2 == 1:\n",
    "        doubled_odds.append(n * 2)\n",
    "\n",
    "doubled_odds\n",
    "\n",
    "\n",
    "#We copy-paste from a for loop into a list comprehension by:\n",
    "\n",
    "#. Copying the variable assignment for our new empty list\n",
    "# Copying the expression that we’ve been append-ing into this new list\n",
    "#. Copying the for loop line, excluding the final :\n",
    "# Copying the if statement line, also without the :\n",
    "\n",
    "\n",
    "# RETURN TO https://treyhunner.com/2015/12/python-list-comprehensions-now-in-color/ and continue\n",
    "# from Unconditional Comprehensions SSSSOOOOOOONNNNNNNNNN. "
   ]
  },
  {
   "cell_type": "markdown",
   "id": "251043a3",
   "metadata": {},
   "source": [
    "__TUPLES__: Tuples are similar to lists, except they are _immutable_ __[unchanging over time or unable to be changed.]__. Once a tuple is created, its length is fixed and no additional items can be added to or removed from it. The elements can be accessed in the same way as a list. Unlike a list, it is delimited via parentheses. Generally speaking, typles are used when the elements are of different types.    \n",
    "\n",
    "__DICTIONARIES__: Dictionaries are a way to group values together and assign a name to each value. These names for the values in a dictionary are sometimes called _keys_. It is common to refer to a dictionary as a group of _key-value pairs_. Dictionaries can be created by writing a _dictionary literal_, which is delimited with curly braces; the keys are separated from the other values with a colon, & key-value pairs are separated by commas. There is also a built-in dict function which can create these. \n"
   ]
  },
  {
   "cell_type": "code",
   "execution_count": null,
   "id": "8e911dbc",
   "metadata": {},
   "outputs": [],
   "source": []
  }
 ],
 "metadata": {
  "kernelspec": {
   "display_name": "Python 3 (ipykernel)",
   "language": "python",
   "name": "python3"
  },
  "language_info": {
   "codemirror_mode": {
    "name": "ipython",
    "version": 3
   },
   "file_extension": ".py",
   "mimetype": "text/x-python",
   "name": "python",
   "nbconvert_exporter": "python",
   "pygments_lexer": "ipython3",
   "version": "3.9.7"
  }
 },
 "nbformat": 4,
 "nbformat_minor": 5
}
