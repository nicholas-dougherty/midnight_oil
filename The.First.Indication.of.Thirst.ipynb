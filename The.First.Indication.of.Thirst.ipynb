{
 "cells": [
  {
   "cell_type": "markdown",
   "id": "43568dc8",
   "metadata": {},
   "source": [
    "##### \"This kind of thinking will be part of the skill set of not only other scientists but of everyone else. Ubiquitous computing is to today as computational thinking is to tomorrow. Ubiquitous computing was yesterday’s dream that became today’s reality; computational thinking is tomorrow’s reality.\" Jeannette M. WIng - President's Professor of Computer Sciece in and head of the Computer Science Dept. at Carnegie Mellon University, Pittsburgh, PA, 2006. \n"
   ]
  },
  {
   "cell_type": "code",
   "execution_count": 1,
   "id": "7bb343ba",
   "metadata": {},
   "outputs": [
    {
     "name": "stdout",
     "output_type": "stream",
     "text": [
      "You've met with a terrible fate, haven't you?\n"
     ]
    }
   ],
   "source": [
    "print('You\\'ve met with a terrible fate, haven\\'t you?')"
   ]
  },
  {
   "cell_type": "markdown",
   "id": "733f485e",
   "metadata": {},
   "source": [
    "First, a review of previous material. \n",
    "* bool: boolean values, either True or False; an answer to a yes/no question. \n",
    "* str: (string) a sequence of characters \"strung\" together\n",
    "* int: whole or counting numbers\n",
    "* float: decimal numbers\n",
    "* list: an ordered sequence of objects\n",
    "* dict: a collection of values that have names\n",
    "* NoneType: a special value that indicates absence of a value. \n"
   ]
  },
  {
   "cell_type": "markdown",
   "id": "8c41efde",
   "metadata": {},
   "source": [
    "The type, which is to say the classification, of any object is discoverable through the built-in type() function. The object is given as the argument. Type(123) outputs int; type('hello') outputs str; type(True) outputs bool.   \n",
    "\n",
    "Variables are a method of storing a value with a callable name. Variables are created by choosing a valid __identifier__ and using the __assignment operator__, =.    \n",
    "\n",
    "There are multiple naming conventions. Snake_case is one of these, wherein the variables are all lower case, and words are separated via underscores. This convention will be my starting style.  \n",
    "\n",
    "Variables can be self-referential when assigned or re-assigned. To programmers, this can be confusing or peculiar, but bear in mind that the = opeartor __does not__ mean equal to, it means _assign_ to. The double-equal == operator expresses equality comparisons in Python. "
   ]
  },
  {
   "cell_type": "markdown",
   "id": "4999e682",
   "metadata": {},
   "source": [
    "Strings are used to represent arbitrary text. They are delimited __[delimit v. - determine the limits or boundaries of]__ with either single or double quotes. IOT have a string that contains a quote, you must either use the opposite type of quote, or _escape_ the string. This escape is performed when a character inside a string is preceded by a blackslash, and it takes on a special meaning instead of a literal value. The latter was seen in the Happy Mask Salesman quote in the second markdown box up above.   \n",
    "\n",
    "Delimitation is also performed with three quotes, which permit multiple lines without use of \\n. String can be compared using the == and != operators. Texts can also be concatenated __[concatenate: v- link (things) together in a chain or series]__ with the + operator. A string can also be repeated with the * operator and a number.\n",
    "\n"
   ]
  },
  {
   "cell_type": "code",
   "execution_count": 3,
   "id": "7ec0fbf0",
   "metadata": {},
   "outputs": [
    {
     "name": "stdout",
     "output_type": "stream",
     "text": [
      "Sit down, stand up\n",
      "Sit down, stand up\n",
      "Walk into the jaws of Hell\n",
      "Walk into the jaws of Hell\n",
      "Anytime\n",
      "Anytime\n",
      "Sit down, stand up\n",
      "Sit down, stand up\n",
      "We can wipe you out anytime\n",
      "We can wipe you out\n",
      "Anytime\n",
      "Anytime\n",
      "Stand up, sit down\n",
      "The raindrops The raindrops The raindrops The raindrops The raindrops The raindrops The raindrops The raindrops The raindrops The raindrops The raindrops The raindrops The raindrops The raindrops The raindrops The raindrops The raindrops The raindrops The raindrops The raindrops The raindrops The raindrops The raindrops The raindrops The raindrops The raindrops The raindrops The raindrops The raindrops The raindrops The raindrops The raindrops The raindrops The raindrops The raindrops The raindrops The raindrops The raindrops The raindrops The raindrops The raindrops The raindrops The raindrops The raindrops The raindrops The raindrops The raindrops The raindrops \n"
     ]
    }
   ],
   "source": [
    "print('''Sit down, stand up\n",
    "Sit down, stand up\n",
    "Walk into the jaws of Hell\n",
    "Walk into the jaws of Hell\n",
    "Anytime\n",
    "Anytime\n",
    "Sit down, stand up\n",
    "Sit down, stand up\n",
    "We can wipe you out anytime\n",
    "We can wipe you out\n",
    "Anytime\n",
    "Anytime\n",
    "Stand up, sit down''')\n",
    "print('The raindrops ' * 48)"
   ]
  },
  {
   "cell_type": "markdown",
   "id": "ede82d68",
   "metadata": {},
   "source": [
    "__STRING FORMATTING__: Commonly, strings need to contain the contents of a variable. There are several different ways to include variables in strings.    \n",
    "- % formatting: a little older, but still fairly common. \n",
    "- .format: a newer way to format strings.\n",
    "- f-strings: introduced in Python 3.6, comparable to string interpolation __[interpolation: the insertion of something of a different nature into something else]__ in other languages.    \n",
    "Demonstrations of each listed below. \n"
   ]
  },
  {
   "cell_type": "code",
   "execution_count": 14,
   "id": "05a70ce7",
   "metadata": {},
   "outputs": [
    {
     "name": "stdout",
     "output_type": "stream",
     "text": [
      "Hello, Earthlings!\n",
      "Hello, Earthlings?\n",
      "Hello, Earthlings...\n"
     ]
    }
   ],
   "source": [
    "name = 'Earthlings'\n",
    "print('Hello, %s!' % name)\n",
    "print('Hello, {}?'.format(name))\n",
    "print(f'Hello, {name}...')"
   ]
  },
  {
   "cell_type": "markdown",
   "id": "62e48e7c",
   "metadata": {},
   "source": [
    "__STRING METHODS__: String objects have many useful methods to perform common text manipulation tasks.    \n",
    "- .lower and .upper: convert the string to all lower or upper case.    \n",
    "- .strip: remove any leading and trailing whitespace from the string.    \n",
    "- .isdigit: test whether or not the string is a number.   \n",
    "- .split: convert a string to a list.    \n",
    "- .join: convert a list to a string.    \n",
    "\n"
   ]
  },
  {
   "cell_type": "markdown",
   "id": "07a34396",
   "metadata": {},
   "source": [
    "__LISTS__: Lists allows us to store a sequence of _objects_. Items in a list are referred to as _elements_. The elements of a list can be any type(including another list), but it is most common to see lists where each element is the same type. Lists are delimited and characterized by brackets.    \n",
    "\n",
    "__LIST COMPREHENSIONS__: Lists can be created with _list comprehensions_. These are shorthand ways to specify which elements should be in a list. These share some of the same syntax loops.   \n",
    "An example of a list comprehension: \n"
   ]
  },
  {
   "cell_type": "code",
   "execution_count": 16,
   "id": "019b6570",
   "metadata": {},
   "outputs": [
    {
     "data": {
      "text/plain": [
       "[0, 69, 138, 207, 276, 345, 414, 483, 552, 621]"
      ]
     },
     "execution_count": 16,
     "metadata": {},
     "output_type": "execute_result"
    }
   ],
   "source": [
    "comprehend_this = [n * 69 for n in range(10)]\n",
    "comprehend_this"
   ]
  },
  {
   "cell_type": "markdown",
   "id": "63a67649",
   "metadata": {},
   "source": [
    "__LIST OPERATIONS__: Items can be added to a list with __.append__ and removed with __.pop__.      \n",
    "\n",
    "The length of a list can be obtained via the built-in __len()__ function.     \n",
    "\n",
    "Individual elements can be referenced by their index, which starts from zero. _NOTE: Python (and most other computer languages) utilize zero-index_. This in mind, the element at index 0 is the _first_ element of that list, and the final element is located at the index that is one less than the list length (but not as indicated by the len() function; the len() output is the final number of the list; so if len() outputs five, then there are six elements in the list.     \n",
    "\n",
    "__Slices__ of a list are obtained by using a colon to indicate a range inside of the square bracked. For example, comprehend_this[:2] returns everything up to, but not including, the element at index 2. "
   ]
  },
  {
   "cell_type": "code",
   "execution_count": 21,
   "id": "ab2c175b",
   "metadata": {},
   "outputs": [
    {
     "name": "stdout",
     "output_type": "stream",
     "text": [
      "[0, 69]\n",
      "[69]\n",
      "[69, 138, 207, 276, 345, 414, 483, 552, 621]\n",
      "lulz\n",
      "[69, 138, 207, 276, 345, 414, 483, 552, 621, 69]\n"
     ]
    }
   ],
   "source": [
    "print(comprehend_this[:2])\n",
    "print(comprehend_this[1:2])\n",
    "print(comprehend_this[1:]) #everything from index 1 to the end of the list\n",
    "print('lulz')\n",
    "#if I want to start with 69 and end with 69. \n",
    "comprehend_this.append(69)\n",
    "print(comprehend_this[1:])"
   ]
  },
  {
   "cell_type": "code",
   "execution_count": null,
   "id": "b6aa7e73",
   "metadata": {},
   "outputs": [],
   "source": []
  }
 ],
 "metadata": {
  "kernelspec": {
   "display_name": "Python 3 (ipykernel)",
   "language": "python",
   "name": "python3"
  },
  "language_info": {
   "codemirror_mode": {
    "name": "ipython",
    "version": 3
   },
   "file_extension": ".py",
   "mimetype": "text/x-python",
   "name": "python",
   "nbconvert_exporter": "python",
   "pygments_lexer": "ipython3",
   "version": "3.9.7"
  }
 },
 "nbformat": 4,
 "nbformat_minor": 5
}
