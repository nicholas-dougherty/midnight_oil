{
 "cells": [
  {
   "cell_type": "markdown",
   "id": "33d7829d-e0aa-4ba0-b0f0-1c983b8b5393",
   "metadata": {},
   "source": [
    "# Thinking Like a Computer Scientist\n",
    "[Online Book](https://openbookproject.net/thinkcs/python/english3e/way_of_the_program.html)\n",
    "\n",
    "- What is a program?     \n",
    "A program is a sequence of instructions that specifies how to perform a computation. \n",
    "- What is debugging?      \n",
    "Programming is a complex process, and because it is done by human beings, it often leads to errors. Programming errors are called bugs and the process of tracking them down and correcting them is called debugging. Use of the term bug to describe small engineering difficulties dates back to at least 1889, when Thomas Edison had a bug with his phonograph.     \n",
    "- Three kinds of errors can occur in a program:\n",
    "  - Syntax Errors\n",
    "    - Syntax refers to the structure of a program and the rules about that structure. \n",
    "  - Runtime Errors\n",
    "    - This error does not appear until you run the program; also called exceptions because they indication something exceptional (bad) has happened.\n",
    "  - Semantic Errors\n",
    "    - Semantic errors will run successfully, in the sense that the computer will not generate any error message, but it will not do the right thing. \n",
    "Debuggign is like an experimental science, or like detective work. \n",
    "\n",
    "### Formal and Natural Languages\n",
    "__Natural Languages__ are the languages that people speak, like English, Spanish, French, Arabic, et cetera. They were not 'designed' by people; they evolved naturaly.\n",
    "__Formal Languages__ are languages that are designed by people for specific applications. For example, the notation that mathematicians use is a formal language that is particularlly good at denoting relationships among numbers and symbols. \n",
    "- _Programming languages are formal languages that have been designed to express computations._\n",
    "Syntax rules come in two flavors, perataining to tokens and structure. Tokens are the basic elements of the language, such as words, numbers, parentheses, commas, and so on. Structure is the way which tokens are arranged. \n",
    "\n",
    "### Initial Glossary:\n",
    "- Algorithm\n",
    "  - A set of specific steps for solving a category of problems\n",
    "- Bug\n",
    "  - An error in a program\n",
    "- Comment\n",
    "  - Information in a program that is meant for other programmers and has no effect on the execution of a program\n",
    "- Debugging\n",
    "  - The process of finding and removing any of the three kinds of programming errors. \n",
    "- Exception\n",
    "  - Another name for a runtime error\n",
    "- Formal language\n",
    "  - Any one of the languages that people have designed for specific purposes, such as representing mathematic concepts\n",
    "- high-level language\n",
    "  - A programming language like Python that is designed to be easy for humans to read and write\n",
    "- Immediate Mode\n",
    "  - A style of using Python where we type expressions at the command prompt, and the results are shown immediately. \n",
    "- Interpreter\n",
    "  - The engine that executes your Python scripts or expressions\n",
    "- Low-level language\n",
    "  - A programming language that is designed to be easy for a computer to execute; also called machine language or assembly language.\n",
    "- Natural language\n",
    "  - Any one of the languages that people speak that evolved naturally.\n",
    "- Object code\n",
    "  - The output of the compiler after it translates the program.\n",
    "- Parse\n",
    "  - To examine a program and analyze the syntactic structure.\n",
    "- Portability\n",
    "  - a property of a program that can run on more than one kind of computer. \n",
    "- Print function\n",
    "  - A function used in a program or script that causes the Python interpreter to display a value on its output device. \n",
    "- Problem Solving \n",
    "  - The process of formulating a problem, finding a solution, and expressing the solution. \n",
    "- Program\n",
    "  - A sequence of instructions that specifies to a computer actions and computations to be performed. \n",
    "- Python shell\n",
    "  - An interactive user interface to the Python interpreter. The word shell comes from Unix. \n",
    "- Runtime Error\n",
    "  - An error that does not occur until the program has started to execute but that prevents the program from continuing. \n",
    "- Script\n",
    "  - A program stored in a file\n",
    "- Semantic Error\n",
    "  - An error in a program that makes it do something other than what the programmer intended.\n",
    "- Semantics\n",
    "  - The meaning of a program\n",
    "- Source Code\n",
    "  - A program in a high-level language before being compiled\n",
    "- Syntax\n",
    "  - The structure of a program\n",
    "- Syntax Error\n",
    "  - An error in a program that makes it impossible to parse--and therefore impossible to interpret\n",
    "- Token\n",
    "  - One of the basic elements of the syntactic structure of a program, analogous to a word in a natural language."
   ]
  },
  {
   "cell_type": "markdown",
   "id": "b89cdd19-c525-4e88-bde6-209e1c2a0332",
   "metadata": {},
   "source": [
    "***\n",
    "#### Evaluating Expressions\n",
    "An expression is a combination of values, variables, operators, and calls to functions. If you type an expression at the Python prompt, the interpreter evaluates it and displays the results.\n",
    "#### Operators and Operands\n",
    "Operators are special tokens that represent computations like addition, multiplication and division. The values the operator uses are called operands.\n",
    "#### Type converter functions.\n",
    "The functions int, float, and str can be used to convert their arguments into their respective types/classes.The int function can take a floating point number or a string, and turn it into an int. For floating-point numbers, it discards the remainder(decimal portion of the number) via a process called truncation towards zero on the number line. ( converting to int won't round the number )\n",
    "\n",
    "Despite the lack of rounding, one other mathematical concept on my mind does translate into Python; that being, the rules of precedence (a.k.a. The Order of Operations--PEMDAS)"
   ]
  },
  {
   "cell_type": "code",
   "execution_count": 3,
   "id": "3622ceeb-8423-4543-8318-5e781cde98ce",
   "metadata": {},
   "outputs": [
    {
     "name": "stdin",
     "output_type": "stream",
     "text": [
      "How many seconds, in total? 696969\n"
     ]
    },
    {
     "name": "stdout",
     "output_type": "stream",
     "text": [
      "Hrs= 193   mins= 36 secs= 9\n"
     ]
    }
   ],
   "source": [
    "# Modulus Operator in Action\n",
    "total_secs = int(input(\"How many seconds, in total?\"))\n",
    "hours = total_secs // 3600\n",
    "secs_still_remaining = total_secs % 3600\n",
    "minutes =  secs_still_remaining // 60\n",
    "secs_finally_remaining = secs_still_remaining  % 60\n",
    "\n",
    "print(\"Hrs=\", hours, \"  mins=\", minutes,\n",
    "                         \"secs=\", secs_finally_remaining)"
   ]
  },
  {
   "cell_type": "markdown",
   "id": "8e5730eb-e2a9-47f4-9b38-343612cc419e",
   "metadata": {},
   "source": [
    "## Glossary Pt. 2. Acoustic Boogie-Loo\n",
    "\n",
    "- Assignment statement\n",
    "   - A statement that assigns a value to a name(variable). \n",
    "- Assignment token\n",
    "   - = is Python's assignment token. Do not connfuse it with equals, which is an operator for comparing values. \n",
    "- Composition\n",
    "   - The ability to combine simple expressions and statements into compound statements and expressions in order to represent complex computations concisely.\n",
    "- Concatenate\n",
    "   - To join two string end-to-end\n",
    "- Data type\n",
    "   - A set of values. The type of a value determines how it can be used in expressions. \n",
    "- Evaluate\n",
    "   - To simply an expression by performing the operations in order to yield a single value.\n",
    "- Expression\n",
    "   - A combination of variables, operators, and values that represents a single result value\n",
    "- Float\n",
    "   - A python data type which stores floating-point numbers. These are stored internally in two parts: a base and an exponent. \n",
    "- Floor division\n",
    "   - An operator (denoted by the token //) that divides one number by another and yields an integer, or, if the results is not already an integer, it yields the next smallest integer.\n",
    "- Int\n",
    "   - A python data type that holds positive and negative whole numbers\n",
    "- Keyword\n",
    "   - A reserved word that is used by the compiler to parse program; you cannot use keywords like if, def, and while as variable names\n",
    "- Modulus Operator\n",
    "   - An operator, denoted with a percent sign (%), that works on integers and yields the remainder when one number is divided by another\n",
    "- Operand\n",
    "   - One of the values on which an operator operates\n",
    "- Operator\n",
    "   - A special symbol that represents a simple computation like addition multiplication, or string concatenation\n",
    "- Rules of precedence\n",
    "   - the set of rules governing the order in which expressions involving multiple operators and operands are evaluated. \n",
    "- State Snapshot\n",
    "   - A graphical representation of a set of variables and the values to which they refer, taken at a particular instant during the program's execution. \n",
    "- Statement\n",
    "   - An instruction that the Python interpreter can execute. \n",
    "- Str\n",
    "   - A python data type that holds a string of characters\n",
    "- Value\n",
    "   - A number or string (or other things to be named later) that can be stored in a variable or computed in an expression\n",
    "- Variable\n",
    "   - A name that refers to a value\n",
    "- Variable name\n",
    "   - A name given to a variable. In best programming practice, variable names should be chosen so that they describe their use in the program, making the program self-documenting"
   ]
  },
  {
   "cell_type": "markdown",
   "id": "10cd9ebc-9d0a-407c-9a24-534653ee7ca7",
   "metadata": {},
   "source": [
    "***\n"
   ]
  },
  {
   "cell_type": "code",
   "execution_count": 20,
   "id": "d1db84a1-eb4d-41d1-ac0d-b70ee659ab6d",
   "metadata": {},
   "outputs": [],
   "source": [
    "import turtle             # Allows us to use turtles\n",
    "wn = turtle.Screen()      # Creates a playground for turtles\n",
    "alex = turtle.Turtle()    # Create a turtle, assign to alex\n",
    "\n",
    "alex.forward(50)          # Tell alex to move forward by 50 units\n",
    "alex.left(90)             # Tell alex to turn by 90 degrees\n",
    "alex.forward(30)          # Complete the second side of a rectangle\n",
    "\n",
    "wn.mainloop()             # Wait for user to close window"
   ]
  },
  {
   "cell_type": "code",
   "execution_count": 1,
   "id": "45f32092-2f41-4aa7-b6a9-f20b20a2578b",
   "metadata": {},
   "outputs": [],
   "source": [
    "import turtle\n",
    "wn = turtle.Screen()\n",
    "wn.bgcolor(\"lightgreen\")      # Set the window background color\n",
    "wn.title(\"Hello, Tess!\")      # Set the window title\n",
    "\n",
    "tess = turtle.Turtle()\n",
    "tess.color(\"blue\")            # Tell tess to change her color\n",
    "tess.pensize(3)               # Tell tess to set her pen width\n",
    "\n",
    "tess.forward(50)\n",
    "tess.left(120)\n",
    "tess.forward(50)\n",
    "\n",
    "wn.mainloop()"
   ]
  },
  {
   "cell_type": "markdown",
   "id": "eebd1d1a-fa0f-4b02-aedc-15361ee3d7ef",
   "metadata": {},
   "source": [
    "When we drew the square, it was quite tedious. We had to explicitly repeat the steps of moving and turning four times. If we were drawing a hexagon, or an octogon, or a polygon with 42 sides, it would have been worse.\n",
    "\n",
    "So a basic building block of all programs is to be able to repeat some code, over and over again.\n",
    "\n",
    "Python’s for loop solves this for us. Let’s say we have some friends, and we’d like to send them each an email inviting them to our party. We don’t quite know how to send email yet, so for the moment we’ll just print a message for each friend:"
   ]
  },
  {
   "cell_type": "code",
   "execution_count": 1,
   "id": "049e4f77-246a-444d-974b-a1e9a53f839f",
   "metadata": {},
   "outputs": [
    {
     "name": "stdout",
     "output_type": "stream",
     "text": [
      "Hi Joe.  Please come to my party on Saturday!\n",
      "Hi Zoe.  Please come to my party on Saturday!\n",
      "Hi Brad.  Please come to my party on Saturday!\n",
      "Hi Angelina.  Please come to my party on Saturday!\n",
      "Hi Zuki.  Please come to my party on Saturday!\n",
      "Hi Thandi.  Please come to my party on Saturday!\n",
      "Hi Paris.  Please come to my party on Saturday!\n"
     ]
    }
   ],
   "source": [
    "for f in [\"Joe\",\"Zoe\",\"Brad\",\"Angelina\",\"Zuki\",\"Thandi\",\"Paris\"]:\n",
    "    invite = \"Hi \" + f + \".  Please come to my party on Saturday!\"\n",
    "    print(invite)\n",
    "# more code can follow here ..."
   ]
  },
  {
   "cell_type": "code",
   "execution_count": 1,
   "id": "782d1616-ef1f-4198-a08b-76b50b11b37e",
   "metadata": {},
   "outputs": [],
   "source": [
    "#import turtle\n",
    "#wn = turtle.Screen()\n",
    "#wn.bgcolor(\"lightgreen\")\n",
    "#tess = turtle.Turtle()\n",
    "#tess.shape(\"turtle\")\n",
    "#tess.color(\"blue\")\n",
    "#\n",
    "#tess.penup()                # This is new\n",
    "#size = 20\n",
    "#for i in range(30):\n",
    "#    tess.stamp()             # Leave an impression on the canvas\n",
    "#    size = size + 3          # Increase the size on every iteration\n",
    "#    tess.forward(size)       # Move tess along\n",
    "#    tess.right(24)           #  ...  and turn her\n",
    "#\n",
    "#wn.mainloop()"
   ]
  },
  {
   "cell_type": "markdown",
   "id": "0f63bdcf-2946-47c4-9258-a0e0a5befd95",
   "metadata": {},
   "source": [
    "## Flow of execution\n",
    "In order to ensure that a function is defined before its first use, we have to know the order in which statements are executed, which is called the flow of execution. We’ve already talked about this a little in the previous chapter.\n",
    "\n",
    "Execution always begins at the first statement of the program. Statements are executed one at a time, in order from top to bottom.\n",
    "\n",
    "Function definitions do not alter the flow of execution of the program, but remember that statements inside the function are not executed until the function is called. Although it is not common, we can define one function inside another. In this case, the inner definition isn’t executed until the outer function is called.\n",
    "\n",
    "Function calls are like a detour in the flow of execution. Instead of going to the next statement, the flow jumps to the first line of the called function, executes all the statements there, and then comes back to pick up where it left off.\n",
    "\n",
    "That sounds simple enough, until we remember that one function can call another. While in the middle of one function, the program might have to execute the statements in another function. But while executing that new function, the program might have to execute yet another function!\n",
    "\n",
    "Fortunately, Python is adept at keeping track of where it is, so each time a function completes, the program picks up where it left off in the function that called it. When it gets to the end of the program, it terminates.\n",
    "\n",
    "What’s the moral of this sordid tale? When we read a program, don’t read from top to bottom. Instead, follow the flow of execution."
   ]
  },
  {
   "cell_type": "code",
   "execution_count": 2,
   "id": "c23fea0d-2dec-4ebb-8431-d38698f89f27",
   "metadata": {},
   "outputs": [
    {
     "name": "stdin",
     "output_type": "stream",
     "text": [
      "How much do you want to invest? 550\n"
     ]
    },
    {
     "name": "stdout",
     "output_type": "stream",
     "text": [
      "At the end of the period you'll have 819.4151395658828\n"
     ]
    }
   ],
   "source": [
    "def final_amt(p, r, n, t):\n",
    "    \"\"\"\n",
    "      Apply the compound interest formula to p\n",
    "       to produce the final amount.\n",
    "    \"\"\"\n",
    "\n",
    "    a = p * (1 + r/n) ** (n*t)\n",
    "    return a         # This is new, and makes the function fruitful.\n",
    "\n",
    "toInvest = float(input(\"How much do you want to invest?\"))\n",
    "fnl = final_amt(toInvest, 0.08, 12, 5)\n",
    "print(\"At the end of the period you'll have\", fnl)\n",
    "\n",
    "def final_amt_v2(principalAmount, nominalPercentageRate,\n",
    "                                    numTimesPerYear, years):\n",
    "    a = principalAmount * (1 + nominalPercentageRate /\n",
    "                         numTimesPerYear) ** (numTimesPerYear*years)\n",
    "    return a\n",
    "\n",
    "def final_amt_v3(amt, rate, compounded, years):\n",
    "    a = amt * (1 + rate/compounded) ** (componded*years)\n",
    "    return a"
   ]
  },
  {
   "cell_type": "markdown",
   "id": "95a111f8-7863-4e63-88a9-893e10e9b501",
   "metadata": {},
   "source": [
    "The line toInvest = float(input(\"How much do you want to invest?\")) also shows yet another example of composition — we can call a function like float, and its arguments can be the results of other function calls (like input) that we’ve called along the way.\n",
    "\n",
    "#### Variables and Parameters are Local\n",
    "When we create a local variable inside a function, it only exists inside the function, and we cannot use it outside. For example, consider again the previous function and its derivatives. If we try to use a outside of the function, we will get an error, unless a's value has been previously assigned to a variable name. \n",
    "Outisde of this caveat; a only exists while the function is being executed--we call this its lifetime. When the execution of the function terminates, the local variables are destroyed.       \n",
    "\n",
    "Parameters are also local, and act like local variables. For example, the lifetimes of p, r, n, t begin when final_amt is called, and the lifetime ends when the function completes its execution. So it is not possible for a function to set some local variable to a value, complete its execution, and then when it is called again next time, recover the local variable. Each call of the function creates new local variables, and their lifetimes expire when the function returns to the caller.\n",
    "\n",
    "  - \n",
    "### Glossary Yet Again\n",
    "- argument\n",
    "  - A value provided to a function when the function is called. This value is assigned to the corresponding parameter in the function. The argument can be the result of an expression why may involve operators, operands and calls to other fruitful functions.\n",
    "- body\n",
    "  - The second part of a compound statement. The body consists of a sequence of statements all indented the same amount from the beginning of the header. The stadnard amount of indentation used within the Python community is four spaces.\n",
    "- compound statement\n",
    "  - A statement that consists of two parts:\n",
    "    - 1. header - which begins with a keyword determining the statement type, and ends with a colon\n",
    "    - 2. body - containing one or more statements indented the same amount from the header. \n",
    "- docstring\n",
    "  - A special string that is attached to a function as its __doc__ attribute. Tools like PyScripter can use docstrings to provide documentation or hints for the programmer. When we get to modules, classes, and methods, we’ll see that docstrings can also be used there.\n",
    "- flow of execution\n",
    "  - The order in which statements are executed during a program run. \n",
    "- frame\n",
    "  - A box in a stack diagram that represents a function call. it contains the local variables and parameters of the function.\n",
    "- function\n",
    "  - A named sequence of statmenets that performs some useful operation. Functions may or may not take parameters and may or may not produce a result.\n",
    "- function call\n",
    "  - A statement that executes a function. It consists of the name of the function followed by a list of arguments enclosed in parentheses.\n",
    "- __function composition__\n",
    "  - Using the ouput from one function call as the input to another.\n",
    "- function definition\n",
    "  - A statement that creates a new function, specifying its name, parameters, and the statements it executes.\n",
    "- fruitful function\n",
    "  - a function that returns a value when it is called\n",
    "- header line\n",
    "  - the first part of a compound statement. The header line begins with a keyword and ends with a colon\n",
    "- import statement\n",
    "  - A statement which permits functions and variables defined in another Python module to be brought into the environment of another script.\n",
    "- lifetime\n",
    "  - Variables and objects have lifetimes--they are created at some point during program execution, and will be destroyed at some time\n",
    "- local variable\n",
    "  - A variable defined inside a function. A local variable can only be used inside its function. Parameters of a function are also a special kind of local variable.\n",
    "- parameter\n",
    "  - A name used inside a function to refer to the value which was passed to it as an argument\n",
    "- refactor\n",
    "  - A fancy word to describe reorganizing our program code, usually to make it more understandable. Typically, we hava. program that is already working, then we go back to \"tidy it up\". It often involves choosing better variables names, or spotting repeated patterns and moving that code into a function.\n",
    "- stack diagram\n",
    "  - A graphical representation of a stack of functions, their variables, and the values to which they refer.\n",
    "- traceback\n",
    "  - A list of the functions that are executing, printed when a runtime error occurs. A traceback is also commonly referred to as a stack trace, since it lists the functions in the order in which they are stored in the runtime stack.\n",
    "- void function\n",
    "  - The opposite of a fruitful function: one that does not return a value. It is executed for the work it does, rather than for the value it returns.\n",
    "***\n",
    "## Boolean values and expressions\n",
    "A Boolean value is either true or false. It is named after the British mathematician, _George Boole_, who first formulated Boolean algebra — some rules for reasoning about and combining these values. This is the basis of all modern computer logic.        \n",
    "The == operator is one of six common comparison operators which all produce a bool result; here are all six:"
   ]
  },
  {
   "cell_type": "code",
   "execution_count": 5,
   "id": "99a0a85d-6ae3-4781-8a36-e090adf4bea6",
   "metadata": {},
   "outputs": [
    {
     "name": "stdout",
     "output_type": "stream",
     "text": [
      "False\n",
      "True\n",
      "False\n",
      "True\n",
      "False\n",
      "True\n"
     ]
    }
   ],
   "source": [
    "x = 2\n",
    "y = 4\n",
    "print(x == y)               # Produce True if ... x is equal to y\n",
    "print(x != y)               # ... x is not equal to y\n",
    "print(x > y)                # ... x is greater than y\n",
    "print(x < y)                # ... x is less than y\n",
    "print(x >= y)               # ... x is greater than or equal to y\n",
    "print(x <= y)               # ... x is less than or equal to y"
   ]
  },
  {
   "cell_type": "markdown",
   "id": "f44e5828-7cad-420a-b4d6-915a07289e63",
   "metadata": {},
   "source": [
    "### Logical operators\n",
    "There are three logical operators, and, or, and not, that allow us to build more complex Boolean expressions from simpler Boolean expressions. The semantics (meaning) of these operators is similar to their meaning in English. For example, x > 0 and x < 10 produces True only if x is greater than 0 and at the same time, x is less than 10.\n",
    "\n",
    "n % 2 == 0 or n % 3 == 0 is True if either of the conditions is True, that is, if the number n is divisible by 2 or it is divisible by 3. (What do you think happens if n is divisible by both 2 and by 3 at the same time? Will the expression yield True or False? Try it in your Python interpreter.)\n",
    "\n",
    "Finally, the not operator negates a Boolean value, so not (x > y) is True if (x > y) is False, that is, if x is less than or equal to y.\n",
    "\n",
    "The expression on the left of the or operator is evaluated first: if the result is True, Python does not (and need not) evaluate the expression on the right — this is called short-circuit evaluation. Similarly, for the and operator, if the expression on the left yields False, Python does not evaluate the expression on the right.\n",
    "\n",
    "So there are no unnecessary evaluations.\n",
    "\n",
    "## Chained Conditionals\n",
    "Sometimes there are more than two possibilities and we need more than two branches. One way to express a computation like that is a chained conditional:"
   ]
  },
  {
   "cell_type": "code",
   "execution_count": 11,
   "id": "24fdb244-cb9f-4e09-aa12-3d105f5734ad",
   "metadata": {},
   "outputs": [
    {
     "name": "stdout",
     "output_type": "stream",
     "text": [
      "lyrical\n"
     ]
    }
   ],
   "source": [
    "a = 'lyrical'\n",
    "b = 'spiritual'\n",
    "c = 'miracle'\n",
    "\n",
    "if x < y:\n",
    "    print(a)\n",
    "elif x > y:\n",
    "    print(b)\n",
    "else:\n",
    "    print(c)"
   ]
  },
  {
   "cell_type": "markdown",
   "id": "40927d43-74be-41dc-a399-140900f52a60",
   "metadata": {},
   "source": [
    "Each condition is checked in order. If the first is false, the next is checked, and so on. If one of them is true, the corresponding branch executes, and the statement ends. Even if more than one condition is true, only the first true branch executes.\n",
    "\n",
    "### Nested conditionals\n",
    "One conditional can also be nested within another. (It is the same theme of composibility, again!) We could have written the previous example as follows:"
   ]
  },
  {
   "cell_type": "code",
   "execution_count": 12,
   "id": "3e57ddd8-ad52-4ecf-95ad-f9ee0d061c90",
   "metadata": {},
   "outputs": [
    {
     "name": "stdout",
     "output_type": "stream",
     "text": [
      "lyrical\n"
     ]
    }
   ],
   "source": [
    "if x < y:\n",
    "    print(a)\n",
    "else:\n",
    "    if x > y:\n",
    "        print(b)\n",
    "    else:\n",
    "        print(c)"
   ]
  },
  {
   "cell_type": "markdown",
   "id": "fb2e64cc-0b6b-4b45-a7fe-83eda5692ced",
   "metadata": {},
   "source": [
    "The outer conditional contains two branches. The second branch contains another if statement, which has two branches of its own. Those two branches could contain conditional statements as well.\n",
    "\n",
    "Although the indentation of the statements makes the structure apparent, nested conditionals very quickly become difficult to read. In general, it is a good idea to avoid them when we can.\n",
    "\n",
    "Logical operators often provide a way to simplify nested conditional statements"
   ]
  },
  {
   "cell_type": "code",
   "execution_count": 14,
   "id": "f0adcb78-71ec-4f1e-92e3-82ced75f95e7",
   "metadata": {},
   "outputs": [
    {
     "name": "stdout",
     "output_type": "stream",
     "text": [
      "True\n",
      "False\n"
     ]
    }
   ],
   "source": [
    "# Two powerful simplification laws (called de Morgan’s laws) that are often helpful\n",
    "# when dealing with complicated Boolean expressions are:\n",
    "print(not (x and y)  ==  (not x) or (not y))\n",
    "print(not (x or y)   ==  (not x) and (not y))"
   ]
  },
  {
   "cell_type": "markdown",
   "id": "e3bad7a8-76b1-4034-ab7d-9891856acec5",
   "metadata": {},
   "source": [
    "- block\n",
    "  - A group of consecutive statements with the same indentation.\n",
    "- body\n",
    "  - The block of statements in a compound statement that follows the header.\n",
    "- Boolean algebra\n",
    "  - Some rules for rearranging and reasoning about Boolean expressions.\n",
    "- Boolean expression\n",
    "  - An expression that is either true or false.\n",
    "- Boolean value\n",
    "  - There are exactly two Boolean values: True and False. Boolean values result when a Boolean expression is evaluated by the Python interepreter. They have type bool.\n",
    "- branch\n",
    "  - One of the possible paths of the flow of execution determined by conditional execution.\n",
    "- chained conditional\n",
    "  - A conditional branch with more than two possible flows of execution. In Python chained conditionals are written with if ... elif ... else statements.\n",
    "- comparison operator\n",
    "  - One of the six operators that compares two values: ==, !=, >, <, >=, and <=.\n",
    "- condition\n",
    "  - The Boolean expression in a conditional statement that determines which branch is executed.\n",
    "- conditional statement\n",
    "  - A statement that controls the flow of execution depending on some condition. In Python the keywords if, elif, and else are used for conditional statements.\n",
    "- logical operator\n",
    "  - One of the operators that combines Boolean expressions: and, or, and not.\n",
    "- nesting\n",
    "  - One program structure within another, such as a conditional statement inside a branch of another conditional statement.\n",
    "- prompt\n",
    "  - A visual cue that tells the user that the system is ready to accept input data.\n",
    "- truth table\n",
    "  - A concise table of Boolean values that can describe the semantics of an operator.\n",
    "- type conversion\n",
    "  - An explicit function call that takes a value of one type and computes a corresponding value of another type.\n",
    "- wrapping code in a function\n",
    "  - The process of adding a function header and parameters to a sequence of program statements is often refered to as “wrapping the code in a function”. This process is very useful whenever the program statements in question are going to be used multiple times. It is even more useful when it allows the programmer to express their mental chunking, and how they’ve broken a complex problem into pieces.\n",
    "***\n",
    "To deal with increasingly complex programs, we are going to suggest a technique called incremental development. The goal of incremental development is to avoid long debugging sessions by adding and testing only a small amount of code at a time.       \n",
    "\n",
    "The key aspects of the chunking process are:\n",
    "\n",
    "- Start with a working skeleton program and make small incremental changes. At any point, if there is an error, you will know exactly where it is.\n",
    "- Use temporary variables to refer to intermediate values so that you can easily inspect and check them.\n",
    "- Once the program is working, relax, sit back, and play around with your options. (There is interesting research that links “playfulness” to better understanding, better learning, more enjoyment, and a more positive mindset about what you can achieve — so spend some time fiddling around!) You might want to consolidate multiple statements into one bigger compound expression, or rename the variables you’ve used, or see if you can make the function shorter. A good guideline is to aim for making code as easy as possible for others to read."
   ]
  },
  {
   "cell_type": "markdown",
   "id": "a4e4d756-aa09-43e8-bc27-acb3bb34b3f4",
   "metadata": {},
   "source": [
    "### Debugging with print\n",
    "Another powerful technique for debugging (an alternative to single-stepping and inspection of program variables), is to insert extra print functions in carefully selected places in your code. Then, by inspecting the output of the program, you can check whether the algorithm is doing what you expect it to. Be clear about the following, however:\n",
    "\n",
    "- You must have a clear solution to the problem, and must know what should happen before you can debug a program. Work on solving the problem on a piece of paper (perhaps using a flowchart to record the steps you take) before you concern yourself with writing code. Writing a program doesn’t solve the problem — it simply automates the manual steps you would take. So first make sure you have a pen-and-paper manual solution that works. Programming then is about making those manual steps happen automatically.\n",
    "\n",
    "- Do not write chatterbox functions. A chatterbox is a fruitful function that, in addition to its primary task, also asks the user for input, or prints output, when it would be more useful if it simply shut up and did its work quietly.\n",
    "\n",
    "For example, we’ve seen built-in functions like range, max and abs. None of these would be useful building blocks for other programs if they prompted the user for input, or printed their results while they performed their tasks.\n",
    "\n",
    "So a good tip is to avoid calling print and input functions inside fruitful functions, unless the primary purpose of your function is to perform input and output. The one exception to this rule might be to temporarily sprinkle some calls to print into your code to help debug and understand what is happening when the code runs, but these will then be removed once you get things working.\n",
    "\n",
    "#### Programming with style\n",
    "Readability is very important to programmers, since in practice programs are read and modified far more often then they are written. But, like most rules, we occasionaly break them. Most of the code examples in this book will be consistent with the Python Enhancement Proposal 8 (PEP 8), a style guide developed by the Python community.\n",
    "\n",
    "We’ll have more to say about style as our programs become more complex, but a few pointers will be helpful already:\n",
    "\n",
    "- use 4 spaces (instead of tabs) for indentation\n",
    "- limit line length to 78 characters\n",
    "- when naming identifiers, use CamelCase for classes (we’ll get to those) and lowercase_with_underscores for functons and variables\n",
    "- place imports at the top of the file\n",
    "- keep function definitions together\n",
    "- use docstrings to document functions\n",
    "- use two blank lines to separate function definitions from each other\n",
    "- keep top level statements, including function calls, together at the bottom of the program\n",
    "***\n"
   ]
  },
  {
   "cell_type": "code",
   "execution_count": 52,
   "id": "d9d3addb-1cde-4102-b311-0e31bde69488",
   "metadata": {},
   "outputs": [
    {
     "name": "stdout",
     "output_type": "stream",
     "text": [
      "z\n",
      "['baz', 2.718]\n",
      "[1, 2, 3, 4, 5, 6, 7, 8]\n"
     ]
    }
   ],
   "source": [
    "x = [10, [3.141, 20, [30, 'baz', 2.718]], 'foo']\n",
    "print(x[1][2][1][-1])\n",
    "print(x[1][2][1:3])\n",
    "\n",
    "a = [1, 2, 7, 8]\n",
    "a[2:2] = [3, 4, 5, 6]\n",
    "print(a)"
   ]
  },
  {
   "cell_type": "code",
   "execution_count": 74,
   "id": "9021f050-53e7-4f5f-81dc-a4588ae955ed",
   "metadata": {},
   "outputs": [
    {
     "data": {
      "text/plain": [
       "set()"
      ]
     },
     "execution_count": 74,
     "metadata": {},
     "output_type": "execute_result"
    }
   ],
   "source": [
    "{'b', 'a', 'r'} & set('qux')"
   ]
  },
  {
   "cell_type": "markdown",
   "id": "5eecea29-0e64-4a85-b6ad-f89161d8763b",
   "metadata": {},
   "source": [
    "The & operator denotes set intersection. The two sets in question, {'b', 'a', 'r'} and {'q', 'u', 'x'}, do not have any characters in common, so the intersection is the empty set.\n",
    "\n",
    "If you chose {} as the answer, you probably forgot that {} denotes an empty dictionary, not an empty set."
   ]
  },
  {
   "cell_type": "code",
   "execution_count": 76,
   "id": "5879fdf6-5eb3-47ba-adfe-6b7d790ed773",
   "metadata": {},
   "outputs": [
    {
     "data": {
      "text/plain": [
       "{1, 2, 6, 7}"
      ]
     },
     "execution_count": 76,
     "metadata": {},
     "output_type": "execute_result"
    }
   ],
   "source": [
    "{1, 2, 3, 4, 5} - {3, 4} ^ {5, 6, 7}"
   ]
  },
  {
   "cell_type": "code",
   "execution_count": 75,
   "id": "57c97942-74b5-4937-86c3-46d024f1f681",
   "metadata": {},
   "outputs": [
    {
     "name": "stdout",
     "output_type": "stream",
     "text": [
      "Operator precedence\n",
      "*******************\n",
      "\n",
      "The following table summarizes the operator precedence in Python, from\n",
      "highest precedence (most binding) to lowest precedence (least\n",
      "binding).  Operators in the same box have the same precedence.  Unless\n",
      "the syntax is explicitly given, operators are binary.  Operators in\n",
      "the same box group left to right (except for exponentiation, which\n",
      "groups from right to left).\n",
      "\n",
      "Note that comparisons, membership tests, and identity tests, all have\n",
      "the same precedence and have a left-to-right chaining feature as\n",
      "described in the Comparisons section.\n",
      "\n",
      "+-------------------------------------------------+---------------------------------------+\n",
      "| Operator                                        | Description                           |\n",
      "|=================================================|=======================================|\n",
      "| \"(expressions...)\",  \"[expressions...]\", \"{key: | Binding or parenthesized expression,  |\n",
      "| value...}\", \"{expressions...}\"                  | list display, dictionary display, set |\n",
      "|                                                 | display                               |\n",
      "+-------------------------------------------------+---------------------------------------+\n",
      "| \"x[index]\", \"x[index:index]\",                   | Subscription, slicing, call,          |\n",
      "| \"x(arguments...)\", \"x.attribute\"                | attribute reference                   |\n",
      "+-------------------------------------------------+---------------------------------------+\n",
      "| \"await\" \"x\"                                     | Await expression                      |\n",
      "+-------------------------------------------------+---------------------------------------+\n",
      "| \"**\"                                            | Exponentiation [5]                    |\n",
      "+-------------------------------------------------+---------------------------------------+\n",
      "| \"+x\", \"-x\", \"~x\"                                | Positive, negative, bitwise NOT       |\n",
      "+-------------------------------------------------+---------------------------------------+\n",
      "| \"*\", \"@\", \"/\", \"//\", \"%\"                        | Multiplication, matrix                |\n",
      "|                                                 | multiplication, division, floor       |\n",
      "|                                                 | division, remainder [6]               |\n",
      "+-------------------------------------------------+---------------------------------------+\n",
      "| \"+\", \"-\"                                        | Addition and subtraction              |\n",
      "+-------------------------------------------------+---------------------------------------+\n",
      "| \"<<\", \">>\"                                      | Shifts                                |\n",
      "+-------------------------------------------------+---------------------------------------+\n",
      "| \"&\"                                             | Bitwise AND                           |\n",
      "+-------------------------------------------------+---------------------------------------+\n",
      "| \"^\"                                             | Bitwise XOR                           |\n",
      "+-------------------------------------------------+---------------------------------------+\n",
      "| \"|\"                                             | Bitwise OR                            |\n",
      "+-------------------------------------------------+---------------------------------------+\n",
      "| \"in\", \"not in\", \"is\", \"is not\", \"<\", \"<=\", \">\", | Comparisons, including membership     |\n",
      "| \">=\", \"!=\", \"==\"                                | tests and identity tests              |\n",
      "+-------------------------------------------------+---------------------------------------+\n",
      "| \"not\" \"x\"                                       | Boolean NOT                           |\n",
      "+-------------------------------------------------+---------------------------------------+\n",
      "| \"and\"                                           | Boolean AND                           |\n",
      "+-------------------------------------------------+---------------------------------------+\n",
      "| \"or\"                                            | Boolean OR                            |\n",
      "+-------------------------------------------------+---------------------------------------+\n",
      "| \"if\" – \"else\"                                   | Conditional expression                |\n",
      "+-------------------------------------------------+---------------------------------------+\n",
      "| \"lambda\"                                        | Lambda expression                     |\n",
      "+-------------------------------------------------+---------------------------------------+\n",
      "| \":=\"                                            | Assignment expression                 |\n",
      "+-------------------------------------------------+---------------------------------------+\n",
      "\n",
      "-[ Footnotes ]-\n",
      "\n",
      "[1] While \"abs(x%y) < abs(y)\" is true mathematically, for floats it\n",
      "    may not be true numerically due to roundoff.  For example, and\n",
      "    assuming a platform on which a Python float is an IEEE 754 double-\n",
      "    precision number, in order that \"-1e-100 % 1e100\" have the same\n",
      "    sign as \"1e100\", the computed result is \"-1e-100 + 1e100\", which\n",
      "    is numerically exactly equal to \"1e100\".  The function\n",
      "    \"math.fmod()\" returns a result whose sign matches the sign of the\n",
      "    first argument instead, and so returns \"-1e-100\" in this case.\n",
      "    Which approach is more appropriate depends on the application.\n",
      "\n",
      "[2] If x is very close to an exact integer multiple of y, it’s\n",
      "    possible for \"x//y\" to be one larger than \"(x-x%y)//y\" due to\n",
      "    rounding.  In such cases, Python returns the latter result, in\n",
      "    order to preserve that \"divmod(x,y)[0] * y + x % y\" be very close\n",
      "    to \"x\".\n",
      "\n",
      "[3] The Unicode standard distinguishes between *code points* (e.g.\n",
      "    U+0041) and *abstract characters* (e.g. “LATIN CAPITAL LETTER A”).\n",
      "    While most abstract characters in Unicode are only represented\n",
      "    using one code point, there is a number of abstract characters\n",
      "    that can in addition be represented using a sequence of more than\n",
      "    one code point.  For example, the abstract character “LATIN\n",
      "    CAPITAL LETTER C WITH CEDILLA” can be represented as a single\n",
      "    *precomposed character* at code position U+00C7, or as a sequence\n",
      "    of a *base character* at code position U+0043 (LATIN CAPITAL\n",
      "    LETTER C), followed by a *combining character* at code position\n",
      "    U+0327 (COMBINING CEDILLA).\n",
      "\n",
      "    The comparison operators on strings compare at the level of\n",
      "    Unicode code points. This may be counter-intuitive to humans.  For\n",
      "    example, \"\"\\u00C7\" == \"\\u0043\\u0327\"\" is \"False\", even though both\n",
      "    strings represent the same abstract character “LATIN CAPITAL\n",
      "    LETTER C WITH CEDILLA”.\n",
      "\n",
      "    To compare strings at the level of abstract characters (that is,\n",
      "    in a way intuitive to humans), use \"unicodedata.normalize()\".\n",
      "\n",
      "[4] Due to automatic garbage-collection, free lists, and the dynamic\n",
      "    nature of descriptors, you may notice seemingly unusual behaviour\n",
      "    in certain uses of the \"is\" operator, like those involving\n",
      "    comparisons between instance methods, or constants.  Check their\n",
      "    documentation for more info.\n",
      "\n",
      "[5] The power operator \"**\" binds less tightly than an arithmetic or\n",
      "    bitwise unary operator on its right, that is, \"2**-1\" is \"0.5\".\n",
      "\n",
      "[6] The \"%\" operator is also used for string formatting; the same\n",
      "    precedence applies.\n",
      "\n",
      "Related help topics: lambda, or, and, not, in, is, BOOLEAN, COMPARISON,\n",
      "BITWISE, SHIFTING, BINARY, FORMATTING, POWER, UNARY, ATTRIBUTES,\n",
      "SUBSCRIPTS, SLICINGS, CALLS, TUPLES, LISTS, DICTIONARIES, BITWISE\n",
      "\n"
     ]
    }
   ],
   "source": [
    "help('^')"
   ]
  },
  {
   "cell_type": "code",
   "execution_count": 157,
   "id": "954e3afe-741a-4e9e-9b18-888ac81167cf",
   "metadata": {},
   "outputs": [],
   "source": [
    "array_of_bytes = bytearray(b'15\\x80a#')"
   ]
  },
  {
   "cell_type": "code",
   "execution_count": 159,
   "id": "77240417-6182-41df-be48-57c83e83a399",
   "metadata": {},
   "outputs": [
    {
     "data": {
      "text/plain": [
       "bytearray"
      ]
     },
     "execution_count": 159,
     "metadata": {},
     "output_type": "execute_result"
    }
   ],
   "source": [
    "type(array_of_bytes)"
   ]
  },
  {
   "cell_type": "code",
   "execution_count": 166,
   "id": "b33f7418-50c3-4113-89a6-97bf96a801a9",
   "metadata": {},
   "outputs": [
    {
     "name": "stdout",
     "output_type": "stream",
     "text": [
      "('baz', 3)\n",
      "('bar', 2)\n",
      "('foo', 1)\n",
      "Done.\n"
     ]
    }
   ],
   "source": [
    "d = {'foo': 1, 'bar': 2, 'baz': 3}\n",
    "while d:\n",
    "    print(d.popitem())\n",
    "print('Done.')"
   ]
  },
  {
   "cell_type": "code",
   "execution_count": 167,
   "id": "c4defeb9-d3a1-4e12-9dcf-f9634eba41f5",
   "metadata": {},
   "outputs": [
    {
     "data": {
      "text/plain": [
       "3"
      ]
     },
     "execution_count": 167,
     "metadata": {},
     "output_type": "execute_result"
    }
   ],
   "source": [
    "d = {'foo': 1, 'bar': 2, 'baz': 3}\n",
    "len(d)"
   ]
  },
  {
   "cell_type": "code",
   "execution_count": 168,
   "id": "31d9a43c-a8da-4726-b463-bff857149bf7",
   "metadata": {},
   "outputs": [
    {
     "name": "stdout",
     "output_type": "stream",
     "text": [
      "corge\n",
      "qux\n",
      "baz\n",
      "Done.\n"
     ]
    }
   ],
   "source": [
    "a = ['foo', 'bar', 'baz', 'qux', 'corge']\n",
    "while a:\n",
    "    if len(a) < 3:\n",
    "        break\n",
    "    print(a.pop())\n",
    "print('Done.')"
   ]
  },
  {
   "cell_type": "code",
   "execution_count": 170,
   "id": "07c6c247-14e8-4f67-8f43-fc4a374de5cd",
   "metadata": {},
   "outputs": [],
   "source": [
    "#a = ['foo', 'bar', 'baz', 'qux', 'corge']\n",
    "#while a:\n",
    "#    if len(a) < 3:\n",
    "#        continue\n",
    "#    print(a.pop())\n",
    "#print('Done.')\n",
    "# Infinite Loop"
   ]
  },
  {
   "cell_type": "code",
   "execution_count": 171,
   "id": "d334703d-d0ee-452c-906e-cf60d8da858b",
   "metadata": {},
   "outputs": [],
   "source": [
    "s = \"\"\n",
    "\n",
    "n = 5\n",
    "while n > 0:\n",
    "    n -= 1\n",
    "    if (n % 2) == 0:\n",
    "        continue\n",
    "\n",
    "    a = ['foo', 'bar', 'baz']\n",
    "    while a:\n",
    "        s += str(n) + a.pop(0)\n",
    "        if len(a) < 2:\n",
    "            break"
   ]
  },
  {
   "cell_type": "markdown",
   "id": "b51f3a23-f1d3-4bd5-b65b-eedb68db7996",
   "metadata": {},
   "source": [
    "The continue on line 7 applies to the outer while loop; the break on line 13 applies to the inner while loop.\n",
    "\n",
    "n is decremented straight away at the top of the outer loop, so during the body of the loop it effectively has successive values 4, 3, 2, 1, and 0. The continue is executed on the even values, so the inner while loop only occurs when n is 3 and 1.\n",
    "\n",
    "Inside the inner while loop, a.pop(0) removes the first item of a. Once this has occurred twice, yielding 'foo' and 'bar', a has fewer than two items, and the break terminates the inner loop.\n",
    "\n",
    "Thus, the values concatenated onto s are, in turn, 3foo, 3bar, 1foo, and 1bar."
   ]
  },
  {
   "cell_type": "code",
   "execution_count": null,
   "id": "e3f95b99-7df9-49f9-8006-ff76fc194496",
   "metadata": {},
   "outputs": [],
   "source": []
  }
 ],
 "metadata": {
  "kernelspec": {
   "display_name": "Python 3 (ipykernel)",
   "language": "python",
   "name": "python3"
  },
  "language_info": {
   "codemirror_mode": {
    "name": "ipython",
    "version": 3
   },
   "file_extension": ".py",
   "mimetype": "text/x-python",
   "name": "python",
   "nbconvert_exporter": "python",
   "pygments_lexer": "ipython3",
   "version": "3.9.7"
  }
 },
 "nbformat": 4,
 "nbformat_minor": 5
}
