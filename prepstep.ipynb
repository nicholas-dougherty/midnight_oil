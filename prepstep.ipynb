{
 "cells": [
  {
   "cell_type": "markdown",
   "id": "0a94f76e-d513-486a-ad19-f686afe484ba",
   "metadata": {},
   "source": [
    "# Phase 1 "
   ]
  },
  {
   "cell_type": "markdown",
   "id": "2145c721-883c-4728-ab51-3df009d5d300",
   "metadata": {},
   "source": [
    "Start with Syntax Review"
   ]
  },
  {
   "cell_type": "code",
   "execution_count": 2,
   "id": "aac4a83c-efd7-4f5f-93b0-d851fb978af6",
   "metadata": {},
   "outputs": [
    {
     "name": "stdout",
     "output_type": "stream",
     "text": [
      "['ab', 'ef', 'gh']\n"
     ]
    }
   ],
   "source": [
    "#For example, print(‘abcdefcdgh’.split(‘cd’,2)), which of the following is correct choice.\n",
    "print('abcdefcdgh'.split('cd',2))"
   ]
  },
  {
   "cell_type": "markdown",
   "id": "2be61d08-56b6-471a-88e9-3800373721a6",
   "metadata": {},
   "source": [
    "\n",
    "***\n",
    "Behavioral\n",
    "(5 questions in total), it is the same to the 30 questions behavioral pdf that Stephen sent out but wording a little different so you might want to look and try answer them (about 4 min to prep for questions and 5 min to answer for each question).\n",
    "\n",
    "5/5 Please share an experience, skil, or qualifation you feel we have not yet heard about that you think will benefit you in this role. Please include any relevant tech skills that you have not had the opportunity to highlight. \n",
    "\n",
    "2/5 In a rapidly changing world, client teams are observing, learning, innovating and deploying faster than ever before. We must regularly apply expertise to gain trust, and to lead our clients forward. \n",
    "| Outline a time you had to make a decision with limited time and information. What steps did you take before making the decision? How did you determine which choice to make? What was the result?\n",
    "\n",
    "4/5 Navigating a fast-changing environment requires agility and fresh thinking. As we reinvent how we work, live, and play; .. is engineering modern businesses to improve everyday life. | With this perspective in mind, outline an innovative idea you introducted to a team. What problem was it solving, and what was the outcome? Did you leverage any technology to implement this solution?"
   ]
  },
  {
   "cell_type": "markdown",
   "id": "b3758be6-17bc-46f7-9899-8f662c416372",
   "metadata": {},
   "source": [
    "***\n",
    "***\n",
    "# Phase 2 "
   ]
  },
  {
   "cell_type": "markdown",
   "id": "e7aae80d-41f6-481f-8183-2aadc64dc8af",
   "metadata": {},
   "source": [
    "Behavioral portion:\n",
    "\n",
    " - Tell me a little bit more about yourself. \n",
    " - Tell me a little more about your bootcamp program, what you are learning, etc. \n",
    " - Looks like you made a transition from engineering to real estate to data science. Tell me more about that.\n",
    " - Based on what you are learning at Codeup, what do you think your strengths are in terms of skills and tools?\n",
    " - I see you have a classification project on your resume, tell me more about the project, the tools you used, etc. \n",
    " - Do you have any questions for me? (asked this twice, at the beginning and end of the interview)"
   ]
  },
  {
   "cell_type": "markdown",
   "id": "a4ffac88-3a78-42c2-94ee-0a2e5d9ce523",
   "metadata": {},
   "source": [
    " Coding portion (live coding using the link to IDE):\n",
    "\n",
    " - Most time spent in Python creating functions to:\n",
    " - Accept integer and return even or odd\n",
    " - Print list of numbers 0 to 100\n",
    " - For list of numbers, print 'air' if divisible by three, 'plane' if divisible by 5, 'airplane' if divisible by both\n",
    " - accept string and determine if palindrome or not, return True or False\n",
    " - .\n",
    " \n",
    " - SQL\n",
    "     - print item with the lowest price\n",
    "     - print names of all employees in the HR department\n",
    "     - (oli)just employee table, sales and products\n",
    "     - simple join question; which product have total amount of revenue less or equal to 10"
   ]
  },
  {
   "cell_type": "markdown",
   "id": "76e82dc3-633c-4de2-aaa8-a96282f345b2",
   "metadata": {},
   "source": [
    "From Oliver:\n",
    "3 simple python questions: check if number even or odd. String is palindrome or not and fizz buzz questions(return a list of numbers)\n",
    "3 sql query: 2 simple select statement and then a join query"
   ]
  },
  {
   "cell_type": "code",
   "execution_count": null,
   "id": "14fb88e9-024c-4060-9b26-919b092f3f53",
   "metadata": {},
   "outputs": [],
   "source": []
  }
 ],
 "metadata": {
  "kernelspec": {
   "display_name": "Python 3 (ipykernel)",
   "language": "python",
   "name": "python3"
  },
  "language_info": {
   "codemirror_mode": {
    "name": "ipython",
    "version": 3
   },
   "file_extension": ".py",
   "mimetype": "text/x-python",
   "name": "python",
   "nbconvert_exporter": "python",
   "pygments_lexer": "ipython3",
   "version": "3.9.7"
  }
 },
 "nbformat": 4,
 "nbformat_minor": 5
}
