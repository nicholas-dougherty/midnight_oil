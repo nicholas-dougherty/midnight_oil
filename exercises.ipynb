{
 "cells": [
  {
   "cell_type": "code",
   "execution_count": 2,
   "id": "1c1d33c2-3521-45d8-a23d-fb429c3345dd",
   "metadata": {},
   "outputs": [
    {
     "name": "stdin",
     "output_type": "stream",
     "text": [
      "Enter a number: 7\n"
     ]
    },
    {
     "name": "stdout",
     "output_type": "stream",
     "text": [
      "This is an odd number.\n"
     ]
    }
   ],
   "source": [
    "#  Accept integer and return even or odd\n",
    "num = int(input(\"Enter a number:\"))\n",
    "mod = num % 2 \n",
    "if mod > 0:\n",
    "    print(\"This is an odd number.\")\n",
    "else:\n",
    "    print(\"This is an even number.\")"
   ]
  },
  {
   "cell_type": "markdown",
   "id": "a1da7943-5660-48b1-8626-51e59b618d74",
   "metadata": {},
   "source": [
    "The % symbol in Python is called the Modulo Operator. It returns the remainder of dividing the left hand operand by right hand operand. It's used to get the remainder of a division problem."
   ]
  },
  {
   "cell_type": "code",
   "execution_count": null,
   "id": "cbd0fb7c-7d97-41ab-beaa-045caa507213",
   "metadata": {},
   "outputs": [],
   "source": [
    "# Print list of numbers 0 to 100"
   ]
  },
  {
   "cell_type": "code",
   "execution_count": 6,
   "id": "7b501455-82f7-4f1e-94ab-6f7de31b9cf4",
   "metadata": {},
   "outputs": [
    {
     "name": "stdout",
     "output_type": "stream",
     "text": [
      "[0, 1, 2, 3, 4, 5, 6, 7, 8, 9, 10, 11, 12, 13, 14, 15, 16, 17, 18, 19, 20, 21, 22, 23, 24, 25, 26, 27, 28, 29, 30, 31, 32, 33, 34, 35, 36, 37, 38, 39, 40, 41, 42, 43, 44, 45, 46, 47, 48, 49, 50, 51, 52, 53, 54, 55, 56, 57, 58, 59, 60, 61, 62, 63, 64, 65, 66, 67, 68, 69, 70, 71, 72, 73, 74, 75, 76, 77, 78, 79, 80, 81, 82, 83, 84, 85, 86, 87, 88, 89, 90, 91, 92, 93, 94, 95, 96, 97, 98, 99, 100]\n"
     ]
    }
   ],
   "source": [
    "lst = list(range(101))\n",
    "print(lst)"
   ]
  },
  {
   "cell_type": "code",
   "execution_count": null,
   "id": "343bba75-7772-4aeb-8e5d-0ba56192d9f5",
   "metadata": {},
   "outputs": [],
   "source": [
    "def check_user_input(input):\n",
    "    try:\n",
    "        # Convert it into integer\n",
    "        val = int(input)\n",
    "        print(\"Input is an integer number. Number = \", val)\n",
    "    except ValueError:\n",
    "        try:\n",
    "            # Convert it into float\n",
    "            val = float(input)\n",
    "            print(\"Input is a float  number. Number = \", val)\n",
    "        except ValueError:\n",
    "            print(\"No.. input is not a number. It's a string\")"
   ]
  },
  {
   "cell_type": "code",
   "execution_count": 102,
   "id": "6ff164b4-0be1-4092-b891-8b8e4c93bc81",
   "metadata": {},
   "outputs": [],
   "source": []
  },
  {
   "cell_type": "code",
   "execution_count": 113,
   "id": "55e1d34a-09e9-4187-bab1-5ef201bc6bf4",
   "metadata": {},
   "outputs": [],
   "source": [
    "# Variations of FizzBuzz\n",
    "#################################################\n",
    "def convert(number):\n",
    "    result = \"\"\n",
    "    if (number % 3 == 0 and number % 5 == 0):\n",
    "        result += \"airplane\"\n",
    "    elif (number % 3 == 0):\n",
    "        result += \"air\"\n",
    "    elif (number % 5 == 0):\n",
    "        result += \"plane\"  \n",
    "    return result\n",
    "#################################################\n",
    "def convert1(number):\n",
    "    if (number % 3 == 0 and number % 5 == 0):\n",
    "        result = \"airplane\"\n",
    "    elif (number % 3 == 0):\n",
    "        result = \"air\"\n",
    "    elif (number % 5 == 0):\n",
    "        result = \"plane\"  \n",
    "    return result\n",
    "#################################################\n",
    "def fizzBuzz(n):\n",
    "    for number in range(1, n + 1):\n",
    "        if number % 3 == 0 and number % 5 == 0:\n",
    "            print(number, 'FizzBuzz')\n",
    "        elif number % 3 == 0:\n",
    "            print(number, 'Fizz')\n",
    "        elif number % 5 == 0:\n",
    "            print(number, 'Buzz')\n",
    "        else:\n",
    "            print(number)"
   ]
  },
  {
   "cell_type": "code",
   "execution_count": 114,
   "id": "f8e0e892",
   "metadata": {},
   "outputs": [
    {
     "name": "stdout",
     "output_type": "stream",
     "text": [
      "1\n",
      "2\n",
      "3 Fizz\n",
      "4\n",
      "5 Buzz\n",
      "6 Fizz\n",
      "7\n",
      "8\n",
      "9 Fizz\n",
      "10 Buzz\n",
      "11\n",
      "12 Fizz\n",
      "13\n",
      "14\n",
      "15 FizzBuzz\n",
      "16\n",
      "17\n"
     ]
    }
   ],
   "source": [
    "fizzBuzz(17)"
   ]
  },
  {
   "cell_type": "code",
   "execution_count": 115,
   "id": "01bb82f1",
   "metadata": {},
   "outputs": [
    {
     "name": "stdout",
     "output_type": "stream",
     "text": [
      "HELLO\n",
      "oHmYgOsHhHh\n"
     ]
    }
   ],
   "source": [
    "def swap_case(word):\n",
    "    return ''.join([character.lower() if character.isupper() else character.upper() for character in word])\n",
    "\n",
    "def reverse_words_order_and_swap_cases(sentence):\n",
    "    words = sentence.split(' ')[::-1]\n",
    "    return ' '.join([swap_case(word) for word in words])\n",
    "\n",
    "print(swap_case('hello'))\n",
    "print(reverse_words_order_and_swap_cases('OhMyGoShHhH'))"
   ]
  },
  {
   "cell_type": "code",
   "execution_count": 105,
   "id": "231e1783-2666-4414-9d4b-24924afd770e",
   "metadata": {},
   "outputs": [
    {
     "name": "stdout",
     "output_type": "stream",
     "text": [
      "Palindrome\n"
     ]
    }
   ],
   "source": [
    "#accept string and determine if palindrome or not, return True or False\n",
    "def isPalindrome(s):\n",
    " \n",
    "    i = 0\n",
    "    j = len(s) - 1\n",
    "    while i < j:\n",
    "        if s[i] != s[j]:\n",
    "            return False\n",
    "        i = i + 1\n",
    "        j = j - 1\n",
    " \n",
    "    return True\n",
    " \n",
    " \n",
    "if __name__ == '__main__':\n",
    " \n",
    "    s = 'XYBYBYX'\n",
    " \n",
    "    if isPalindrome(s):\n",
    "        print('Palindrome')\n",
    "    else:\n",
    "        print('Not Palindrome')"
   ]
  },
  {
   "cell_type": "code",
   "execution_count": 9,
   "id": "7756c094-3269-4903-9410-6af1a47f9bef",
   "metadata": {},
   "outputs": [
    {
     "data": {
      "text/plain": [
       "True"
      ]
     },
     "execution_count": 9,
     "metadata": {},
     "output_type": "execute_result"
    }
   ],
   "source": [
    "isPalindrome('doggod')"
   ]
  },
  {
   "cell_type": "code",
   "execution_count": 11,
   "id": "4011297b-e969-4688-ad7c-5862cc9a9ba4",
   "metadata": {},
   "outputs": [
    {
     "data": {
      "text/plain": [
       "False"
      ]
     },
     "execution_count": 11,
     "metadata": {},
     "output_type": "execute_result"
    }
   ],
   "source": [
    "isPalindrome('dolphin')"
   ]
  },
  {
   "cell_type": "code",
   "execution_count": 119,
   "id": "64a275eb-cd3d-4ff2-915e-9f71977168f1",
   "metadata": {},
   "outputs": [
    {
     "name": "stdout",
     "output_type": "stream",
     "text": [
      "Yes\n"
     ]
    }
   ],
   "source": [
    "# function which return reverse of a string\n",
    " \n",
    "def isPalindrome(s):\n",
    "    return s == s[::-1]\n",
    "# Driver code\n",
    "s = \"malayalam\"\n",
    "ans = isPalindrome(s)\n",
    " \n",
    "if ans:\n",
    "    print(\"Yes\")\n",
    "else:\n",
    "    print(\"No\")"
   ]
  },
  {
   "cell_type": "code",
   "execution_count": 118,
   "id": "d4473f2f-e458-4672-a71f-088300a99aa5",
   "metadata": {},
   "outputs": [
    {
     "data": {
      "text/plain": [
       "False"
      ]
     },
     "execution_count": 118,
     "metadata": {},
     "output_type": "execute_result"
    }
   ],
   "source": [
    "isPalindrome('ecco')"
   ]
  },
  {
   "cell_type": "code",
   "execution_count": 120,
   "id": "8890257c-1357-44c2-a0aa-a7c2d6e21d41",
   "metadata": {},
   "outputs": [
    {
     "name": "stdout",
     "output_type": "stream",
     "text": [
      "Yes\n"
     ]
    }
   ],
   "source": [
    "# function to check string is\n",
    "# palindrome or not\n",
    "def isPalindrome(str):\n",
    "    # Run loop from 0 to len/2\n",
    "    for i in range(0, int(len(str)/2)):\n",
    "        if str[i] != str[len(str)-i-1]:\n",
    "            return False\n",
    "    return True\n",
    " \n",
    "# main function\n",
    "s = \"malayalam\"\n",
    "ans = isPalindrome(s)\n",
    " \n",
    "if (ans):\n",
    "    print(\"Yes\")\n",
    "else:\n",
    "    print(\"No\")"
   ]
  },
  {
   "cell_type": "code",
   "execution_count": 14,
   "id": "fa0229bd-8347-4562-9722-c859ba8e2edf",
   "metadata": {},
   "outputs": [
    {
     "name": "stdout",
     "output_type": "stream",
     "text": [
      "Yes\n"
     ]
    }
   ],
   "source": [
    "# function to check string is\n",
    "# palindrome or not\n",
    "def isPalindrome(s):\n",
    " \n",
    "    # Using predefined function to\n",
    "    # reverse to string print(s)\n",
    "    rev = ''.join(reversed(s))\n",
    " \n",
    "    # Checking if both string are\n",
    "    # equal or not\n",
    "    if (s == rev):\n",
    "        return True\n",
    "    return False\n",
    " \n",
    "# main function\n",
    "s = \"malayalam\"\n",
    "ans = isPalindrome(s)\n",
    " \n",
    "if (ans):\n",
    "    print(\"Yes\")\n",
    "else:\n",
    "    print(\"No\")"
   ]
  },
  {
   "cell_type": "code",
   "execution_count": null,
   "id": "2584a59e-916e-4e0e-b379-b100ebccfe7f",
   "metadata": {},
   "outputs": [],
   "source": [
    "# SQL\n",
    "# print item with the lowest price\n",
    "# print names of all employees in the HR department"
   ]
  },
  {
   "cell_type": "code",
   "execution_count": 68,
   "id": "4cf2e593-1e28-444e-8143-f176437e6caf",
   "metadata": {},
   "outputs": [],
   "source": [
    "def printWords(s):\n",
    "    # split the string\n",
    "    s = s.split(' ')\n",
    "    # iterate in words of string\n",
    "    for word in s: \n",
    "        #if length is even \n",
    "        if len(word)%2==0:\n",
    "            print(word, \"'s length is even\")\n",
    "        elif len(word)%2!=0:\n",
    "            print(word, 'has an odd number of characters')"
   ]
  },
  {
   "cell_type": "code",
   "execution_count": 69,
   "id": "d62b0e8a-c1f5-4e3e-aaa5-0b7852eaa597",
   "metadata": {},
   "outputs": [
    {
     "name": "stdout",
     "output_type": "stream",
     "text": [
      "dolphi 's length is even\n",
      "dolph has an odd number of characters\n",
      "dolphin has an odd number of characters\n",
      "dolphins 's length is even\n",
      "None\n"
     ]
    }
   ],
   "source": [
    "print(printWords('dolphi dolph dolphin dolphins'))"
   ]
  },
  {
   "cell_type": "code",
   "execution_count": null,
   "id": "27d96a07-3e60-4a43-a207-aed95cfd6e22",
   "metadata": {},
   "outputs": [],
   "source": [
    "def printWords(s):\n",
    "    # split the string\n",
    "    s = s.split(' ')\n",
    "    # iterate in words of string\n",
    "    for word in s: \n",
    "        #if length is even \n",
    "        if len(word)%2==0:\n",
    "            print(word, \"'s length is even\")\n",
    "        elif len(word)%2!=0:\n",
    "            print(word, 'has an odd number of characters')"
   ]
  },
  {
   "cell_type": "markdown",
   "id": "e1ab574c-8d47-43db-ba32-dd09bfc25ec1",
   "metadata": {},
   "source": [
    "***\n",
    "### Needs Work"
   ]
  },
  {
   "cell_type": "code",
   "execution_count": null,
   "id": "a40c5f30-9766-4a77-abf4-05b0167782be",
   "metadata": {},
   "outputs": [],
   "source": [
    "#def single_purpose_lame_lister(n):\n",
    "#    # must be an integer\n",
    "#    if n == int(n):\n",
    "#        lister = list(range(n))\n",
    "#        return lister\n",
    "#    elif n != int(n):\n",
    "#        return 'Must provide an integer'"
   ]
  },
  {
   "cell_type": "markdown",
   "id": "810041a1-b3f1-488b-9e3a-d2eceef59a37",
   "metadata": {},
   "source": [
    "***\n",
    "***\n",
    "\n",
    "#### Functioning but Irrelevant"
   ]
  },
  {
   "cell_type": "code",
   "execution_count": 17,
   "id": "45a535a3-b6ed-402e-b6a8-2ebf6be8e2f2",
   "metadata": {},
   "outputs": [
    {
     "name": "stdout",
     "output_type": "stream",
     "text": [
      "Car with the maximum speed of 120 km/h\n"
     ]
    }
   ],
   "source": [
    "class Car:\n",
    "    def __init__(self, max_speed, unit):\n",
    "        self.max_speed = max_speed\n",
    "        self.unit = unit\n",
    "\n",
    "    def __str__(self):\n",
    "        return 'Car with the maximum speed of ' + str(self.max_speed) + ' ' + str(self.unit)\n",
    "class Boat:\n",
    "    def __init__(self, max_speed):\n",
    "        self.max_speed = max_speed\n",
    "\n",
    "    def __str__(self):\n",
    "        return 'Boat with the maximum speed of ' + str(self.max_speed) + ' knots'\n",
    "\n",
    "\n",
    "car = Car(120, 'km/h')\n",
    "print(car)"
   ]
  },
  {
   "cell_type": "markdown",
   "id": "2bdf535c-3eff-4a5a-a12c-27967ea8aed0",
   "metadata": {},
   "source": [
    "***\n",
    "***\n",
    "***\n",
    "### Graveyard"
   ]
  },
  {
   "cell_type": "code",
   "execution_count": null,
   "id": "9db12860",
   "metadata": {},
   "outputs": [],
   "source": [
    "# For list of numbers, print 'air' if divisible by three,\n",
    "# 'plane' if divisible by 5, 'airplane' if divisible by both\n",
    "# Python program to print all the numbers\n",
    "# divisible by 3 and 5 for a given number\n",
    "# Result function with N\n",
    "#def result(N):    \n",
    "#    # iterate from 0 to N\n",
    "#    for num in range(N):         \n",
    "#            # Short-circuit operator is used\n",
    "#            if num % 3 == 0 and num % 5 == 0:\n",
    "#                print(str(num) + \" \", end = \"\")                 \n",
    "#            else:\n",
    "#                pass \n",
    "## Driver code\n",
    "#if __name__ == \"__main__\":\n",
    "#     \n",
    "#    # input goes here\n",
    "#    N = 100\n",
    "#     \n",
    "#    # Calling function\n",
    "#    result(N)\n",
    "\n",
    "#num1=int(input(\"Enter your number:\"))\n",
    "#if(num1%3==0):\n",
    "#    print(\"{} is divisible by 3\".format(num1))\n",
    "#else:\n",
    "#    print(\"{} is not divisible by 3\".format(num1))\n",
    "\n",
    "### Can't get this FizzBuzz approach to work \n",
    "#def convert2(number):\n",
    "#    names = [ [3, \"air\"], [5, \"plane\"], [3 and 5, \"airplane\"] ]\n",
    "#    result = \"\"\n",
    "#    for value,message in names:\n",
    "#        if not number % value: result += message\n",
    "#    if message == \"\": message = f\"{number}\"\n",
    "#    return result\n",
    "#\n",
    "#for index in range(1,25): print(index, convert(index))\n",
    "#def unknown_method(input('Enter your name: '):\n",
    "#    int(word)\n",
    "#    result = ''\n",
    "#    if len(word)%2 == 0:\n",
    "#        index = (len(word)/2)\n",
    "#        result += (word[index-1])\n",
    "#        result += (word[index])\n",
    "#    else:\n",
    "#        result += word[(len(word)/2)]\n",
    "#    return result"
   ]
  }
 ],
 "metadata": {
  "kernelspec": {
   "display_name": "Python 3 (ipykernel)",
   "language": "python",
   "name": "python3"
  },
  "language_info": {
   "codemirror_mode": {
    "name": "ipython",
    "version": 3
   },
   "file_extension": ".py",
   "mimetype": "text/x-python",
   "name": "python",
   "nbconvert_exporter": "python",
   "pygments_lexer": "ipython3",
   "version": "3.9.7"
  }
 },
 "nbformat": 4,
 "nbformat_minor": 5
}
