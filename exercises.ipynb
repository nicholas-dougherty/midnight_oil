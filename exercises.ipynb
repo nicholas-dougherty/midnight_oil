{
 "cells": [
  {
   "cell_type": "code",
   "execution_count": 113,
   "id": "7b501455-82f7-4f1e-94ab-6f7de31b9cf4",
   "metadata": {},
   "outputs": [
    {
     "name": "stdout",
     "output_type": "stream",
     "text": [
      "[0, 1, 2, 3, 4, 5, 6, 7, 8, 9, 10, 11, 12, 13, 14, 15, 16, 17, 18, 19, 20, 21, 22, 23, 24, 25, 26, 27, 28, 29, 30, 31, 32, 33, 34, 35, 36, 37, 38, 39, 40, 41, 42, 43, 44, 45, 46, 47, 48, 49, 50, 51, 52, 53, 54, 55, 56, 57, 58, 59, 60, 61, 62, 63, 64, 65, 66, 67, 68, 69, 70, 71, 72, 73, 74, 75, 76, 77, 78, 79, 80, 81, 82, 83, 84, 85, 86, 87, 88, 89, 90, 91, 92, 93, 94, 95, 96, 97, 98, 99, 100]\n"
     ]
    }
   ],
   "source": [
    "print(list(range(101)))\n"
   ]
  },
  {
   "cell_type": "code",
   "execution_count": null,
   "id": "343bba75-7772-4aeb-8e5d-0ba56192d9f5",
   "metadata": {},
   "outputs": [],
   "source": [
    "def check_user_input(input):\n",
    "    try:\n",
    "        # Convert it into integer\n",
    "        val = int(input)\n",
    "        print(\"Input is an integer number. Number = \", val)\n",
    "    except ValueError:\n",
    "        try:\n",
    "            # Convert it into float\n",
    "            val = float(input)\n",
    "            print(\"Input is a float  number. Number = \", val)\n",
    "        except ValueError:\n",
    "            print(\"No.. input is not a number. It's a string\")"
   ]
  },
  {
   "cell_type": "code",
   "execution_count": 113,
   "id": "55e1d34a-09e9-4187-bab1-5ef201bc6bf4",
   "metadata": {},
   "outputs": [],
   "source": [
    "# Variations of FizzBuzz\n",
    "#################################################\n",
    "def convert(number):\n",
    "    result = \"\"\n",
    "    if (number % 3 == 0 and number % 5 == 0):\n",
    "        result += \"airplane\"\n",
    "    elif (number % 3 == 0):\n",
    "        result += \"air\"\n",
    "    elif (number % 5 == 0):\n",
    "        result += \"plane\"  \n",
    "    return result\n",
    "#################################################\n",
    "def convert1(number):\n",
    "    if (number % 3 == 0 and number % 5 == 0):\n",
    "        result = \"airplane\"\n",
    "    elif (number % 3 == 0):\n",
    "        result = \"air\"\n",
    "    elif (number % 5 == 0):\n",
    "        result = \"plane\"  \n",
    "    return result\n",
    "#################################################\n",
    "def fizzBuzz(n):\n",
    "    for number in range(1, n + 1):\n",
    "        if number % 3 == 0 and number % 5 == 0:\n",
    "            print(number, 'FizzBuzz')\n",
    "        elif number % 3 == 0:\n",
    "            print(number, 'Fizz')\n",
    "        elif number % 5 == 0:\n",
    "            print(number, 'Buzz')\n",
    "        else:\n",
    "            print(number)"
   ]
  },
  {
   "cell_type": "markdown",
   "id": "e1ab574c-8d47-43db-ba32-dd09bfc25ec1",
   "metadata": {},
   "source": [
    "***\n",
    "### Needs Work"
   ]
  },
  {
   "cell_type": "markdown",
   "id": "810041a1-b3f1-488b-9e3a-d2eceef59a37",
   "metadata": {},
   "source": [
    "***\n",
    "***\n",
    "\n",
    "#### Functioning but Irrelevant"
   ]
  },
  {
   "cell_type": "code",
   "execution_count": 17,
   "id": "45a535a3-b6ed-402e-b6a8-2ebf6be8e2f2",
   "metadata": {},
   "outputs": [
    {
     "name": "stdout",
     "output_type": "stream",
     "text": [
      "Car with the maximum speed of 120 km/h\n"
     ]
    }
   ],
   "source": [
    "class Car:\n",
    "    def __init__(self, max_speed, unit):\n",
    "        self.max_speed = max_speed\n",
    "        self.unit = unit\n",
    "\n",
    "    def __str__(self):\n",
    "        return 'Car with the maximum speed of ' + str(self.max_speed) + ' ' + str(self.unit)\n",
    "class Boat:\n",
    "    def __init__(self, max_speed):\n",
    "        self.max_speed = max_speed\n",
    "\n",
    "    def __str__(self):\n",
    "        return 'Boat with the maximum speed of ' + str(self.max_speed) + ' knots'\n",
    "\n",
    "\n",
    "car = Car(120, 'km/h')\n",
    "print(car)"
   ]
  },
  {
   "cell_type": "markdown",
   "id": "2bdf535c-3eff-4a5a-a12c-27967ea8aed0",
   "metadata": {},
   "source": [
    "***\n",
    "***\n",
    "***\n",
    "### Graveyard"
   ]
  },
  {
   "cell_type": "markdown",
   "id": "fff95b0d-d381-4e88-9db9-0400ce902e48",
   "metadata": {},
   "source": [
    "Technical: 3 coding questions and 3 sql query/ Accept an integer and return if the number even or odd/ Print a list of numbers 0 to 100, print airplane if the number is divisible by 3 and 5, air if divisible by 3 and plane if by 5/ Take in a string and check if the string is palindrome or not and true as boolean value/ (SQL) extract employee that is in HR departments/ Get a lowest price from products/ Get the product name that has the total revenue less than or equal to 10 (hint: total revenue from sales table)"
   ]
  },
  {
   "cell_type": "code",
   "execution_count": 102,
   "id": "2c7f557c-fee5-4326-9980-67ecbafe7814",
   "metadata": {},
   "outputs": [],
   "source": [
    "def FizzBuzzFour(n):\n",
    "    for num in range(0, n + 1):\n",
    "        if num % 3 == 0 and num % 5 == 0 and num != 0:\n",
    "            print('FIZZBUZZ')\n",
    "        elif num % 3 == 0 and num != 0:\n",
    "            print('fizz')\n",
    "        elif num % 5 == 0 and num != 0:\n",
    "            print('buzz')\n",
    "        else:\n",
    "            print(num)          "
   ]
  },
  {
   "cell_type": "code",
   "execution_count": 158,
   "id": "18c023da-4159-475d-b403-21143d6e6bd5",
   "metadata": {},
   "outputs": [],
   "source": [
    "#FizzBuzzFour(100)"
   ]
  },
  {
   "cell_type": "code",
   "execution_count": 106,
   "id": "2bf5b0ef-8aa0-46e3-b9bb-2be1cdba409b",
   "metadata": {},
   "outputs": [],
   "source": [
    "hofmann_hundred = range(0,101)\n",
    "# this would also work if I used list(range(0,101))"
   ]
  },
  {
   "cell_type": "code",
   "execution_count": 108,
   "id": "0812d7e6-8149-4d0b-b04f-2c10487d3d6e",
   "metadata": {},
   "outputs": [],
   "source": [
    "def FizzBuzzFIVE(r):\n",
    "    for n in r:\n",
    "        # since 0 divided by any number would have a remainder of zero\n",
    "        # it is important to first specify that 0 should be printed as-is\n",
    "        # otherwise, zero would evaluate as 'airplane'\n",
    "        if n == 0:\n",
    "            print(n)\n",
    "        # ELSE IF for the following up to else\n",
    "        # if there is no remainder when divided by 3 and 5\n",
    "        elif n % 3 == 0 and n % 5 == 0:\n",
    "            # print airplane, as it is divisible by both\n",
    "            print('airplane')\n",
    "            # if there is no remainder when divided by just three\n",
    "        elif n % 3 == 0:\n",
    "            # print air, as it is divisible by 3\n",
    "            print('air')\n",
    "            # if there is no reaminder when divided by just five\n",
    "        elif n % 5 == 0:\n",
    "            # print plane\n",
    "            print('plane')\n",
    "            #otherwise\n",
    "        else:\n",
    "            # print the number in the range.\n",
    "            print(n)"
   ]
  },
  {
   "cell_type": "code",
   "execution_count": 109,
   "id": "659e9b93-b825-472e-b8c4-44a272c07f02",
   "metadata": {},
   "outputs": [],
   "source": [
    "#FizzBuzzFIVE(hofmann_hundred)"
   ]
  },
  {
   "cell_type": "code",
   "execution_count": 116,
   "id": "93b158d0-f40b-4068-9ed4-279d9a40144c",
   "metadata": {},
   "outputs": [],
   "source": [
    "def FizzBuzzSix():\n",
    "    for n in range(0,101):\n",
    "        if n == 0:\n",
    "            print(n)\n",
    "        elif n % 3 == 0 and n % 5 == 0:\n",
    "            print('airplane')\n",
    "        elif n % 3 == 0:\n",
    "            print('air')\n",
    "        elif n % 5 == 0:\n",
    "            print('plane')\n",
    "        else:\n",
    "            print(n)"
   ]
  },
  {
   "cell_type": "code",
   "execution_count": 151,
   "id": "0d2760ee-816a-40b4-869c-58e0a307275d",
   "metadata": {},
   "outputs": [],
   "source": [
    "def isPalindrome(s):\n",
    "    s = str(s).replace(\" \", \"\")\n",
    "    return s == s[::-1]"
   ]
  },
  {
   "cell_type": "code",
   "execution_count": 112,
   "id": "e7900fe6-5a4f-4887-8fd1-77e8f593a57e",
   "metadata": {},
   "outputs": [],
   "source": [
    "def isPalindrome1(s):\n",
    "    # initial starting point\n",
    "    forward = 0\n",
    "    # reversal starting point\n",
    "    backward = len(s) - 1\n",
    "    # while the start length is less than the end length\n",
    "    while forward < backward:\n",
    "        # if the letter in the string at this instance\n",
    "        # is not equal to the letter on the other end\n",
    "        if s[forward] != s[backward]:\n",
    "        # return False as it is not a Palindrome\n",
    "            return False\n",
    "        # otherwise, move the letter sequence to the right by adding one to the start position\n",
    "        # and take away a letter from the opposite end, so they move evenly\n",
    "        else:\n",
    "            forward = forward + 1\n",
    "            backward = backward - 1\n",
    "        # continue through the while instance and if at any point the letters are not the same\n",
    "        # return False, otherwise, it is a Palindrome so return --->\n",
    "    return True\n",
    "\n",
    "def isPalindrome2(string):\n",
    "    # in case someone wants to test if a numbered sequence\n",
    "    # or phrase is a Palindrome\n",
    "    string = str(string).replace(\" \", \"\")\n",
    "    # if the string reads the same way both forward and in reverse, it is a Palindrome\n",
    "    # so this returns as a Boolean(True) when the requirements are met. Otherwise, False. \n",
    "    # this evaluates on the basis of a negative step, effectively reversing the list.\n",
    "    return string == string[::-1]\n",
    "\n",
    "def isPalindrome3(str):\n",
    "# Run loop from 0 to len/2\n",
    "    for i in range(0, int(len(str)/2)):\n",
    "        # this approach also accounts for numbered sequences and phrases\n",
    "        if str[i] != str[len(str)-i-1]:\n",
    "            return False\n",
    "    return True\n",
    "        \n",
    "def isPalindrome4(s):\n",
    "    # Using predefined function to\n",
    "    # reverse to string print(s)\n",
    "    rev = ''.join(reversed(s))\n",
    "    # evaluate equivalency\n",
    "    if (s == rev):\n",
    "        return True\n",
    "    return False"
   ]
  },
  {
   "cell_type": "code",
   "execution_count": 92,
   "id": "59312ed0-a9fd-475d-a8f8-775ac2f52361",
   "metadata": {},
   "outputs": [
    {
     "name": "stdout",
     "output_type": "stream",
     "text": [
      "12321\n"
     ]
    },
    {
     "data": {
      "text/plain": [
       "True"
      ]
     },
     "execution_count": 92,
     "metadata": {},
     "output_type": "execute_result"
    }
   ],
   "source": [
    "isPalindrome4('12321')"
   ]
  },
  {
   "cell_type": "code",
   "execution_count": 156,
   "id": "62d220bb-9314-4a4b-b567-9e0b51892f10",
   "metadata": {},
   "outputs": [
    {
     "data": {
      "text/plain": [
       "[10, 20, 30, 40, 50, 60, 70, 80, 90, 100]"
      ]
     },
     "execution_count": 156,
     "metadata": {},
     "output_type": "execute_result"
    }
   ],
   "source": [
    "yep = list(range(10, 101, 10))\n",
    "yep"
   ]
  },
  {
   "cell_type": "code",
   "execution_count": 96,
   "id": "02ed32b4-08e8-4a44-a11f-cc77508c8f08",
   "metadata": {},
   "outputs": [
    {
     "data": {
      "text/plain": [
       "False"
      ]
     },
     "execution_count": 96,
     "metadata": {},
     "output_type": "execute_result"
    }
   ],
   "source": [
    "isPalindrome2('dolphin')"
   ]
  },
  {
   "cell_type": "code",
   "execution_count": 76,
   "id": "b7d9503d-73f9-4d67-b235-ff9cdb3b62ec",
   "metadata": {},
   "outputs": [],
   "source": [
    "def isPalindrome2(string):\n",
    "    # in case someone wants to test if a numbered sequence is a Palindrome\n",
    "    string = str(string)\n",
    "    # this would handle instances of palindrome phrases, such as \"dont nod\"\n",
    "    string = string.replace(\" \", \"\")\n",
    "    # if the string reads the same way in reverse then it is a Palindrome\n",
    "    # so it return as a Boolean(True) when the requirements are met. \n",
    "    return string == string[::-1]"
   ]
  },
  {
   "cell_type": "code",
   "execution_count": 66,
   "id": "4cd8ad5e-c434-4455-b23e-284e9ace88d7",
   "metadata": {},
   "outputs": [
    {
     "data": {
      "text/plain": [
       "True"
      ]
     },
     "execution_count": 66,
     "metadata": {},
     "output_type": "execute_result"
    }
   ],
   "source": [
    "isPalindrome2(12421)"
   ]
  },
  {
   "cell_type": "code",
   "execution_count": 78,
   "id": "f306fd6f-7c29-4a25-96eb-3fa4f99c8c07",
   "metadata": {},
   "outputs": [
    {
     "name": "stdout",
     "output_type": "stream",
     "text": [
      "a\n"
     ]
    },
    {
     "data": {
      "text/plain": [
       "True"
      ]
     },
     "execution_count": 78,
     "metadata": {},
     "output_type": "execute_result"
    }
   ],
   "source": [
    "isPalindrome2('a')"
   ]
  },
  {
   "cell_type": "code",
   "execution_count": 83,
   "id": "f4f5a658-d017-4328-91e1-811252d8a825",
   "metadata": {},
   "outputs": [],
   "source": [
    "def isPalindrome3(str):\n",
    "# Run loop from 0 to len/2\n",
    "    for i in range(0, int(len(str)/2)):\n",
    "        # this approach also accounts for numbered sequences and phrases\n",
    "        if str[i] != str[len(str)-i-1]:\n",
    "            return False\n",
    "        else:\n",
    "            return True"
   ]
  },
  {
   "cell_type": "code",
   "execution_count": 85,
   "id": "95be6af0-da5e-4de6-851a-42d7ef5c0393",
   "metadata": {},
   "outputs": [
    {
     "data": {
      "text/plain": [
       "False"
      ]
     },
     "execution_count": 85,
     "metadata": {},
     "output_type": "execute_result"
    }
   ],
   "source": [
    "isPalindrome3('dolphin')"
   ]
  },
  {
   "cell_type": "markdown",
   "id": "b629bf95-727b-4b72-a5dc-4f6dfbba361a",
   "metadata": {},
   "source": [
    "We can use stop value to stop taking before some element. E.g., let’s not include 20 and 10 values:\n",
    "\n",
    ">>> nums = [10, 20, 30, 40, 50, 60, 70, 80, 90]\n",
    ">>> nums[-2:1:-1]\n",
    "[80, 70, 60, 50, 40, 30]\n",
    "We use 1 for stop index, which is the element with value 20. So, we go from 80 till 30, not including value 20.\n",
    "\n",
    "It’s a bit baffling that with a negative step, stop index is located before start. Negative step turns everything upside down."
   ]
  },
  {
   "cell_type": "code",
   "execution_count": 51,
   "id": "db69aec4-1e1e-455d-87fe-fa7485e9e173",
   "metadata": {},
   "outputs": [],
   "source": [
    "def even_or_odd():\n",
    "    num = None\n",
    "    while num is None:\n",
    "        # input() automatically converts the received data into a string\n",
    "        input_value = input(\"Please provide an integer; do not use quotes. \")\n",
    "        # hence, we should try to convert it to a valid integer\n",
    "        try:\n",
    "            # Type-cast to convert VALID input into an integer. \n",
    "            # this will not work if the number was put into quotes.\n",
    "            num = int(input_value)\n",
    "        except ValueError:\n",
    "            # tell the user off\n",
    "            print(f\"{input_value} is not an integer; only type an integer\")\n",
    "    # that will repeat until the pre-requisite is met. \n",
    "    if num % 2 == 0:    # at last, a valid integer. Here, it would be even.\n",
    "        print(f\"{num} is an even number\")\n",
    "    else:               # if it is not divisible by two; i.e., if there's a remainder...\n",
    "        # print the number while indicating it is odd.\n",
    "        print(f\"{num} is an odd number\")   "
   ]
  },
  {
   "cell_type": "code",
   "execution_count": 74,
   "id": "aa791af1-5984-4744-b35f-16fe102eb364",
   "metadata": {},
   "outputs": [],
   "source": [
    "def isPalindrome(s):\n",
    "    # make a conversion in the event of a phrase or set of numbers\n",
    "    s = str(s).replace(\" \", \"\")\n",
    "    return s == s[::-1]"
   ]
  },
  {
   "cell_type": "code",
   "execution_count": 99,
   "id": "931f2f25-cdb4-4aaf-b714-3a26887e9524",
   "metadata": {},
   "outputs": [],
   "source": [
    "def isPalindrome(s):\n",
    "    s = str(s).replace(\" \", \"\")\n",
    "    rev = ''.join(reversed(s))\n",
    "    return s == rev"
   ]
  },
  {
   "cell_type": "code",
   "execution_count": null,
   "id": "1f5ffa37-2021-441e-b099-4f21c910a66c",
   "metadata": {},
   "outputs": [],
   "source": [
    "def swap_case(word):\n",
    "    return ''.join([character.lower() if character.isupper() else character.upper() for character in word])\n",
    "\n",
    "def reverse_words_order_and_swap_cases(sentence):\n",
    "    words = sentence.split(' ')[::-1]\n",
    "    return ' '.join([swap_case(word) for word in words])\n",
    "\n",
    "print(swap_case('hello'))\n",
    "print(reverse_words_order_and_swap_cases('OhMyGoShHhH'))"
   ]
  },
  {
   "cell_type": "code",
   "execution_count": 114,
   "id": "d69d38f5-59f1-483f-a130-a79702d7b5b7",
   "metadata": {},
   "outputs": [],
   "source": [
    "def printWords(s):\n",
    "    # split the string\n",
    "    s = s.split(' ')\n",
    "    # iterate in words of string\n",
    "    for word in s: \n",
    "        #if length is even \n",
    "        if len(word)%2==0:\n",
    "            print(word, \"'s length is even\")\n",
    "        elif len(word)%2!=0:\n",
    "            print(word, 'has an odd number of characters')"
   ]
  },
  {
   "cell_type": "code",
   "execution_count": 11,
   "id": "1e2e4f89-bf02-4ebf-b1ea-13c90dc209a7",
   "metadata": {},
   "outputs": [],
   "source": [
    "def even_or_odd(string = None):\n",
    "    num = None\n",
    "    while num is None and string is None:\n",
    "        # input() automatically converts the received data into a string\n",
    "        input_value = input(\"Please provide an integer; do not use quotes. \")\n",
    "        # hence, we should try to convert it to a valid integer\n",
    "        try:\n",
    "            # Type-cast to convert VALID input into an integer. \n",
    "            # this will not work if the number was put into quotes.\n",
    "            num = int(input_value)\n",
    "        except ValueError:\n",
    "            # tell the user off\n",
    "            print(f\"{input_value} is not an integer; only type an integer\")\n",
    "            \n",
    "        # that will repeat until the pre-requisite is met. \n",
    "        if num % 2 == 0:    # at last, a valid integer. Here, it would be even.\n",
    "            print(f\"{num} is an even number\")\n",
    "        else:               # if it is not divisible by two; i.e., if there's a remainder...\n",
    "            # print the number while indicating it is odd.\n",
    "            print(f\"{num} is an odd number\")   \n",
    "        \n",
    "    while string != None:\n",
    "        string = string.split(' ')\n",
    "        for word in string:\n",
    "            if len(word) % 2 == 0:\n",
    "                print(word, 'has an even length of characters')\n",
    "            else:\n",
    "                print(word, 'has an odd number of characters')\n",
    "        break"
   ]
  },
  {
   "cell_type": "code",
   "execution_count": 14,
   "id": "dd8e7a65-fa60-44f3-b38f-4a48a2c5d64a",
   "metadata": {},
   "outputs": [],
   "source": [
    "def even_or_odd(string = None):           \n",
    "    \n",
    "    while string != None:\n",
    "        string = string.split(' ')\n",
    "        for word in string:\n",
    "            if len(word) % 2 == 0:\n",
    "                print(word, 'has an even length of characters')\n",
    "            else:\n",
    "                print(word, 'has an odd number of characters')\n",
    "        break\n",
    "        \n",
    "    num = None\n",
    "    while num is None and string is None:\n",
    "        # input() automatically converts the received data into a string\n",
    "        input_value = input(\"Please provide an integer; do not use quotes. \")\n",
    "        # hence, we should try to convert it to a valid integer\n",
    "        try:\n",
    "            # Type-cast to convert VALID input into an integer. \n",
    "            # this will not work if the number was put into quotes.\n",
    "            num = int(input_value)\n",
    "        except ValueError:\n",
    "            # tell the user off\n",
    "            print(f\"{input_value} is not an integer; only type an integer\")\n",
    "            \n",
    "        # that will repeat until the pre-requisite is met. \n",
    "        if num % 2 == 0:    # at last, a valid integer. Here, it would be even.\n",
    "            print(f\"{num} is an even number\")\n",
    "        else:               # if it is not divisible by two; i.e., if there's a remainder...\n",
    "            # print the number while indicating it is odd.\n",
    "            print(f\"{num} is an odd number\")   \n"
   ]
  },
  {
   "cell_type": "code",
   "execution_count": null,
   "id": "4dd4f4fd-68b7-47e3-87db-b930aa4c4f25",
   "metadata": {},
   "outputs": [],
   "source": [
    "def swap_case(word):\n",
    "    return ''.join([character.lower() if character.isupper() else character.upper() for character in word])\n",
    "\n",
    "def reverse_words_order_and_swap_cases(sentence):\n",
    "    words = sentence.split(' ')[::-1]\n",
    "    return ' '.join([swap_case(word) for word in words])\n"
   ]
  },
  {
   "cell_type": "code",
   "execution_count": 23,
   "id": "b3bd4f57-acdd-4aec-9d5c-99ecb8c79391",
   "metadata": {},
   "outputs": [],
   "source": [
    "def swap_case(word):\n",
    "    return ''.join([letter.lower() \\\n",
    "                    if letter.isupper() \\\n",
    "                    else letter.upper() \\\n",
    "                    for letter in word])"
   ]
  },
  {
   "cell_type": "code",
   "execution_count": 24,
   "id": "c0b51249-0427-4bdc-80a3-e43d75723f5c",
   "metadata": {},
   "outputs": [
    {
     "data": {
      "text/plain": [
       "'dOlPhIn'"
      ]
     },
     "execution_count": 24,
     "metadata": {},
     "output_type": "execute_result"
    }
   ],
   "source": [
    "swap_case('DoLpHiN')"
   ]
  },
  {
   "cell_type": "code",
   "execution_count": 25,
   "id": "5c951973-a428-4672-9553-57a23bb5b658",
   "metadata": {},
   "outputs": [],
   "source": [
    "def reverse_words_order_and_swap_cases(sentence):\n",
    "    words = sentence.split(' ')[::-1]\n",
    "    return ' '.join([swap_case(word) for word in words])"
   ]
  },
  {
   "cell_type": "code",
   "execution_count": 45,
   "id": "7b18b00f-73e2-4dba-8048-04891fb51314",
   "metadata": {},
   "outputs": [],
   "source": [
    "def swap_case(word):\n",
    "    return ''.join([letter.lower() if letter.isupper()\\\n",
    "                    else letter.upper() for letter in word]\n",
    "                  )"
   ]
  },
  {
   "cell_type": "code",
   "execution_count": 48,
   "id": "d40fc6c1-9eb3-467b-a2e5-71ca63e8b4fc",
   "metadata": {},
   "outputs": [],
   "source": [
    "def rev_sent_order_and_swap(sentence):\n",
    "    words = sentence.split(' ')[::-1]\n",
    "    return ' '.join([swap_case(word) for word in words])"
   ]
  },
  {
   "cell_type": "code",
   "execution_count": null,
   "id": "4d52445d-1a37-464d-9703-096d383067e6",
   "metadata": {},
   "outputs": [],
   "source": []
  }
 ],
 "metadata": {
  "kernelspec": {
   "display_name": "Python 3 (ipykernel)",
   "language": "python",
   "name": "python3"
  },
  "language_info": {
   "codemirror_mode": {
    "name": "ipython",
    "version": 3
   },
   "file_extension": ".py",
   "mimetype": "text/x-python",
   "name": "python",
   "nbconvert_exporter": "python",
   "pygments_lexer": "ipython3",
   "version": "3.9.7"
  }
 },
 "nbformat": 4,
 "nbformat_minor": 5
}
