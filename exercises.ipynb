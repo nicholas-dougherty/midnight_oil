{
 "cells": [
  {
   "cell_type": "code",
   "execution_count": 2,
   "id": "1c1d33c2-3521-45d8-a23d-fb429c3345dd",
   "metadata": {},
   "outputs": [
    {
     "name": "stdin",
     "output_type": "stream",
     "text": [
      "Enter a number: 7\n"
     ]
    },
    {
     "name": "stdout",
     "output_type": "stream",
     "text": [
      "This is an odd number.\n"
     ]
    }
   ],
   "source": [
    "#  Accept integer and return even or odd\n",
    "num = int(input(\"Enter a number:\"))\n",
    "mod = num % 2 \n",
    "if mod > 0:\n",
    "    print(\"This is an odd number.\")\n",
    "else:\n",
    "    print(\"This is an even number.\")"
   ]
  },
  {
   "cell_type": "code",
   "execution_count": 3,
   "id": "221e990f-a741-44b7-8ae5-1e5d1e724d1f",
   "metadata": {},
   "outputs": [
    {
     "data": {
      "text/plain": [
       "1"
      ]
     },
     "execution_count": 3,
     "metadata": {},
     "output_type": "execute_result"
    }
   ],
   "source": [
    "5 % 2"
   ]
  },
  {
   "cell_type": "markdown",
   "id": "a1da7943-5660-48b1-8626-51e59b618d74",
   "metadata": {},
   "source": [
    "The % symbol in Python is called the Modulo Operator. It returns the remainder of dividing the left hand operand by right hand operand. It's used to get the remainder of a division problem."
   ]
  },
  {
   "cell_type": "code",
   "execution_count": null,
   "id": "cbd0fb7c-7d97-41ab-beaa-045caa507213",
   "metadata": {},
   "outputs": [],
   "source": [
    "# Print list of numbers 0 to 100"
   ]
  },
  {
   "cell_type": "code",
   "execution_count": 6,
   "id": "7b501455-82f7-4f1e-94ab-6f7de31b9cf4",
   "metadata": {},
   "outputs": [
    {
     "name": "stdout",
     "output_type": "stream",
     "text": [
      "[0, 1, 2, 3, 4, 5, 6, 7, 8, 9, 10, 11, 12, 13, 14, 15, 16, 17, 18, 19, 20, 21, 22, 23, 24, 25, 26, 27, 28, 29, 30, 31, 32, 33, 34, 35, 36, 37, 38, 39, 40, 41, 42, 43, 44, 45, 46, 47, 48, 49, 50, 51, 52, 53, 54, 55, 56, 57, 58, 59, 60, 61, 62, 63, 64, 65, 66, 67, 68, 69, 70, 71, 72, 73, 74, 75, 76, 77, 78, 79, 80, 81, 82, 83, 84, 85, 86, 87, 88, 89, 90, 91, 92, 93, 94, 95, 96, 97, 98, 99, 100]\n"
     ]
    }
   ],
   "source": [
    "lst = list(range(101))\n",
    "print(lst)\n"
   ]
  },
  {
   "cell_type": "code",
   "execution_count": null,
   "id": "0b43014e-102c-4ef1-b89c-234f37a85bce",
   "metadata": {},
   "outputs": [],
   "source": []
  },
  {
   "cell_type": "code",
   "execution_count": 7,
   "id": "dbe2d19f-cf93-44bb-8216-c9b7be207aae",
   "metadata": {},
   "outputs": [
    {
     "name": "stdout",
     "output_type": "stream",
     "text": [
      "0 15 30 45 60 75 90 "
     ]
    }
   ],
   "source": [
    "# For list of numbers, print 'air' if divisible by three,\n",
    "# 'plane' if divisible by 5, 'airplane' if divisible by both\n",
    "\n",
    "# Python program to print all the numbers\n",
    "# divisible by 3 and 5 for a given number\n",
    " \n",
    "# Result function with N\n",
    "def result(N):\n",
    "     \n",
    "    # iterate from 0 to N\n",
    "    for num in range(N):\n",
    "         \n",
    "            # Short-circuit operator is used\n",
    "            if num % 3 == 0 and num % 5 == 0:\n",
    "                print(str(num) + \" \", end = \"\")\n",
    "                 \n",
    "            else:\n",
    "                pass\n",
    " \n",
    "# Driver code\n",
    "if __name__ == \"__main__\":\n",
    "     \n",
    "    # input goes here\n",
    "    N = 100\n",
    "     \n",
    "    # Calling function\n",
    "    result(N)"
   ]
  },
  {
   "cell_type": "code",
   "execution_count": 1,
   "id": "b447375d-25f6-439f-8e62-ef0b1cd35946",
   "metadata": {},
   "outputs": [
    {
     "name": "stdin",
     "output_type": "stream",
     "text": [
      "Enter your number: 6\n"
     ]
    },
    {
     "name": "stdout",
     "output_type": "stream",
     "text": [
      "6 is divisible by 3\n"
     ]
    }
   ],
   "source": [
    "num1=int(input(\"Enter your number:\"))\n",
    "if(num1%3==0):\n",
    "    print(\"{} is divisible by 3\".format(num1))\n",
    "else:\n",
    "    print(\"{} is not divisible by 3\".format(num1))"
   ]
  },
  {
   "cell_type": "code",
   "execution_count": 33,
   "id": "55e1d34a-09e9-4187-bab1-5ef201bc6bf4",
   "metadata": {},
   "outputs": [],
   "source": [
    "def convert(number):\n",
    "    result = \"\"\n",
    "    if (number % 3 == 0 and number % 5 == 0):\n",
    "        result += \"airplane\"\n",
    "    elif (number % 3 == 0):\n",
    "        result += \"air\"\n",
    "    elif (number % 5 == 0):\n",
    "        result += \"plane\"  \n",
    "    return result"
   ]
  },
  {
   "cell_type": "code",
   "execution_count": 41,
   "id": "c55f97b8-e8fe-44df-ba85-d6f7991a4118",
   "metadata": {},
   "outputs": [],
   "source": [
    "def convert1(number):\n",
    "    if (number % 3 == 0 and number % 5 == 0):\n",
    "        result = \"airplane\"\n",
    "    elif (number % 3 == 0):\n",
    "        result = \"air\"\n",
    "    elif (number % 5 == 0):\n",
    "        result = \"plane\"  \n",
    "    return result"
   ]
  },
  {
   "cell_type": "code",
   "execution_count": 45,
   "id": "f2f8e0ef-c2f7-41b5-bf85-2d46e28fa5a8",
   "metadata": {},
   "outputs": [
    {
     "data": {
      "text/plain": [
       "'plane'"
      ]
     },
     "execution_count": 45,
     "metadata": {},
     "output_type": "execute_result"
    }
   ],
   "source": [
    "convert1(5)"
   ]
  },
  {
   "cell_type": "code",
   "execution_count": 46,
   "id": "ad0a0590-8013-4a50-aa99-c94488c48fac",
   "metadata": {},
   "outputs": [
    {
     "name": "stdout",
     "output_type": "stream",
     "text": [
      "1 \n",
      "2 \n",
      "3 air\n",
      "4 \n",
      "5 planeairplane\n",
      "6 air\n",
      "7 \n",
      "8 \n",
      "9 air\n",
      "10 planeairplane\n",
      "11 \n",
      "12 air\n",
      "13 \n",
      "14 \n",
      "15 airplaneairplane\n",
      "16 \n",
      "17 \n",
      "18 air\n",
      "19 \n",
      "20 planeairplane\n",
      "21 air\n",
      "22 \n",
      "23 \n",
      "24 air\n"
     ]
    }
   ],
   "source": [
    "def convert(number):\n",
    "    names = [ [3, \"air\"], [5, \"plane\"], [3 and 5, \"airplane\"] ]\n",
    "    result = \"\"\n",
    "    for value,message in names:\n",
    "        if not number % value: result += message\n",
    "    if message == \"\": message = f\"{number}\"\n",
    "    return result\n",
    "\n",
    "for index in range(1,25): print(index, convert(index))"
   ]
  },
  {
   "cell_type": "code",
   "execution_count": 18,
   "id": "fad3177e-0e81-4895-8153-1967a668d50c",
   "metadata": {},
   "outputs": [
    {
     "data": {
      "text/plain": [
       "'airplaneairplane'"
      ]
     },
     "execution_count": 18,
     "metadata": {},
     "output_type": "execute_result"
    }
   ],
   "source": [
    "convert(15)"
   ]
  },
  {
   "cell_type": "code",
   "execution_count": 1,
   "id": "ebd8cd3e",
   "metadata": {},
   "outputs": [],
   "source": [
    "def fizzBuzz(n):\n",
    "    for number in range(1, n + 1):\n",
    "        if number % 3 == 0 and number % 5 == 0:\n",
    "            print('FizzBuzz')\n",
    "        elif number % 3 == 0:\n",
    "            print('Fizz')\n",
    "        elif number % 5 == 0:\n",
    "            print('Buzz')\n",
    "        else:\n",
    "            print(number)"
   ]
  },
  {
   "cell_type": "code",
   "execution_count": 3,
   "id": "f8e0e892",
   "metadata": {},
   "outputs": [
    {
     "name": "stdout",
     "output_type": "stream",
     "text": [
      "1\n",
      "2\n",
      "Fizz\n",
      "4\n",
      "Buzz\n",
      "Fizz\n",
      "7\n",
      "8\n",
      "Fizz\n",
      "Buzz\n",
      "11\n",
      "Fizz\n",
      "13\n",
      "14\n",
      "FizzBuzz\n",
      "16\n",
      "17\n",
      "Fizz\n",
      "19\n",
      "Buzz\n",
      "Fizz\n",
      "22\n",
      "23\n",
      "Fizz\n",
      "Buzz\n",
      "26\n",
      "Fizz\n",
      "28\n",
      "29\n",
      "FizzBuzz\n",
      "31\n",
      "32\n",
      "Fizz\n",
      "34\n",
      "Buzz\n",
      "Fizz\n",
      "37\n",
      "38\n",
      "Fizz\n",
      "Buzz\n",
      "41\n",
      "Fizz\n",
      "43\n",
      "44\n",
      "FizzBuzz\n",
      "46\n",
      "47\n",
      "Fizz\n",
      "49\n",
      "Buzz\n",
      "Fizz\n",
      "52\n",
      "53\n",
      "Fizz\n",
      "Buzz\n",
      "56\n",
      "Fizz\n",
      "58\n",
      "59\n",
      "FizzBuzz\n",
      "61\n",
      "62\n",
      "Fizz\n",
      "64\n",
      "Buzz\n",
      "Fizz\n",
      "67\n",
      "68\n",
      "Fizz\n",
      "Buzz\n",
      "71\n",
      "Fizz\n",
      "73\n",
      "74\n",
      "FizzBuzz\n"
     ]
    }
   ],
   "source": [
    "fizzBuzz(75)"
   ]
  },
  {
   "cell_type": "code",
   "execution_count": 4,
   "id": "01bb82f1",
   "metadata": {},
   "outputs": [
    {
     "name": "stdout",
     "output_type": "stream",
     "text": [
      "HELLO\n"
     ]
    }
   ],
   "source": [
    "def swap_case(word):\n",
    "    return ''.join([character.lower() if character.isupper() else character.upper() for character in word])\n",
    "\n",
    "\n",
    "def reverse_words_order_and_swap_cases(sentence):\n",
    "    words = sentence.split(' ')[::-1]\n",
    "    return ' '.join([swap_case(word) for word in words])\n",
    "\n",
    "\n",
    "print(swap_case('hello'))"
   ]
  },
  {
   "cell_type": "code",
   "execution_count": 5,
   "id": "fb74e713",
   "metadata": {},
   "outputs": [
    {
     "name": "stdout",
     "output_type": "stream",
     "text": [
      "oHmYgOsHhHh\n"
     ]
    }
   ],
   "source": [
    "print(reverse_words_order_and_swap_cases('OhMyGoShHhH'))"
   ]
  },
  {
   "cell_type": "code",
   "execution_count": null,
   "id": "6fe243bb-b9b1-4f2e-adab-87ab223220a0",
   "metadata": {},
   "outputs": [],
   "source": [
    "#accept string and determine if palindrome or not, return True or False"
   ]
  },
  {
   "cell_type": "code",
   "execution_count": 6,
   "id": "1589140f",
   "metadata": {},
   "outputs": [
    {
     "name": "stdout",
     "output_type": "stream",
     "text": [
      "Car with the maximum speed of 120 km/h\n"
     ]
    }
   ],
   "source": [
    "class Car:\n",
    "    def __init__(self, max_speed, unit):\n",
    "        self.max_speed = max_speed\n",
    "        self.unit = unit\n",
    "\n",
    "    def __str__(self):\n",
    "        return 'Car with the maximum speed of ' + str(self.max_speed) + ' ' + str(self.unit)\n",
    "\n",
    "\n",
    "class Boat:\n",
    "    def __init__(self, max_speed):\n",
    "        self.max_speed = max_speed\n",
    "\n",
    "    def __str__(self):\n",
    "        return 'Boat with the maximum speed of ' + str(self.max_speed) + ' knots'\n",
    "\n",
    "\n",
    "car = Car(120, 'km/h')\n",
    "print(car)"
   ]
  },
  {
   "cell_type": "code",
   "execution_count": 8,
   "id": "231e1783-2666-4414-9d4b-24924afd770e",
   "metadata": {},
   "outputs": [
    {
     "name": "stdout",
     "output_type": "stream",
     "text": [
      "Palindrome\n"
     ]
    }
   ],
   "source": [
    "def isPalindrome(s):\n",
    " \n",
    "    i = 0\n",
    "    j = len(s) - 1\n",
    "    while i < j:\n",
    "        if s[i] != s[j]:\n",
    "            return False\n",
    "        i = i + 1\n",
    "        j = j - 1\n",
    " \n",
    "    return True\n",
    " \n",
    " \n",
    "if __name__ == '__main__':\n",
    " \n",
    "    s = 'XYBYBYX'\n",
    " \n",
    "    if isPalindrome(s):\n",
    "        print('Palindrome')\n",
    "    else:\n",
    "        print('Not Palindrome')"
   ]
  },
  {
   "cell_type": "code",
   "execution_count": 9,
   "id": "7756c094-3269-4903-9410-6af1a47f9bef",
   "metadata": {},
   "outputs": [
    {
     "data": {
      "text/plain": [
       "True"
      ]
     },
     "execution_count": 9,
     "metadata": {},
     "output_type": "execute_result"
    }
   ],
   "source": [
    "isPalindrome('doggod')"
   ]
  },
  {
   "cell_type": "code",
   "execution_count": 11,
   "id": "4011297b-e969-4688-ad7c-5862cc9a9ba4",
   "metadata": {},
   "outputs": [
    {
     "data": {
      "text/plain": [
       "False"
      ]
     },
     "execution_count": 11,
     "metadata": {},
     "output_type": "execute_result"
    }
   ],
   "source": [
    "isPalindrome('dolphin')"
   ]
  },
  {
   "cell_type": "code",
   "execution_count": 12,
   "id": "64a275eb-cd3d-4ff2-915e-9f71977168f1",
   "metadata": {},
   "outputs": [
    {
     "name": "stdout",
     "output_type": "stream",
     "text": [
      "Yes\n"
     ]
    }
   ],
   "source": [
    "# function which return reverse of a string\n",
    " \n",
    "def isPalindrome(s):\n",
    "    return s == s[::-1]\n",
    " \n",
    " \n",
    "# Driver code\n",
    "s = \"malayalam\"\n",
    "ans = isPalindrome(s)\n",
    " \n",
    "if ans:\n",
    "    print(\"Yes\")\n",
    "else:\n",
    "    print(\"No\")"
   ]
  },
  {
   "cell_type": "code",
   "execution_count": 13,
   "id": "8890257c-1357-44c2-a0aa-a7c2d6e21d41",
   "metadata": {},
   "outputs": [
    {
     "name": "stdout",
     "output_type": "stream",
     "text": [
      "Yes\n"
     ]
    }
   ],
   "source": [
    "# function to check string is\n",
    "# palindrome or not\n",
    "def isPalindrome(str):\n",
    " \n",
    "    # Run loop from 0 to len/2\n",
    "    for i in range(0, int(len(str)/2)):\n",
    "        if str[i] != str[len(str)-i-1]:\n",
    "            return False\n",
    "    return True\n",
    " \n",
    "# main function\n",
    "s = \"malayalam\"\n",
    "ans = isPalindrome(s)\n",
    " \n",
    "if (ans):\n",
    "    print(\"Yes\")\n",
    "else:\n",
    "    print(\"No\")"
   ]
  },
  {
   "cell_type": "code",
   "execution_count": 14,
   "id": "fa0229bd-8347-4562-9722-c859ba8e2edf",
   "metadata": {},
   "outputs": [
    {
     "name": "stdout",
     "output_type": "stream",
     "text": [
      "Yes\n"
     ]
    }
   ],
   "source": [
    "# function to check string is\n",
    "# palindrome or not\n",
    "def isPalindrome(s):\n",
    " \n",
    "    # Using predefined function to\n",
    "    # reverse to string print(s)\n",
    "    rev = ''.join(reversed(s))\n",
    " \n",
    "    # Checking if both string are\n",
    "    # equal or not\n",
    "    if (s == rev):\n",
    "        return True\n",
    "    return False\n",
    " \n",
    "# main function\n",
    "s = \"malayalam\"\n",
    "ans = isPalindrome(s)\n",
    " \n",
    "if (ans):\n",
    "    print(\"Yes\")\n",
    "else:\n",
    "    print(\"No\")"
   ]
  },
  {
   "cell_type": "code",
   "execution_count": null,
   "id": "2584a59e-916e-4e0e-b379-b100ebccfe7f",
   "metadata": {},
   "outputs": [],
   "source": [
    "# SQL\n",
    "# print item with the lowest price\n",
    "# print names of all employees in the HR department\n"
   ]
  },
  {
   "cell_type": "code",
   "execution_count": 8,
   "id": "68c1cb50",
   "metadata": {},
   "outputs": [],
   "source": [
    "def unknown_method(word):\n",
    "    result = ''\n",
    "    if len(word)%2 == 0:\n",
    "        index = (len(word)/2)\n",
    "        result += (word[index-1])\n",
    "        result += (word[index])\n",
    "    else:\n",
    "        result += word[(len(word)/2)]\n",
    "    return result"
   ]
  },
  {
   "cell_type": "code",
   "execution_count": 9,
   "id": "9471daa8",
   "metadata": {},
   "outputs": [
    {
     "ename": "TypeError",
     "evalue": "string indices must be integers",
     "output_type": "error",
     "traceback": [
      "\u001b[0;31m---------------------------------------------------------------------------\u001b[0m",
      "\u001b[0;31mTypeError\u001b[0m                                 Traceback (most recent call last)",
      "\u001b[0;32m/var/folders/qn/sd1_3x2j4196db03067vql600000gn/T/ipykernel_35645/2621426702.py\u001b[0m in \u001b[0;36m<module>\u001b[0;34m\u001b[0m\n\u001b[0;32m----> 1\u001b[0;31m \u001b[0munknown_method\u001b[0m\u001b[0;34m(\u001b[0m\u001b[0;34m'word'\u001b[0m\u001b[0;34m)\u001b[0m\u001b[0;34m\u001b[0m\u001b[0;34m\u001b[0m\u001b[0m\n\u001b[0m",
      "\u001b[0;32m/var/folders/qn/sd1_3x2j4196db03067vql600000gn/T/ipykernel_35645/1590660849.py\u001b[0m in \u001b[0;36munknown_method\u001b[0;34m(word)\u001b[0m\n\u001b[1;32m      3\u001b[0m     \u001b[0;32mif\u001b[0m \u001b[0mlen\u001b[0m\u001b[0;34m(\u001b[0m\u001b[0mword\u001b[0m\u001b[0;34m)\u001b[0m\u001b[0;34m%\u001b[0m\u001b[0;36m2\u001b[0m \u001b[0;34m==\u001b[0m \u001b[0;36m0\u001b[0m\u001b[0;34m:\u001b[0m\u001b[0;34m\u001b[0m\u001b[0;34m\u001b[0m\u001b[0m\n\u001b[1;32m      4\u001b[0m         \u001b[0mindex\u001b[0m \u001b[0;34m=\u001b[0m \u001b[0;34m(\u001b[0m\u001b[0mlen\u001b[0m\u001b[0;34m(\u001b[0m\u001b[0mword\u001b[0m\u001b[0;34m)\u001b[0m\u001b[0;34m/\u001b[0m\u001b[0;36m2\u001b[0m\u001b[0;34m)\u001b[0m\u001b[0;34m\u001b[0m\u001b[0;34m\u001b[0m\u001b[0m\n\u001b[0;32m----> 5\u001b[0;31m         \u001b[0mresult\u001b[0m \u001b[0;34m+=\u001b[0m \u001b[0;34m(\u001b[0m\u001b[0mword\u001b[0m\u001b[0;34m[\u001b[0m\u001b[0mindex\u001b[0m\u001b[0;34m-\u001b[0m\u001b[0;36m1\u001b[0m\u001b[0;34m]\u001b[0m\u001b[0;34m)\u001b[0m\u001b[0;34m\u001b[0m\u001b[0;34m\u001b[0m\u001b[0m\n\u001b[0m\u001b[1;32m      6\u001b[0m         \u001b[0mresult\u001b[0m \u001b[0;34m+=\u001b[0m \u001b[0;34m(\u001b[0m\u001b[0mword\u001b[0m\u001b[0;34m[\u001b[0m\u001b[0mindex\u001b[0m\u001b[0;34m]\u001b[0m\u001b[0;34m)\u001b[0m\u001b[0;34m\u001b[0m\u001b[0;34m\u001b[0m\u001b[0m\n\u001b[1;32m      7\u001b[0m     \u001b[0;32melse\u001b[0m\u001b[0;34m:\u001b[0m\u001b[0;34m\u001b[0m\u001b[0;34m\u001b[0m\u001b[0m\n",
      "\u001b[0;31mTypeError\u001b[0m: string indices must be integers"
     ]
    }
   ],
   "source": [
    "unknown_method('word')"
   ]
  },
  {
   "cell_type": "code",
   "execution_count": null,
   "id": "9db12860",
   "metadata": {},
   "outputs": [],
   "source": []
  }
 ],
 "metadata": {
  "kernelspec": {
   "display_name": "Python 3 (ipykernel)",
   "language": "python",
   "name": "python3"
  },
  "language_info": {
   "codemirror_mode": {
    "name": "ipython",
    "version": 3
   },
   "file_extension": ".py",
   "mimetype": "text/x-python",
   "name": "python",
   "nbconvert_exporter": "python",
   "pygments_lexer": "ipython3",
   "version": "3.9.7"
  }
 },
 "nbformat": 4,
 "nbformat_minor": 5
}
