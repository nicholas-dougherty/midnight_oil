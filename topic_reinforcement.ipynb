{
 "cells": [
  {
   "cell_type": "code",
   "execution_count": 2,
   "id": "eb544b72-54de-4db7-b27c-4cad0ac8495f",
   "metadata": {},
   "outputs": [],
   "source": [
    "import pandas as pd \n",
    "import numpy as np \n",
    "import copy\n",
    "import random"
   ]
  },
  {
   "cell_type": "code",
   "execution_count": 60,
   "id": "9b564054-20ab-45dd-9264-75b8c3dd54e7",
   "metadata": {},
   "outputs": [],
   "source": [
    "a = list(range(1, 20))\n",
    "b = list(range(21, 35))\n",
    "c = copy.copy(a)\n",
    "d = copy.deepcopy(b)\n",
    "\n",
    "#In this method, we neither reverse a list in-place(modify the original list),\n",
    "#nor we create any copy of the list. Instead, we get a reverse iterator which\n",
    "#we use to cycle through the list. \n",
    "def reverse(lst):\n",
    "    return [ele for ele in reversed(lst)]\n",
    "\n",
    "f = reverse(a)[-8:]\n",
    "g = f + a\n",
    "h = a\n",
    "i = a[3]\n",
    "j = a.copy()\n",
    "\n",
    "a = a[2:9]\n",
    "print(a)\n",
    "print(c)\n",
    "print(f)\n",
    "print(j)\n",
    "print(i)"
   ]
  },
  {
   "cell_type": "code",
   "execution_count": 90,
   "id": "96072d3d-2a20-4db6-989b-fe34b906337d",
   "metadata": {},
   "outputs": [],
   "source": [
    "aa = [ [1, 2, 3], [4, 5, 6] ]\n",
    "bb = aa.copy()\n",
    "cc = copy.copy(aa)\n",
    "\n",
    "print(aa)\n",
    "print(bb)\n",
    "print(cc)\n",
    "\n",
    "aa[1][2] = 42\n",
    "print(aa)\n",
    "print(bb)\n",
    "print(cc)\n",
    "\n",
    "ee = [8, 9, 10]\n",
    "aa.append(ee)\n",
    "#dd = aa.append([[8, 9, 10]])\n",
    "\n",
    "print(aa)\n",
    "print(bb)\n",
    "print(cc)\n",
    "\n",
    "aa[0][0] = 'dolphin'\n",
    "print(aa)\n",
    "print(bb)\n",
    "print(cc)\n",
    "\n",
    "ff = copy.deepcopy(aa)\n",
    "\n",
    "aa[0][1] = '2deep5u'\n",
    "aa[2][0] = 'seven8'\n",
    "\n",
    "print(aa)\n",
    "print(bb)\n",
    "print(cc)\n",
    "print(ff)"
   ]
  },
  {
   "cell_type": "code",
   "execution_count": 102,
   "id": "0d8ade40-aec3-4665-9662-46f6f085db3d",
   "metadata": {},
   "outputs": [],
   "source": [
    "# Reversing a list using slicing technique\n",
    "#In this technique, a copy of the list is made and the list is not sorted in-place.\n",
    "#Creating a copy requires more space to hold all of the existing elements.\n",
    "#This exhausts more memory. \n",
    "def Reverse2(lst):\n",
    "    new_lst = lst[::-1]\n",
    "    return new_lst"
   ]
  },
  {
   "cell_type": "markdown",
   "id": "986cb7f6-36be-4520-978c-bc26a62c8ddd",
   "metadata": {},
   "source": [
    "1. What is the difference between a list and a tuple?\n",
    "- Lists are mutable. They can be modified after creation.\n",
    "- Tuples are immutable. Once a tuple is created it cannot by changed\n",
    "- Lists have order. They are an ordered sequences, typically of the same type of object. Ie: all user names ordered by creation date, [\"Seth\", \"Ema\", \"Eli\"]\n",
    "- Tuples have structure. Different data types may exist at each index. Ie: a database record in memory, (2, \"Ema\", \"2020–04–16\") # id, name, created_at"
   ]
  },
  {
   "cell_type": "markdown",
   "id": "a65b0d38-3651-4dd3-8083-06150549b07a",
   "metadata": {},
   "source": [
    "***\n",
    "2. How is string interpolation performed?\n",
    "Without importing the Template class, there are 3 ways to interpolate strings."
   ]
  },
  {
   "cell_type": "code",
   "execution_count": 4,
   "id": "3589402a-fa02-413a-9fa7-95231caf141f",
   "metadata": {},
   "outputs": [
    {
     "name": "stdout",
     "output_type": "stream",
     "text": [
      "Hello Chris\n",
      "Hey Chris \n",
      "My name is Jonas\n",
      " Chris, I Jonas am carrying the wheel\n"
     ]
    }
   ],
   "source": [
    "name = 'Chris'\n",
    "name2 = 'Jonas'\n",
    "word = 'wheel'\n",
    "# 1. f strings\n",
    "print(f'Hello {name}')\n",
    "# 2. % operator\n",
    "print('Hey %s ' % (name))\n",
    "# 3. format\n",
    "print(\n",
    " \"My name is {}\".format((name2))\n",
    ")\n",
    "print(f' {name}, I %s' % (name2), f'am carrying the {word}')"
   ]
  },
  {
   "cell_type": "markdown",
   "id": "54b518cb-a419-42d5-92dc-26cff2bbe14e",
   "metadata": {},
   "source": [
    "***\n",
    "3. What is the difference between “is” and “==”?\n",
    "For the record, _is_ checks identity and == checks equality.\n",
    "We’ll walk through an example. Create some lists and assign them to names. Note that b points to the same object as a in below."
   ]
  },
  {
   "cell_type": "code",
   "execution_count": 13,
   "id": "691d35ba-2b18-4b07-866e-1bc139e5a84b",
   "metadata": {},
   "outputs": [
    {
     "name": "stdout",
     "output_type": "stream",
     "text": [
      "True\n",
      "True \n",
      "\n",
      "but do they have the same identity? \n",
      " \n",
      " Nope. \n",
      "\n",
      "140516505814976\n",
      "140516505814976\n",
      "140516554920896\n",
      " \n",
      " c has a different id than a and b \n",
      " \n",
      " Nevertheless, they are the same TYPE \n",
      "\n",
      "<class 'list'>\n",
      "<class 'list'>\n",
      "<class 'list'>\n"
     ]
    }
   ],
   "source": [
    "a = [1,2,3]\n",
    "b = a\n",
    "c = [1,2,3]\n",
    "\n",
    "# check equality and note they are all equal\n",
    "\n",
    "print(a == b)\n",
    "print(a == c, '\\n')\n",
    "\n",
    "print('but do they have the same identity? \\n \\n Nope. \\n')\n",
    "\n",
    "print(id(a))\n",
    "print(id(b))\n",
    "print(id(c))\n",
    "\n",
    "print(' \\n c has a different id than a and b \\n \\n Nevertheless, they are the same TYPE \\n')\n",
    "\n",
    "print(type(a))\n",
    "print(type(b))\n",
    "print(type(c))\n"
   ]
  },
  {
   "cell_type": "markdown",
   "id": "29e26afa-32e9-414b-b435-bd54b74197ce",
   "metadata": {},
   "source": [
    "***\n",
    "4. What is a decorator?\n",
    "A decorator allows adding functionality to an existing function by passing that existing function to a decorator, which executes the existing function as well as additional code.       \n",
    "\n",
    "We’ll write a decorator that that logs when another function is called.       \n",
    "\n",
    "__Write the decorator function__. This takes a function, func, as an argument. It also defines a function, log_function_called, which calls func() and executes some code, print(f'{func} called.'). Then it return the function it defined"
   ]
  },
  {
   "cell_type": "code",
   "execution_count": 14,
   "id": "ad4b59b0-be4e-45ba-80ce-ac3462cf5d37",
   "metadata": {},
   "outputs": [],
   "source": [
    "def logging(func):\n",
    "    def log_function_called():\n",
    "      print(f'{func} called.')\n",
    "      func()\n",
    "    return log_function_called\n",
    "\n",
    "# Let’s write other functions that we’ll eventually add the decorator to (but not yet)."
   ]
  },
  {
   "cell_type": "code",
   "execution_count": 16,
   "id": "c2da806a-64f7-4094-b652-c4174715ed4c",
   "metadata": {},
   "outputs": [
    {
     "name": "stdout",
     "output_type": "stream",
     "text": [
      "naruta\n",
      "naruto\n",
      "<function my_name at 0x7fcc8f546310> called.\n",
      "naruta\n",
      "<function friends_name at 0x7fcc8f546ee0> called.\n",
      "naruto\n"
     ]
    }
   ],
   "source": [
    "def my_name():\n",
    "    print('naruta')\n",
    "    \n",
    "def friends_name():\n",
    "    print('naruto')\n",
    "    \n",
    "my_name()\n",
    "friends_name()\n",
    "##################\n",
    "@logging\n",
    "def my_name():\n",
    "    print('naruta')\n",
    "    \n",
    "@logging\n",
    "def friends_name():\n",
    "    print('naruto')\n",
    "    \n",
    "my_name()\n",
    "friends_name()"
   ]
  },
  {
   "cell_type": "markdown",
   "id": "f4410952-d5fd-4911-9888-4dec22f8767a",
   "metadata": {},
   "source": [
    "***\n",
    "5. Explain the range function\n",
    "- Range generates a list of integers and there are 3 ways to use it.        \n",
    "- The function takes 1 to 3 arguments. Note I’ve wrapped each usage in list comprehension so we can see the values generated. \n",
    "- range(stop) : generate integers from 0 to the “stop” integer.      "
   ]
  },
  {
   "cell_type": "code",
   "execution_count": 25,
   "id": "6a2fc69b-53d2-48c4-ad53-c22e7b3e29dd",
   "metadata": {},
   "outputs": [
    {
     "data": {
      "text/plain": [
       "[0, 1, 2, 3, 4, 5, 6, 7, 8, 9, 10, 11, 12, 13, 14, 15, 16, 17, 18, 19, 20, 21]"
      ]
     },
     "execution_count": 25,
     "metadata": {},
     "output_type": "execute_result"
    }
   ],
   "source": [
    "[i for i in range(22)]"
   ]
  },
  {
   "cell_type": "code",
   "execution_count": 26,
   "id": "1bdef49d-0f49-420b-9356-c9eb4ea2452f",
   "metadata": {},
   "outputs": [
    {
     "data": {
      "text/plain": [
       "[2, 3, 4, 5, 6, 7, 8, 9]"
      ]
     },
     "execution_count": 26,
     "metadata": {},
     "output_type": "execute_result"
    }
   ],
   "source": [
    "# range(start, stop) : generate integers from the “start” to the “stop” integer.\n",
    "[i for i in range(2,10)]"
   ]
  },
  {
   "cell_type": "code",
   "execution_count": 33,
   "id": "20a499e1-043d-417c-aa92-67e3cc8e64be",
   "metadata": {},
   "outputs": [
    {
     "name": "stdout",
     "output_type": "stream",
     "text": [
      "a more \"pythonic\" approach would be like so: \n",
      "\n",
      "the code:  print(list(range(2,10,2)))\n",
      "[2, 4, 6, 8]\n"
     ]
    }
   ],
   "source": [
    "# range(start, stop, step) : generate integers from “start” to “stop” at intervals of “step”.\n",
    "[i for i in range(2,10,2)]\n",
    "\n",
    "print('a more \"pythonic\" approach would be like so: \\n')\n",
    "example = 'print(list(range(2,10,2)))'\n",
    "print('the code: ',example)\n",
    "print(list(range(2,10,2)))"
   ]
  },
  {
   "cell_type": "code",
   "execution_count": 34,
   "id": "3f00c907-acf4-4d95-9494-03744883e5b6",
   "metadata": {},
   "outputs": [
    {
     "data": {
      "text/plain": [
       "'100mph'"
      ]
     },
     "execution_count": 34,
     "metadata": {},
     "output_type": "execute_result"
    }
   ],
   "source": [
    "#6. Define a class named car with 2 attributes, “color” and “speed”.\n",
    "#   Then create an instance and return speed.\n",
    "\n",
    "class Car :\n",
    "    def __init__(self, color, speed):\n",
    "        self.color = color\n",
    "        self.speed = speed\n",
    "        \n",
    "car = Car('red','100mph')\n",
    "car.speed"
   ]
  },
  {
   "cell_type": "markdown",
   "id": "83b8e493-2c98-41b2-94a4-779602654997",
   "metadata": {},
   "source": [
    "***\n",
    "7. What is the difference between instance, static and class methods in python?\n",
    "- __Instance methods__ : accept self parameter and relate to a specific instance of the class.\n",
    "- __Static methods__ : use @staticmethod decorator, are not related to a specific instance, and are self-contained (don’t modify class or instance attributes)\n",
    "- __Class methods__ : accept cls parameter and can modify the class itself       \n",
    "We’re going to illustrate the difference around a fictional CoffeeShop class."
   ]
  },
  {
   "cell_type": "code",
   "execution_count": 35,
   "id": "dc9a328a-3842-4809-9dc7-78819432c390",
   "metadata": {},
   "outputs": [],
   "source": [
    "class CoffeeShop:\n",
    "    specialty = 'espresso'\n",
    "    \n",
    "    def __init__(self, coffee_price):\n",
    "        self.coffee_price = coffee_price\n",
    "    \n",
    "    # instance method\n",
    "    def make_coffee(self):\n",
    "        print(f'Making {self.specialty} for ${self.coffee_price}')\n",
    "    \n",
    "    # static method    \n",
    "    @staticmethod\n",
    "    def check_weather():\n",
    "        print('Its sunny')\n",
    "    # class method\n",
    "    @classmethod\n",
    "    def change_specialty(cls, specialty):\n",
    "        cls.specialty = specialty\n",
    "        print(f'Specialty changed to {specialty}')"
   ]
  },
  {
   "cell_type": "markdown",
   "id": "6a9907f3-c41f-44be-80db-6b169ca9b51c",
   "metadata": {},
   "source": [
    "CoffeeShop class has an attribute, specialty, set to 'espresso' by default. Each instance of CoffeeShop is initialized with an attribute coffee_price . It also has 3 methods, an instance method, a static method and a class method.          \n",
    "Let’s initialize an instance of the coffee shop with a coffee_price of 5. Then call the instance method make_coffee."
   ]
  },
  {
   "cell_type": "code",
   "execution_count": 36,
   "id": "c2e7af32-31d7-4610-8c03-a751367d4c12",
   "metadata": {},
   "outputs": [
    {
     "name": "stdout",
     "output_type": "stream",
     "text": [
      "Making espresso for $5\n"
     ]
    }
   ],
   "source": [
    "coffee_shop = CoffeeShop('5')\n",
    "coffee_shop.make_coffee()"
   ]
  },
  {
   "cell_type": "markdown",
   "id": "052ac065-4c89-4d8e-9b2f-3531c96e7495",
   "metadata": {},
   "source": [
    "Now call the static method. Static methods can’t modify class or instance state so they’re normally used for utility functions, for example, adding 2 numbers. We used ours to check the weather.Its sunny. Great!"
   ]
  },
  {
   "cell_type": "code",
   "execution_count": 37,
   "id": "939ce771-a5db-4082-9636-5bf05a9d7dc9",
   "metadata": {},
   "outputs": [
    {
     "name": "stdout",
     "output_type": "stream",
     "text": [
      "Its sunny\n"
     ]
    }
   ],
   "source": [
    "coffee_shop.check_weather()"
   ]
  },
  {
   "cell_type": "markdown",
   "id": "14d8ff0a-86f1-453c-b792-21c58063daa6",
   "metadata": {},
   "source": [
    "Now let’s use the class method to modify the coffee shop’s specialty and then make_coffee."
   ]
  },
  {
   "cell_type": "code",
   "execution_count": 38,
   "id": "636be5e9-1294-4221-847c-b2c0292b5db5",
   "metadata": {},
   "outputs": [
    {
     "name": "stdout",
     "output_type": "stream",
     "text": [
      "Specialty changed to drip coffee\n",
      "Making drip coffee for $5\n"
     ]
    }
   ],
   "source": [
    "coffee_shop.change_specialty('drip coffee')\n",
    "\n",
    "coffee_shop.make_coffee()\n",
    "# Note how make_coffee used to make espresso but now makes drip coffee!"
   ]
  },
  {
   "cell_type": "markdown",
   "id": "4008471c-da1c-48dd-9033-582517f099f1",
   "metadata": {},
   "source": [
    "***\n",
    "8. What is the difference between “func” and “func()”?\n",
    "The purpose of this question is to see if you understand that all functions are also objects in python.\n",
    "func is the object representing the function which can be assigned to a variable or passed to another function. func() with parentheses calls the function and returns what it outputs."
   ]
  },
  {
   "cell_type": "code",
   "execution_count": 43,
   "id": "61ec8d63-890e-46a0-9468-9d96ad40075a",
   "metadata": {},
   "outputs": [
    {
     "name": "stdout",
     "output_type": "stream",
     "text": [
      "<class 'function'>\n",
      "Im a function\n"
     ]
    }
   ],
   "source": [
    "def func():\n",
    "    print('Im a function')\n",
    "    \n",
    "print(type(func))\n",
    "#=> function __main__.func>\n",
    "func()    \n",
    "#=> Im a function"
   ]
  },
  {
   "cell_type": "markdown",
   "id": "e914a269-0d52-41d7-bdfb-190898aff472",
   "metadata": {},
   "source": [
    "***\n",
    "9. Explain how the map function works\n",
    "map returns a map object (an iterator) which can iterate over returned values from applying a function to every element in a sequence. The map object can also be converted to a list if required."
   ]
  },
  {
   "cell_type": "code",
   "execution_count": 45,
   "id": "cd6df3be-9d47-4632-84a9-5cd67d6583aa",
   "metadata": {},
   "outputs": [
    {
     "data": {
      "text/plain": [
       "[4, 5, 6]"
      ]
     },
     "execution_count": 45,
     "metadata": {},
     "output_type": "execute_result"
    }
   ],
   "source": [
    "def add_three(x):\n",
    "    return x + 3\n",
    "li = [1,2,3]\n",
    "[i for i in map(add_three, li)]\n",
    "\n",
    "# the more pythonic approach\n",
    "list(map(add_three, li))"
   ]
  },
  {
   "cell_type": "markdown",
   "id": "2bc74c89-2122-40f0-b60b-c156b12b29ff",
   "metadata": {},
   "source": [
    "10. Explain how the reduce function works\n",
    "This can be tricky to wrap your head around until you use it a few times.\n",
    "reduce takes a function and a sequence and iterates over that sequence. On each iteration, both the current element and output from the previous element are passed to the function. In the end, a single value is returned.\n",
    "\n",
    "Python’s reduce() is a function that implements a mathematical technique called folding or reduction. reduce() is useful when you need to apply a function to an iterable and reduce it to a single cumulative value. Python’s reduce() is popular among developers with a functional programming background, but Python has more to offer.\n",
    "\n",
    "some core features of functional programming include the following:\n",
    "\n",
    "- The use of recursion rather than loops or other structures as a primary flow control structure\n",
    "- A focus on lists or arrays processing\n",
    "- A focus on what is to be computed rather than on how to compute it\n",
    "- The use of pure functions that avoid side effects\n",
    "- The use of higher-order functions\n",
    "\n",
    "Python’s reduce() operates on any iterable—not just lists—and performs the following steps:\n",
    "\n",
    "- Apply a function (or callable) to the first two items in an iterable and generate a partial result.\n",
    "- Use that partial result, together with the third item in the iterable, to generate another partial result.\n",
    "- Repeat the process until the iterable is exhausted and then return a single cumulative value.\n",
    "\n",
    "The idea behind Python’s reduce() is to take an existing function, apply it cumulatively to all the items in an iterable, and generate a single final value. In general, Python’s reduce() is handy for processing iterables without writing explicit for loops. Since reduce() is written in C, its internal loop can be faster than an explicit Python for loop."
   ]
  },
  {
   "cell_type": "code",
   "execution_count": 46,
   "id": "3eb41b2e-9509-4cb3-9934-8c13dca37ee4",
   "metadata": {},
   "outputs": [
    {
     "data": {
      "text/plain": [
       "11"
      ]
     },
     "execution_count": 46,
     "metadata": {},
     "output_type": "execute_result"
    }
   ],
   "source": [
    "from functools import reduce\n",
    "\n",
    "def add_three(x,y):\n",
    "    return x + y\n",
    "li = [1,2,3,5]\n",
    "\n",
    "reduce(add_three, li)"
   ]
  },
  {
   "cell_type": "markdown",
   "id": "eff59a24-bbc3-4162-bcf1-4e7fb34f41a3",
   "metadata": {},
   "source": [
    "***\n",
    "11. Explain how the filter function works\n",
    "Filter literally does what the name says. It filters elements in a sequence.\n",
    "Each element is passed to a function which is returned in the outputted sequence if the function returns True and discarded if the function returns False."
   ]
  },
  {
   "cell_type": "code",
   "execution_count": 47,
   "id": "08187ab5-f9ca-4f5a-bf03-f784b3a5c543",
   "metadata": {},
   "outputs": [
    {
     "data": {
      "text/plain": [
       "[2, 4, 6, 8]"
      ]
     },
     "execution_count": 47,
     "metadata": {},
     "output_type": "execute_result"
    }
   ],
   "source": [
    "def add_three(x):\n",
    "    if x % 2 == 0:\n",
    "        return True        \n",
    "    else:\n",
    "        return False\n",
    "li = [1,2,3,4,5,6,7,8]\n",
    "[i for i in filter(add_three, li)]"
   ]
  },
  {
   "cell_type": "markdown",
   "id": "3f827f81-96ba-4609-a5a7-535c2c335f75",
   "metadata": {},
   "source": [
    "*** \n",
    "12. Does python call by reference or call by value?\n",
    "\n",
    "Be prepared to go down a rabbit hole of semantics if you google this question and read the top few pages.      \n",
    "\n",
    "In a nutshell, all names call by reference, but some memory locations hold objects while others hold pointers to yet other memory locations.       "
   ]
  },
  {
   "cell_type": "code",
   "execution_count": 48,
   "id": "9303c166-a7a6-448d-90cf-21a961b33b51",
   "metadata": {},
   "outputs": [
    {
     "name": "stdout",
     "output_type": "stream",
     "text": [
      "-------------------------------------------\n"
     ]
    }
   ],
   "source": [
    "print('-' * 43)"
   ]
  },
  {
   "cell_type": "markdown",
   "id": "e8ad2d57-7b06-4c3b-a0b1-75dd27939b26",
   "metadata": {},
   "source": [
    "***\n",
    "16. What does “self” refer to in a class?\n",
    "Self refers to the instance of the class itself. It’s how we give methods access to and the ability to update the object they belong to.       \n",
    "Below, passing self to __init__() gives us the ability to set the color of an instance on initialization."
   ]
  },
  {
   "cell_type": "code",
   "execution_count": 49,
   "id": "581315a7-9b3c-4612-bfcb-df751b6421d3",
   "metadata": {},
   "outputs": [
    {
     "data": {
      "text/plain": [
       "'yellow'"
      ]
     },
     "execution_count": 49,
     "metadata": {},
     "output_type": "execute_result"
    }
   ],
   "source": [
    "class Shirt:\n",
    "    def __init__(self, color):\n",
    "        self.color = color\n",
    "        \n",
    "s = Shirt('yellow')\n",
    "s.color"
   ]
  },
  {
   "cell_type": "markdown",
   "id": "400189e8-cc0c-427d-b975-a860f47bec7a",
   "metadata": {},
   "source": [
    "***\n",
    "19. What is the difference between lists and arrays?\n",
    "Note: Python’s standard library has an array object but here I’m specifically referring to the commonly used Numpy array.\n",
    "Lists exist in python’s standard library. Arrays are defined by Numpy.\n",
    "Lists can be populated with different types of data at each index. Arrays require homogeneous elements.\n",
    "Arithmetic on lists adds or removes elements from the list. Arithmetic on arrays functions per linear algebra.\n",
    "Arrays also use less memory and come with significantly more functionality."
   ]
  },
  {
   "cell_type": "markdown",
   "id": "77218853-2e28-4bf4-9ed5-62db816e44ce",
   "metadata": {},
   "source": [
    "***\n",
    "20. How to concatenate two arrays?\n",
    "Remember, arrays are not lists. Arrays are from Numpy and arithmetic functions like linear algebra.\n",
    "We need to use Numpy’s concatenate function to do it."
   ]
  },
  {
   "cell_type": "code",
   "execution_count": 50,
   "id": "126f6f28-a197-4fea-b11d-cb1d3ae72285",
   "metadata": {},
   "outputs": [
    {
     "data": {
      "text/plain": [
       "array([1, 2, 3, 4, 5, 6])"
      ]
     },
     "execution_count": 50,
     "metadata": {},
     "output_type": "execute_result"
    }
   ],
   "source": [
    "import numpy as np\n",
    "a = np.array([1,2,3])\n",
    "b = np.array([4,5,6])\n",
    "np.concatenate((a,b))"
   ]
  },
  {
   "cell_type": "markdown",
   "id": "6eb04ebf-e988-4dc6-988f-1ae82f3cb13e",
   "metadata": {},
   "source": [
    "***\n",
    "25. How do you slice a list?\n",
    "Slicing notation takes 3 arguments, list[start:stop:step], where step is the interval at which elements are returned."
   ]
  },
  {
   "cell_type": "code",
   "execution_count": 51,
   "id": "e90b5c84-9fab-482c-8084-fee8e414484c",
   "metadata": {},
   "outputs": [
    {
     "name": "stdout",
     "output_type": "stream",
     "text": [
      "[0, 1]\n",
      "[8, 9]\n",
      "[2, 3, 4, 5, 6, 7]\n",
      "[2, 4, 6]\n"
     ]
    }
   ],
   "source": [
    "a = [0,1,2,3,4,5,6,7,8,9]\n",
    "\n",
    "print(a[:2])\n",
    "\n",
    "print(a[8:])\n",
    "\n",
    "print(a[2:8])\n",
    "\n",
    "print(a[2:8:2])"
   ]
  },
  {
   "cell_type": "markdown",
   "id": "96fba674-6948-4074-ab34-32cd1cd8c972",
   "metadata": {},
   "source": [
    "***\n",
    "26. What is pickling?        \n",
    "Pickling is the go-to method of serializing and unserializing objects in Python.      \n",
    "In the example below, we serialize and unserialize a list of dictionaries."
   ]
  },
  {
   "cell_type": "code",
   "execution_count": 52,
   "id": "ec096355-3111-4594-ae70-04af148377fc",
   "metadata": {},
   "outputs": [
    {
     "name": "stdout",
     "output_type": "stream",
     "text": [
      "[{'id': 1, 'name': 'Stuffy'}, {'id': 2, 'name': 'Fluffy'}]\n"
     ]
    }
   ],
   "source": [
    "import pickle\n",
    "obj = [\n",
    "    {'id':1, 'name':'Stuffy'},\n",
    "    {'id':2, 'name': 'Fluffy'}\n",
    "]\n",
    "with open('file.p', 'wb') as f:\n",
    "    pickle.dump(obj, f)\n",
    "with open('file.p', 'rb') as f:\n",
    "    loaded_obj = pickle.load(f)\n",
    "print(loaded_obj)"
   ]
  },
  {
   "cell_type": "markdown",
   "id": "64b3f093-0be9-468c-8c63-ef7dbcc708a7",
   "metadata": {},
   "source": [
    "***\n",
    "27. What is the difference between dictionaries and JSON?        \n",
    "Dict is python datatype, a collection of indexed but unordered keys and values.         \n",
    "JSON is just a string which follows a specified format and is intended for transferring data.         "
   ]
  },
  {
   "cell_type": "markdown",
   "id": "66a0928c-0a3c-4197-a282-651655591ef1",
   "metadata": {},
   "source": [
    "***\n",
    "28. What ORMs have you used in Python?\n",
    "ORMs (object relational mapping) map data models (usually in an app) to database tables and simplifies database transactions.\n",
    "SQLAlchemy is typically used in the context of Flask, and Django has it’s own ORM."
   ]
  },
  {
   "cell_type": "markdown",
   "id": "21e90e85-a6af-47f9-96ae-48d2ae886816",
   "metadata": {},
   "source": [
    "***\n",
    "29. How do any() and all() work?      \n",
    "Any takes a sequence and returns true if any element in the sequence is true.       \n",
    "All returns true only if all elements in the sequence are true.       "
   ]
  },
  {
   "cell_type": "code",
   "execution_count": 56,
   "id": "b87d3b07-117f-48bb-9ec1-8fdf6c9a070e",
   "metadata": {},
   "outputs": [
    {
     "name": "stdout",
     "output_type": "stream",
     "text": [
      "results of any(): \n",
      " \n",
      "False\n",
      "True\n",
      "True \n",
      "\n",
      "results of all(): \n",
      "\n",
      "False\n",
      "False\n",
      "True\n"
     ]
    }
   ],
   "source": [
    "a = [False, False, False]\n",
    "b = [True, False, False]\n",
    "c = [True, True, True]\n",
    "print('results of any(): \\n ')\n",
    "print( any(a) )\n",
    "print( any(b) )\n",
    "print( any(c), '\\n' )\n",
    "print('results of all(): \\n')\n",
    "print( all(a) )\n",
    "print( all(b) )\n",
    "print( all(c) )"
   ]
  },
  {
   "cell_type": "markdown",
   "id": "bbbe82b5-dbc9-4693-8ac9-a75c40faa375",
   "metadata": {},
   "source": [
    "***\n",
    "30. Are dictionaries or lists faster for lookups?\n",
    "- Looking up a value in a list takes O(n) time because the whole list needs to be iterated through until the value is found.\n",
    "- Looking up a key in a dictionary takes O(1) time because it’s a hash table.\n",
    "- This can make a huge time difference if there are a lot of values so dictionaries are generally recommended for speed. But they do have other limitations like needing unique keys."
   ]
  },
  {
   "cell_type": "markdown",
   "id": "01b796b9-3579-4603-adde-9465b45a76e3",
   "metadata": {},
   "source": [
    "***\n",
    "31. What is the difference between a module and a package?       \n",
    "- A module is a file (or collection of files) that can be imported together.        \n",
    "    - i.e., import sklearn\n",
    "- a package is a directory of modules\n",
    "    - from sklearn import cross_validation\n",
    "so packages are yielded from modules and are in essence the elements of a module, but not all modules are packages. \n",
    "In other words, modules are the superset of packages. \n"
   ]
  },
  {
   "cell_type": "markdown",
   "id": "bdf1cb01-a5a4-43ee-a834-0d4ffa665fe6",
   "metadata": {},
   "source": [
    "***\n",
    "32. How to increment and decrement an integer in Python?\n",
    "Increments and decrements can be done with +- and -= ."
   ]
  },
  {
   "cell_type": "code",
   "execution_count": 58,
   "id": "9093bab5-0ddb-4094-8036-142b0f153dd0",
   "metadata": {},
   "outputs": [
    {
     "name": "stdout",
     "output_type": "stream",
     "text": [
      "initial value is 5\n",
      "incremented once by one:  6\n",
      "decremented twice by one:  4\n",
      "commonly used in for loops while building an empty list, string, or dictionary\n"
     ]
    }
   ],
   "source": [
    "value = 5\n",
    "print('initial value is', value)\n",
    "value += 1\n",
    "print('incremented once by one: ', value)\n",
    "value -= 1\n",
    "value -= 1\n",
    "print('decremented twice by one: ', value)\n",
    "\n",
    "print('commonly used in for loops while building an empty list, string, or dictionary')"
   ]
  },
  {
   "cell_type": "markdown",
   "id": "179cec02-20ef-42dc-ba6d-da551cf0bd49",
   "metadata": {},
   "source": [
    "*** \n",
    "33. How to return the binary of an integer?\n",
    "Use the bin() function."
   ]
  },
  {
   "cell_type": "code",
   "execution_count": 59,
   "id": "c2d20014-81bc-4b2a-94b4-fc9d152cd00b",
   "metadata": {},
   "outputs": [
    {
     "data": {
      "text/plain": [
       "'0b100'"
      ]
     },
     "execution_count": 59,
     "metadata": {},
     "output_type": "execute_result"
    }
   ],
   "source": [
    "bin(value)"
   ]
  },
  {
   "cell_type": "markdown",
   "id": "6369cfc6-991d-4f3a-87da-17e7679916dc",
   "metadata": {},
   "source": [
    "*** \n",
    "34. How to remove duplicate elements from a list?\n",
    "This can be done by converting the list to a set then back to a list."
   ]
  },
  {
   "cell_type": "code",
   "execution_count": 60,
   "id": "b6e7a4a4-47eb-4ea3-8a2e-602149128ee9",
   "metadata": {},
   "outputs": [
    {
     "name": "stdout",
     "output_type": "stream",
     "text": [
      "[1, 2, 3]\n"
     ]
    }
   ],
   "source": [
    "a = [1,1,1,2,3]\n",
    "a = list(set(a))\n",
    "print(a)\n",
    "# sets will not necessarily maintain the order of a list."
   ]
  },
  {
   "cell_type": "markdown",
   "id": "eb7f708a-b009-41aa-b56d-6a70272c18c9",
   "metadata": {},
   "source": [
    "***\n",
    "35. How do I check if a value exists in a list?\n",
    "Use ```in```"
   ]
  },
  {
   "cell_type": "code",
   "execution_count": 62,
   "id": "4a98c9a0-07bf-4821-86d1-a53398294143",
   "metadata": {},
   "outputs": [
    {
     "data": {
      "text/plain": [
       "False"
      ]
     },
     "execution_count": 62,
     "metadata": {},
     "output_type": "execute_result"
    }
   ],
   "source": [
    "'a' in ['a','b', 'c']"
   ]
  },
  {
   "cell_type": "markdown",
   "id": "c3aab3ff-155a-4e61-b9f2-763eb8f43970",
   "metadata": {},
   "source": [
    "***\n",
    "36. What is the difference between append and extend?\n",
    "append adds a value to a list while extend adds values in another list to a list."
   ]
  },
  {
   "cell_type": "code",
   "execution_count": 64,
   "id": "451846f5-812f-4dca-804a-a5c96f7e93ab",
   "metadata": {},
   "outputs": [
    {
     "name": "stdout",
     "output_type": "stream",
     "text": [
      "[1, 2, 3, 6]\n",
      "[1, 2, 3, 4, 5, 2000]\n"
     ]
    }
   ],
   "source": [
    "a = [1,2,3]\n",
    "b = [1,2,3]\n",
    "a.append(6)\n",
    "print(a)\n",
    "\n",
    "b.extend([4,5, 2000])\n",
    "print(b)"
   ]
  },
  {
   "cell_type": "markdown",
   "id": "adaba470-7d67-44e5-a5ce-d431f646bf89",
   "metadata": {},
   "source": [
    "***\n",
    "38. How to combine two lists into a list of tuples?      \n",
    "You can use the zip function to combine lists into a list of tuples. This isn’t restricted to only using 2 lists. It can also be done with 3 or more."
   ]
  },
  {
   "cell_type": "code",
   "execution_count": 65,
   "id": "f8f1b313-651d-4a25-b092-404cf47fe10a",
   "metadata": {},
   "outputs": [
    {
     "data": {
      "text/plain": [
       "[('a', 1), ('b', 2), ('c', 3)]"
      ]
     },
     "execution_count": 65,
     "metadata": {},
     "output_type": "execute_result"
    }
   ],
   "source": [
    "a = ['a','b','c']\n",
    "b = [1,2,3]\n",
    "[(k,v) for k,v in zip(a,b)]"
   ]
  },
  {
   "cell_type": "markdown",
   "id": "efbc3a2f-9410-4c18-80ee-3b5a11b72c68",
   "metadata": {},
   "source": [
    "***\n",
    "39. How can you sort a dictionary by key, alphabetically?       \n",
    "You can’t “sort” a dictionary because dictionaries don’t have order but you can return a sorted list of tuples which has the keys and values that are in the dictionary."
   ]
  },
  {
   "cell_type": "code",
   "execution_count": 66,
   "id": "8344e112-6e80-4018-a999-d586fa486b4e",
   "metadata": {},
   "outputs": [
    {
     "data": {
      "text/plain": [
       "[('a', 1), ('b', 2), ('c', 3), ('d', 4)]"
      ]
     },
     "execution_count": 66,
     "metadata": {},
     "output_type": "execute_result"
    }
   ],
   "source": [
    "d = {'c':3, 'd':4, 'b':2, 'a':1}\n",
    "sorted(d.items())"
   ]
  },
  {
   "cell_type": "markdown",
   "id": "5b623638-0f47-4bec-9f33-9f1a17992464",
   "metadata": {},
   "source": [
    "***\n",
    "40. How does a class inherit from another class in Python?\n",
    "In the below example, Audi, inherits from Car. And with that inheritance comes the instance methods of the parent class."
   ]
  },
  {
   "cell_type": "code",
   "execution_count": 67,
   "id": "03e85f0c-709a-4a8f-accf-04c31e7aaa96",
   "metadata": {},
   "outputs": [
    {
     "name": "stdout",
     "output_type": "stream",
     "text": [
      "vroom\n"
     ]
    }
   ],
   "source": [
    "class Car():\n",
    "    def drive(self):\n",
    "        print('vroom')\n",
    "class Audi(Car):\n",
    "    pass\n",
    "audi = Audi()\n",
    "audi.drive()"
   ]
  },
  {
   "cell_type": "markdown",
   "id": "d1f41b21-4ca7-4c9d-a00c-f7885a73ec3b",
   "metadata": {},
   "source": [
    "***\n",
    "41. How can you remove all whitespace from a string?      \n",
    "The easiest way is to split the string on whitespace and then rejoin without spaces."
   ]
  },
  {
   "cell_type": "code",
   "execution_count": 68,
   "id": "52cb13c2-9b0a-4f54-ada6-d045189fe559",
   "metadata": {},
   "outputs": [
    {
     "data": {
      "text/plain": [
       "'Astringwithwhitespace'"
      ]
     },
     "execution_count": 68,
     "metadata": {},
     "output_type": "execute_result"
    }
   ],
   "source": [
    "s = 'A string with     white space'\n",
    "''.join(s.split())"
   ]
  },
  {
   "cell_type": "markdown",
   "id": "e4213caf-6079-42e9-9c7a-8bc7fbafd7fa",
   "metadata": {},
   "source": [
    "***\n",
    "dfw =      \n",
    "\n",
    "“To be, in a word, unborable.... It is the key to modern life. If you are immune to boredom, there is literally nothing you cannot accomplish”\n",
    "\n",
    "Enduring tedium over real time in a confined space is what real courage is.... True heroism is minutes, hours, weeks, year upon year of the quiet, precise, judicious exercise of probity and care--with no one there to see or cheer.” \n",
    "\n",
    "“The depressed person was in terrible and unceasing pain, and the impossibility of sharing or articulating this pain was itself a component of the pain and a contributing factor in its essential horror.” \n",
    "\n",
    "“My worst character flaw that I'm conscious of is that I tend to think my way into circles instead of resolving anything. It's paralyzing and boring for people around me.” \n",
    "\n",
    "“It is extremely difficult to stay alert & attentive instead of getting hypnotized by the constant monolog inside your head.” \n",
    "***"
   ]
  },
  {
   "cell_type": "code",
   "execution_count": 14,
   "id": "864e13ea-c374-4047-9120-1b45c29c0ba5",
   "metadata": {},
   "outputs": [
    {
     "name": "stdout",
     "output_type": "stream",
     "text": [
      "I want to die I want to die I want to die I want to die I want to die I want to die I want to die \n"
     ]
    }
   ],
   "source": [
    "print('I want to die ' * (420//60))"
   ]
  },
  {
   "cell_type": "markdown",
   "id": "80428c97-a286-4881-9edd-aae175dde677",
   "metadata": {},
   "source": [
    "***\n",
    "42. Why would you use enumerate() when iterating on a sequence?         \n",
    "enumerate() allows tracking index when iterating over a sequence.         \n",
    "It’s more pythonic than defining and incrementing an integer representing the index."
   ]
  },
  {
   "cell_type": "code",
   "execution_count": 15,
   "id": "cdd42411-967b-4610-a94d-55b35c97d4a2",
   "metadata": {},
   "outputs": [
    {
     "name": "stdout",
     "output_type": "stream",
     "text": [
      "0 a\n",
      "1 b\n",
      "2 c\n",
      "3 d\n",
      "4 e\n"
     ]
    }
   ],
   "source": [
    "li = ['a','b','c','d','e']\n",
    "for idx,val in enumerate(li):\n",
    "    print(idx, val)"
   ]
  },
  {
   "cell_type": "markdown",
   "id": "fa27365b-71d4-48b9-8c58-3195310c0ad1",
   "metadata": {},
   "source": [
    "***\n",
    "43. What is the difference between pass, continue and break?        \n",
    "\n",
    "pass means do nothing. We typically use it because Python doesn’t allow creating a class, function or if-statement without code inside it.         \n",
    "\n",
    "In the example below, an error would be thrown without code inside the i > 3 so we use pass."
   ]
  },
  {
   "cell_type": "code",
   "execution_count": 16,
   "id": "ec8f19d1-4b14-4ddd-a0c1-b45ee32178b9",
   "metadata": {},
   "outputs": [
    {
     "name": "stdout",
     "output_type": "stream",
     "text": [
      "1\n",
      "2\n",
      "3\n",
      "4\n",
      "5\n"
     ]
    }
   ],
   "source": [
    "a = [1,2,3,4,5]\n",
    "for i in a:\n",
    "    if i > 3:\n",
    "        pass\n",
    "    print(i)"
   ]
  },
  {
   "cell_type": "markdown",
   "id": "9ab83aca-f109-46b7-9370-4ff586aee24f",
   "metadata": {},
   "source": [
    "continue continues to the next element and halts execution for the current element. So print(i) is never reached for values where i < 3."
   ]
  },
  {
   "cell_type": "code",
   "execution_count": 17,
   "id": "5efaf5e4-2172-42b3-acd8-b93d618ea61e",
   "metadata": {},
   "outputs": [
    {
     "name": "stdout",
     "output_type": "stream",
     "text": [
      "3\n",
      "4\n",
      "5\n"
     ]
    }
   ],
   "source": [
    "for i in a:\n",
    "    if i < 3:\n",
    "        continue\n",
    "    print(i)"
   ]
  },
  {
   "cell_type": "markdown",
   "id": "a5e109ef-361d-4273-b8f8-6dd89310a0db",
   "metadata": {},
   "source": [
    "break breaks the loop and the sequence is not longer iterated over. So elements from 3 onward are not printed."
   ]
  },
  {
   "cell_type": "code",
   "execution_count": 18,
   "id": "70ff4ca5-5cda-42f8-9c72-93f95163c123",
   "metadata": {},
   "outputs": [
    {
     "name": "stdout",
     "output_type": "stream",
     "text": [
      "1\n",
      "2\n"
     ]
    }
   ],
   "source": [
    "for i in a:\n",
    "    if i == 3:\n",
    "        break\n",
    "    print(i) "
   ]
  },
  {
   "cell_type": "markdown",
   "id": "0cdedfea-e2e8-4043-a16c-bccfbb7c7ced",
   "metadata": {},
   "source": [
    "***\n",
    "44. Convert the following for loop into a list comprehension."
   ]
  },
  {
   "cell_type": "code",
   "execution_count": 19,
   "id": "14fbf653-7aca-45ac-8184-a05212641f8b",
   "metadata": {},
   "outputs": [
    {
     "name": "stdout",
     "output_type": "stream",
     "text": [
      "[2, 3, 4, 5, 6]\n",
      "[2, 3, 4, 5, 6]\n"
     ]
    }
   ],
   "source": [
    "# this for loop\n",
    "\n",
    "a = [1,2,3,4,5]\n",
    " \n",
    "a2 = []\n",
    "for i in a:\n",
    "     a2.append(i + 1)\n",
    "print(a2)\n",
    "\n",
    "# becomes\n",
    "\n",
    "a3 = [i+1 for i in a]\n",
    "print(a3)\n",
    "\n",
    "# List comprehension is generally accepted as more pythonic where it’s still readable."
   ]
  },
  {
   "cell_type": "markdown",
   "id": "cf09e225-3e36-4e1a-95cd-0ceaa9e06d77",
   "metadata": {},
   "source": [
    "***\n",
    "45. Give an example of the ternary operator.\n",
    "The ternary operator is a one-line if/else statement.\n",
    "The syntax looks like a if condition else b."
   ]
  },
  {
   "cell_type": "code",
   "execution_count": 21,
   "id": "a62f34e2-6cb3-40ef-bb82-798459f7df2b",
   "metadata": {},
   "outputs": [
    {
     "name": "stdout",
     "output_type": "stream",
     "text": [
      "less\n"
     ]
    },
    {
     "data": {
      "text/plain": [
       "'greater'"
      ]
     },
     "execution_count": 21,
     "metadata": {},
     "output_type": "execute_result"
    }
   ],
   "source": [
    "x = 5\n",
    "y = 10\n",
    "print('greater' if x > 6 else 'less')\n",
    "'greater' if y > 6 else 'less'"
   ]
  },
  {
   "cell_type": "markdown",
   "id": "036693cb-4b95-4d38-888a-daa0343d150a",
   "metadata": {},
   "source": [
    "***\n",
    "46. Check if a string only contains numbers.\n",
    "You can use isnumeric().\n"
   ]
  },
  {
   "cell_type": "code",
   "execution_count": 29,
   "id": "213997f4-1ac4-4c29-b8b2-6e7087eb9e96",
   "metadata": {},
   "outputs": [
    {
     "name": "stdout",
     "output_type": "stream",
     "text": [
      "False\n",
      "True\n",
      "you can use isalpha() for checking if strings only have letters\n",
      "True\n",
      "True\n"
     ]
    }
   ],
   "source": [
    "print('123a'.isnumeric())\n",
    "print('123'.isnumeric())\n",
    "\n",
    "# Check if a string only contains letters\n",
    "print('you can use isalpha() for checking if strings only have letters')\n",
    "print('abcdefghijk'.isalpha())\n",
    "\n",
    "# check if a string only contains numbers and letters\n",
    "print('123abc'.isalnum())"
   ]
  },
  {
   "cell_type": "markdown",
   "id": "8b5bc9ab-54ea-42a2-b8a9-83b0fbe73fa2",
   "metadata": {},
   "source": [
    "***\n",
    "49. Return a list of keys from a dictionary.\n",
    "This can be done by passing the dictionary to python's list() constructor, list()."
   ]
  },
  {
   "cell_type": "code",
   "execution_count": 30,
   "id": "015b20eb-1b54-401a-9386-1895b6ba739d",
   "metadata": {},
   "outputs": [
    {
     "data": {
      "text/plain": [
       "['id', 'name', 'color', 'speed']"
      ]
     },
     "execution_count": 30,
     "metadata": {},
     "output_type": "execute_result"
    }
   ],
   "source": [
    "d = {'id':7, 'name':'Shiba', 'color':'brown', 'speed':'very slow'}\n",
    "list(d)"
   ]
  },
  {
   "cell_type": "code",
   "execution_count": 35,
   "id": "340b7586-9a5d-4f1b-9ae1-8bde85e615bc",
   "metadata": {},
   "outputs": [
    {
     "name": "stdout",
     "output_type": "stream",
     "text": [
      "['a', 'b', 'c', 'd']\n",
      "['b', 'c', 'd']\n",
      "c\n"
     ]
    },
    {
     "data": {
      "text/plain": [
       "['a', 'b', 'd']"
      ]
     },
     "execution_count": 35,
     "metadata": {},
     "output_type": "execute_result"
    }
   ],
   "source": [
    "# 51. What is the difference between remove, del and pop?\n",
    "from copy import deepcopy\n",
    "# remove() removes the first matching value.\n",
    "li = ['a', 'b', 'c', 'd']\n",
    "li2 = deepcopy(li)\n",
    "li3 = deepcopy(li)\n",
    "\n",
    "li.remove('b')\n",
    "print(li)\n",
    "\n",
    "# del removes an element by index\n",
    "del li2[0]\n",
    "print(li2)\n",
    "\n",
    "# pop() removes an element by index and returns that element. \n",
    "print(li3.pop(2))\n",
    "li3"
   ]
  },
  {
   "cell_type": "markdown",
   "id": "fe2f4f0a-ab40-40ee-8ede-4c357131da8f",
   "metadata": {},
   "source": [
    "***\n",
    "52. Give an example of dictionary comprehension.\n",
    "Below we’ll create dictionary with letters of the alphabet as keys, and index in the alphabet as values."
   ]
  },
  {
   "cell_type": "code",
   "execution_count": 36,
   "id": "b7294490-bf2a-48e1-9473-9ec16464e57c",
   "metadata": {},
   "outputs": [
    {
     "data": {
      "text/plain": [
       "{'a': 0,\n",
       " 'b': 1,\n",
       " 'c': 2,\n",
       " 'd': 3,\n",
       " 'e': 4,\n",
       " 'f': 5,\n",
       " 'g': 6,\n",
       " 'h': 7,\n",
       " 'i': 8,\n",
       " 'j': 9,\n",
       " 'k': 10,\n",
       " 'l': 11,\n",
       " 'm': 12,\n",
       " 'n': 13,\n",
       " 'o': 14,\n",
       " 'p': 15,\n",
       " 'q': 16,\n",
       " 'r': 17,\n",
       " 's': 18,\n",
       " 't': 19,\n",
       " 'u': 20,\n",
       " 'v': 21,\n",
       " 'w': 22,\n",
       " 'x': 23,\n",
       " 'y': 24,\n",
       " 'z': 25}"
      ]
     },
     "execution_count": 36,
     "metadata": {},
     "output_type": "execute_result"
    }
   ],
   "source": [
    "# creating a list of letters\n",
    "import string\n",
    "list(string.ascii_lowercase)\n",
    "alphabet = list(string.ascii_lowercase)\n",
    "# list comprehension\n",
    "d = {val:idx for idx,val in enumerate(alphabet)} \n",
    "d"
   ]
  },
  {
   "cell_type": "markdown",
   "id": "ff2a8c14-c5a4-46a9-91db-51ec50ec2215",
   "metadata": {},
   "source": [
    "***\n",
    "53. How is exception handling performed in Python?\n",
    "Python provides 3 words to handle exceptions, try, except and finally.\n",
    "The syntax looks like this."
   ]
  },
  {
   "cell_type": "code",
   "execution_count": 38,
   "id": "758e31db-d30c-45c4-a935-99ac1b10e5d4",
   "metadata": {},
   "outputs": [],
   "source": [
    "# try:\n",
    "#     # try to do this\n",
    "# except:\n",
    "#     # if try block fails then do this\n",
    "# finally:\n",
    "#     # always do this"
   ]
  },
  {
   "cell_type": "markdown",
   "id": "f51adbd1-7997-44ba-bb9e-cc33675df702",
   "metadata": {},
   "source": [
    "***"
   ]
  },
  {
   "cell_type": "code",
   "execution_count": 44,
   "id": "61de9a0e-c3cd-47f7-b60e-10a94f572b2b",
   "metadata": {},
   "outputs": [],
   "source": [
    "tup = (1,2,3)"
   ]
  },
  {
   "cell_type": "code",
   "execution_count": 40,
   "id": "ff18557a-bba1-405f-9c38-286ac7c4ef49",
   "metadata": {},
   "outputs": [
    {
     "data": {
      "text/plain": [
       "(1, 2, 3, 1, 2, 3, 1, 2, 3)"
      ]
     },
     "execution_count": 40,
     "metadata": {},
     "output_type": "execute_result"
    }
   ],
   "source": [
    "tup * 3"
   ]
  },
  {
   "cell_type": "code",
   "execution_count": 41,
   "id": "cc0bbe92-b452-45fa-ba8e-8e7fdc0c2f8a",
   "metadata": {},
   "outputs": [
    {
     "data": {
      "text/plain": [
       "(1, 2, 3)"
      ]
     },
     "execution_count": 41,
     "metadata": {},
     "output_type": "execute_result"
    }
   ],
   "source": [
    "tup"
   ]
  },
  {
   "cell_type": "code",
   "execution_count": 42,
   "id": "a989683c-a705-4ee1-80cf-67cd5be4cc44",
   "metadata": {},
   "outputs": [],
   "source": [
    "tup = tup * 3"
   ]
  },
  {
   "cell_type": "code",
   "execution_count": 45,
   "id": "2290ec05-b036-4627-8bdd-6f87d28ed740",
   "metadata": {},
   "outputs": [
    {
     "data": {
      "text/plain": [
       "tuple"
      ]
     },
     "execution_count": 45,
     "metadata": {},
     "output_type": "execute_result"
    }
   ],
   "source": [
    "type(tup)"
   ]
  },
  {
   "cell_type": "code",
   "execution_count": null,
   "id": "6dc22eb1-8532-4947-9ee6-3e36b7195c77",
   "metadata": {},
   "outputs": [],
   "source": []
  }
 ],
 "metadata": {
  "kernelspec": {
   "display_name": "Python 3 (ipykernel)",
   "language": "python",
   "name": "python3"
  },
  "language_info": {
   "codemirror_mode": {
    "name": "ipython",
    "version": 3
   },
   "file_extension": ".py",
   "mimetype": "text/x-python",
   "name": "python",
   "nbconvert_exporter": "python",
   "pygments_lexer": "ipython3",
   "version": "3.9.7"
  }
 },
 "nbformat": 4,
 "nbformat_minor": 5
}
