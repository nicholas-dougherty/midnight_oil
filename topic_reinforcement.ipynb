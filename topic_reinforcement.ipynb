{
 "cells": [
  {
   "cell_type": "code",
   "execution_count": 2,
   "id": "eb544b72-54de-4db7-b27c-4cad0ac8495f",
   "metadata": {},
   "outputs": [],
   "source": [
    "import pandas as pd \n",
    "import numpy as np \n",
    "import copy\n",
    "import random"
   ]
  },
  {
   "cell_type": "code",
   "execution_count": 60,
   "id": "892ece60-d2e5-4452-80ad-d10ee067c324",
   "metadata": {},
   "outputs": [],
   "source": [
    "a = list(range(1, 20))\n",
    "b = list(range(21, 35))\n",
    "c = copy.copy(a)\n",
    "d = copy.deepcopy(b)"
   ]
  },
  {
   "cell_type": "code",
   "execution_count": 33,
   "id": "3bb92cd9-1ea7-4080-a9d4-922605b716e2",
   "metadata": {},
   "outputs": [],
   "source": [
    "#In this method, we neither reverse a list in-place(modify the original list),\n",
    "#nor we create any copy of the list. Instead, we get a reverse iterator which\n",
    "#we use to cycle through the list. \n",
    "def reverse(lst):\n",
    "    return [ele for ele in reversed(lst)]"
   ]
  },
  {
   "cell_type": "code",
   "execution_count": 70,
   "id": "a537ab38-f970-43c3-8943-0f45f7f6981a",
   "metadata": {},
   "outputs": [],
   "source": [
    "f = reverse(a)[-8:]\n",
    "g = f + a\n",
    "h = a\n",
    "i = a[3]\n",
    "j = a.copy()"
   ]
  },
  {
   "cell_type": "code",
   "execution_count": 71,
   "id": "469a05f3-c3d7-4d6b-94b8-becbd04331f9",
   "metadata": {},
   "outputs": [
    {
     "name": "stdout",
     "output_type": "stream",
     "text": [
      "[7, 8, 9]\n",
      "[1, 2, 3, 4, 5, 6, 7, 8, 9, 10, 11, 12, 13, 14, 15, 16, 17, 18, 19]\n",
      "[9, 8, 7, 6, 5]\n",
      "[5, 6, 7, 8, 9]\n",
      "8\n"
     ]
    }
   ],
   "source": [
    "a = a[2:9]\n",
    "print(a)\n",
    "print(c)\n",
    "print(f)\n",
    "print(j)\n",
    "print(i)"
   ]
  },
  {
   "cell_type": "code",
   "execution_count": 90,
   "id": "ea45c0bf-ebfd-412b-bfe6-b0357152e961",
   "metadata": {},
   "outputs": [
    {
     "name": "stdout",
     "output_type": "stream",
     "text": [
      "[[1, 2, 3], [4, 5, 6]]\n",
      "[[1, 2, 3], [4, 5, 6]]\n",
      "[[1, 2, 3], [4, 5, 6]]\n"
     ]
    }
   ],
   "source": [
    "aa = [ [1, 2, 3], [4, 5, 6] ]\n",
    "bb = aa.copy()\n",
    "cc = copy.copy(aa)\n",
    "\n",
    "print(aa)\n",
    "print(bb)\n",
    "print(cc)"
   ]
  },
  {
   "cell_type": "code",
   "execution_count": 91,
   "id": "819c9795-ba0d-4e31-91c1-3c1d05bb09d2",
   "metadata": {},
   "outputs": [
    {
     "name": "stdout",
     "output_type": "stream",
     "text": [
      "[[1, 2, 3], [4, 5, 42]]\n",
      "[[1, 2, 3], [4, 5, 42]]\n",
      "[[1, 2, 3], [4, 5, 42]]\n"
     ]
    }
   ],
   "source": [
    "aa[1][2] = 42\n",
    "print(aa)\n",
    "print(bb)\n",
    "print(cc)"
   ]
  },
  {
   "cell_type": "code",
   "execution_count": 92,
   "id": "011c9879-e2e8-422f-8cfa-ddd5a440806b",
   "metadata": {},
   "outputs": [],
   "source": [
    "ee = [8, 9, 10]\n",
    "aa.append(ee)\n",
    "#dd = aa.append([[8, 9, 10]])"
   ]
  },
  {
   "cell_type": "code",
   "execution_count": 93,
   "id": "1c26199d-6532-49d8-8b23-37b3d09695d2",
   "metadata": {},
   "outputs": [
    {
     "name": "stdout",
     "output_type": "stream",
     "text": [
      "[[1, 2, 3], [4, 5, 42], [8, 9, 10]]\n",
      "[[1, 2, 3], [4, 5, 42]]\n",
      "[[1, 2, 3], [4, 5, 42]]\n"
     ]
    }
   ],
   "source": [
    "print(aa)\n",
    "print(bb)\n",
    "print(cc)"
   ]
  },
  {
   "cell_type": "code",
   "execution_count": 95,
   "id": "b94cdc5b-d14f-4abc-9788-e51dd40454dc",
   "metadata": {},
   "outputs": [
    {
     "name": "stdout",
     "output_type": "stream",
     "text": [
      "[['dolphin', 2, 3], [4, 5, 42], [8, 9, 10]]\n",
      "[['dolphin', 2, 3], [4, 5, 42]]\n",
      "[['dolphin', 2, 3], [4, 5, 42]]\n"
     ]
    }
   ],
   "source": [
    "aa[0][0] = 'dolphin'\n",
    "print(aa)\n",
    "print(bb)\n",
    "print(cc)"
   ]
  },
  {
   "cell_type": "code",
   "execution_count": 96,
   "id": "9d5f4541-ac1a-4fbe-b0bc-082758d6d8e9",
   "metadata": {},
   "outputs": [],
   "source": [
    "ff = copy.deepcopy(aa)"
   ]
  },
  {
   "cell_type": "code",
   "execution_count": 99,
   "id": "27c0822b-3634-4c55-a1ca-b9ffac9d8f8c",
   "metadata": {},
   "outputs": [],
   "source": [
    "aa[0][1] = '2deep5u'\n",
    "aa[2][0] = 'seven8'"
   ]
  },
  {
   "cell_type": "code",
   "execution_count": 101,
   "id": "bc37cc81-6284-49d3-a9a0-dbb62d952a83",
   "metadata": {},
   "outputs": [
    {
     "name": "stdout",
     "output_type": "stream",
     "text": [
      "[['dolphin', '2deep5u', 3], [4, 5, 42], ['seven8', 9, 10]]\n",
      "[['dolphin', '2deep5u', 3], [4, 5, 42]]\n",
      "[['dolphin', '2deep5u', 3], [4, 5, 42]]\n",
      "[['dolphin', 2, 3], [4, 5, 42], [8, 9, 10]]\n"
     ]
    }
   ],
   "source": [
    "print(aa)\n",
    "print(bb)\n",
    "print(cc)\n",
    "print(ff)"
   ]
  },
  {
   "cell_type": "code",
   "execution_count": 102,
   "id": "0d8ade40-aec3-4665-9662-46f6f085db3d",
   "metadata": {},
   "outputs": [],
   "source": [
    "# Reversing a list using slicing technique\n",
    "#In this technique, a copy of the list is made and the list is not sorted in-place.\n",
    "#Creating a copy requires more space to hold all of the existing elements.\n",
    "#This exhausts more memory. \n",
    "def Reverse2(lst):\n",
    "    new_lst = lst[::-1]\n",
    "    return new_lst"
   ]
  },
  {
   "cell_type": "code",
   "execution_count": null,
   "id": "b27f5388-9776-4a52-b9f4-781f2010b028",
   "metadata": {},
   "outputs": [],
   "source": []
  }
 ],
 "metadata": {
  "kernelspec": {
   "display_name": "Python 3 (ipykernel)",
   "language": "python",
   "name": "python3"
  },
  "language_info": {
   "codemirror_mode": {
    "name": "ipython",
    "version": 3
   },
   "file_extension": ".py",
   "mimetype": "text/x-python",
   "name": "python",
   "nbconvert_exporter": "python",
   "pygments_lexer": "ipython3",
   "version": "3.9.7"
  }
 },
 "nbformat": 4,
 "nbformat_minor": 5
}
